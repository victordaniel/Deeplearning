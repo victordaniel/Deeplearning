{
  "nbformat": 4,
  "nbformat_minor": 0,
  "metadata": {
    "colab": {
      "name": "Copy of Untitled7.ipynb",
      "provenance": [],
      "machine_shape": "hm",
      "authorship_tag": "ABX9TyMhIeUPZbHgdtw0uJNY80kI",
      "include_colab_link": true
    },
    "kernelspec": {
      "name": "python3",
      "display_name": "Python 3"
    },
    "accelerator": "GPU"
  },
  "cells": [
    {
      "cell_type": "markdown",
      "metadata": {
        "id": "view-in-github",
        "colab_type": "text"
      },
      "source": [
        "<a href=\"https://colab.research.google.com/github/victordaniel/Deeplearning/blob/master/Copy_of_ML.ipynb\" target=\"_parent\"><img src=\"https://colab.research.google.com/assets/colab-badge.svg\" alt=\"Open In Colab\"/></a>"
      ]
    },
    {
      "cell_type": "code",
      "metadata": {
        "id": "OFz-e03nW7nR",
        "colab_type": "code",
        "colab": {}
      },
      "source": [
        ""
      ],
      "execution_count": 0,
      "outputs": []
    },
    {
      "cell_type": "code",
      "metadata": {
        "id": "1e4rT2ZkW9Ap",
        "colab_type": "code",
        "colab": {}
      },
      "source": [
        "import numpy as np\n",
        "import pandas as pd\n",
        "import matplotlib.pyplot as plt\n",
        "import h5py\n",
        "import scipy\n",
        "from PIL import Image, ImageTk\n",
        "from scipy import ndimage\n",
        "from lr_utils import load_dataset\n",
        "\n",
        "#----------------------Load and clean the dataset----------------------------------------\n",
        "\n",
        "#Load the data (cat/not cat dataset)\n",
        "\n",
        "#Lets visualize the train set\n",
        "print(train_set_x_orig)\n",
        "print(train_set_y)\n",
        "print(classes)\n",
        "\n",
        "#Example of image to test and see if the import worked\n",
        "#index = 20\n",
        "#plt.imshow(train_set_x_orig[index])\n",
        "#print(\"y = \" + str(train_set_y[:,index]) + \", it's a '\" + classes[np.squeeze(train_set_y[:,index])].decode(\"utf-8\") + \"' picture.\")\n",
        "\n",
        "#Lets get some basic data about our image numpy arrays\n",
        "m_train = train_set_x_orig.shape[0]\n",
        "m_test = test_set_x_orig.shape[0]\n",
        "num_px = train_set_x_orig.shape[1]\n",
        "\n",
        "print(\"Number of training examples: m_train = \" + str(m_train))\n",
        "print(\"Number of test examples: m_test = \" + str(m_test))\n",
        "print(\"Height/Width of each image: num_px = \" + str(num_px))\n",
        "print(\"Each image is of size: (\"+ str(num_px) + \", \" + str(num_px) + \", 3)\")\n",
        "print(\"train_set_x shape: \" + str(train_set_x_orig.shape))\n",
        "print(\"train_set_y shape: \" + str(train_set_y.shape))\n",
        "print(\"test_set_x shape : \" + str(test_set_x_orig.shape))\n",
        "print(\"test_set_y shape: \"+ str(test_set_y.shape))\n",
        "\n",
        "#Will now flatten the numpy array from (num_px, num_px, 3) to (num_px*num_px*3, 1) \n",
        "#this will make it easier for us so that each image in one numpy array column\n",
        "train_set_x_flatten = train_set_x_orig.reshape(train_set_x_orig.shape[0], -1).T\n",
        "test_set_x_flatten = test_set_x_orig.reshape(test_set_x_orig.shape[0], -1).T\n",
        "\n",
        "print(\"train_set_x_flatten shape: \" + str(train_set_x_flatten.shape))\n",
        "print(\"train_set_y shape: \" + str(train_set_y.shape))\n",
        "print(\"test_set_x_flatten shape: \"+ str(test_set_x_flatten.shape))\n",
        "print(\"test_set_y shape: \"+ str(test_set_y.shape))\n",
        "\n",
        "#Standardize the dataset for images by dividing each by 255\n",
        "train_set_x = train_set_x_flatten/255\n",
        "test_set_x = test_set_x_flatten/255\n",
        "\n",
        "#--------------------------Build the Logisitic Regression framework-------------------------\n",
        "\n",
        "#We will be using a sigmoid function for our Activation, in Neural Networks most are not ReLU due to speed of calc\n",
        "\n",
        "def sigmoid(z):\n",
        "    s = 1/(1+np.exp(-(z)))\n",
        "    return s\n",
        "\n",
        "#Create function to set both w and b to 0 to start with\n",
        "def initialize_with_zeros(dim):\n",
        "    w = np.zeros((dim,1))\n",
        "    b = 0\n",
        "    return w,b\n",
        "\n",
        "#Create a function that calculates the current SSE\n",
        "def propagate(w, b, X, Y):\n",
        "    m = X.shape[1]\n",
        "    A = sigmoid(np.dot(w.T,X)+b)\n",
        "    cost = -1/m * np.sum(Y*np.log(A)+(1-Y)*np.log(1-A))\n",
        "    dw = (1/m) * (np.dot(X,(A-Y).T))\n",
        "    db = (1/m) * (np.sum(A-Y))\n",
        "    \n",
        "    cost = np.squeeze(cost)\n",
        "    \n",
        "    grads = {\"dw\": dw, \"db\": db}\n",
        "    \n",
        "    return grads, cost\n",
        "\n",
        "#Create a function that moves the estimates around and calculates the SSE to find optimal w and b\n",
        "def optimize(w, b, X, Y, num_iterations, learning_rate, print_cost = False):\n",
        "    costs = []\n",
        "    for i in range(num_iterations):\n",
        "        grads, cost = propagate(w,b,X,Y)\n",
        "        dw = grads[\"dw\"]\n",
        "        db = grads[\"db\"]\n",
        "        w = w-learning_rate*dw\n",
        "        b = b-learning_rate*db\n",
        "        if i % 100 == 0:\n",
        "            costs.append(cost)\n",
        "        if print_cost and i % 100 == 0:\n",
        "            print(\"Cost after iteration %i: %f\" %(i, cost))\n",
        "    \n",
        "    params = {\"w\":w,\"b\":b}\n",
        "    grads = {\"dw\":dw,\"db\":db}\n",
        "    \n",
        "    return params, grads, costs\n",
        "\n",
        "def predict(w, b, X):\n",
        "    m = X.shape[1]\n",
        "    Y_prediction = np.zeros((1,m))\n",
        "    w = w.reshape(X.shape[0],1)\n",
        "    A = sigmoid(np.dot(w.T,X)+b)\n",
        "    for i in range(A.shape[1]):\n",
        "        if A[0,i] <= 0.5:\n",
        "            Y_prediction[0,i] = 0\n",
        "        else:\n",
        "            Y_prediction[0,i] = 1\n",
        "            \n",
        "    return Y_prediction\n",
        "\n",
        "#----------------------Merge all the components in to a model----------------------------\n",
        "\n",
        "def model(X_train, Y_train, X_test, Y_test, num_iterations = 2000, learning_rate = 0.5, print_cost = False):\n",
        "    global D\n",
        "    #Initialize paramters with 0\n",
        "    w,b = initialize_with_zeros(X_train.shape[0])\n",
        "    #Perform Gradient Descent\n",
        "    parameters, grads, costs = optimize(w,b,X_train,Y_train,num_iterations,learning_rate,print_cost)\n",
        "    #Retrieve parameters w and b from dictionary \"parameters\"\n",
        "    w = parameters[\"w\"]\n",
        "    b = parameters[\"b\"]\n",
        "    #Predict test/train set examples\n",
        "    Y_prediction_test = predict(w,b,X_test)\n",
        "    Y_prediction_train = predict(w,b,X_train)\n",
        "    #Print train/test errors\n",
        "    print(\"train accuracy: {} %\".format(100-np.mean(np.abs(Y_prediction_train-Y_train))*100))\n",
        "    print(\"test accuracy: {} %\".format(100-np.mean(np.abs(Y_prediction_test-Y_test))*100))\n",
        "    \n",
        "    d = {\"costs\": costs,\n",
        "         \"Y_prediction_test\": Y_prediction_test,\n",
        "         \"Y_prediction_train\": Y_prediction_train,\n",
        "         \"w\":w,\n",
        "         \"b\":b,\n",
        "         \"learning_rate\": learning_rate,\n",
        "         \"num_iterations\": num_iterations}\n",
        "    D = d\n",
        "\n",
        "\n",
        "#----------------------Test on our own image----------------------------------------\n",
        "\n",
        "def run_on_own_image(my_image):\n",
        "    fname = my_image\n",
        "    image = np.array(ndimage.imread(fname,flatten=False))\n",
        "    my_image = scipy.misc.imresize(image, size=(num_px,num_px)).reshape((1,num_px*num_px*3)).T\n",
        "    my_predicted_image = predict(D[\"w\"], D[\"b\"],my_image)\n",
        "    \n",
        "    #plt.imshow(image)\n",
        "    print(\"y = \" + str(np.squeeze(my_predicted_image)) + \", your algorithm predicted a \\\"\" \n",
        "      + classes[int(np.squeeze(my_predicted_image)),].decode(\"utf-8\") + \"\\\" picture.\")\n",
        "    labelText = tk.Label(text=\"Your algorithm predicted a \" + classes[int(np.squeeze(my_predicted_image)),].decode(\"utf-8\"))\n",
        "    labelText.text = \"Your algorithm predicted a \" + classes[int(np.squeeze(my_predicted_image)),].decode(\"utf-8\")\n",
        "    labelText.pack()    \n",
        "    img = Image.open(fname)\n",
        "    img = img.resize((300,300), Image.ANTIALIAS)\n",
        "    photo = ImageTk.PhotoImage(img)\n",
        "    label = tk.Label(image=photo)\n",
        "    label.image = photo\n",
        "    label.pack()\n",
        "\n",
        "def choose_file():\n",
        "    global fileNameGlobal\n",
        "    filename = askopenfilename()\n",
        "    fileNameGlobal = filename\n",
        "#--------------------------Run the model------------------------------------------------\n",
        "\n",
        "#d = model(train_set_x, train_set_y, test_set_x, test_set_y, num_iterations=2000, learning_rate=0.005, print_cost=True)\n",
        "import tkinter as tk\n",
        "from tkinter.filedialog import askopenfilename\n",
        "\n",
        "master = tk.Tk()\n",
        "\n",
        "trainButton = tk.Button(master, text=\"Train Model\", command = lambda: model(train_set_x, train_set_y, test_set_x, test_set_y, num_iterations=2000, learning_rate=0.005, print_cost=True))\n",
        "trainButton.pack()\n",
        "\n",
        "fileButton = tk.Button(master, text=\"Choose your own file\", command=choose_file)\n",
        "fileButton.pack()\n",
        "\n",
        "ownImageButton = tk.Button(master, text=\"Test Own Image\", command = lambda: run_on_own_image(fileNameGlobal))\n",
        "ownImageButton.pack()\n",
        "\n",
        "tk.mainloop()"
      ],
      "execution_count": 0,
      "outputs": []
    },
    {
      "cell_type": "code",
      "metadata": {
        "id": "gwiv6fFnXOt8",
        "colab_type": "code",
        "outputId": "1ec61f8e-1fad-4488-d303-83fc1d87321c",
        "colab": {
          "base_uri": "https://localhost:8080/",
          "height": 34
        }
      },
      "source": [
        "from google.colab import drive\n",
        "drive.mount('/content/drive')\n",
        "import numpy as np \n",
        "import struct\n",
        "import matplotlib.pyplot as plt\n"
      ],
      "execution_count": 3,
      "outputs": [
        {
          "output_type": "stream",
          "text": [
            "Drive already mounted at /content/drive; to attempt to forcibly remount, call drive.mount(\"/content/drive\", force_remount=True).\n"
          ],
          "name": "stdout"
        }
      ]
    },
    {
      "cell_type": "code",
      "metadata": {
        "id": "L-xmfzKDXPm1",
        "colab_type": "code",
        "colab": {}
      },
      "source": [
        "import os\n",
        "os.chdir('/content/drive/My Drive')\n",
        "os.listdir('/content/drive/My Drive/mnist/')\n",
        "def read_image_file(fname):\n",
        "   fin = open(fname,'rb');\n",
        "   mnum =  struct.unpack('>i',fin.read(4)) \n",
        "   nimages =  struct.unpack('>i',fin.read(4)) \n",
        "   nrows =   struct.unpack('>i',fin.read(4)) \n",
        "   ncols =   struct.unpack('>i',fin.read(4)) \n",
        "   dim = nrows[0]*ncols[0] ;\n",
        "   x = np.array(list(fin.read()));\n",
        "   x = x.reshape(nimages[0],dim);\n",
        "   fin.close()\n",
        "   return x;\n",
        "def read_label_file(fname):\n",
        "   fin = open(fname,'rb');\n",
        "   mnum =  struct.unpack('>i',fin.read(4))\n",
        "   nimages =  struct.unpack('>i',fin.read(4))  \n",
        "   x = np.array(list(fin.read()));\n",
        "   x = x.reshape(nimages[0],1);\n",
        "   fin.close()\n",
        "   return x;"
      ],
      "execution_count": 0,
      "outputs": []
    },
    {
      "cell_type": "code",
      "metadata": {
        "id": "b8D-sguqXQXS",
        "colab_type": "code",
        "colab": {}
      },
      "source": [
        "X = read_image_file('mnist/train-images-idx3-ubyte');\n",
        "Y = read_label_file('mnist/train-labels-idx1-ubyte');\n",
        "test_x = read_image_file('mnist/t10k-images-idx3-ubyte');\n",
        "test_y = read_label_file('mnist/t10k-labels-idx1-ubyte');"
      ],
      "execution_count": 0,
      "outputs": []
    },
    {
      "cell_type": "code",
      "metadata": {
        "id": "A4ln_TBa-FWh",
        "colab_type": "code",
        "colab": {
          "base_uri": "https://localhost:8080/",
          "height": 51
        },
        "outputId": "6d619abd-dad6-4398-d528-01218267a870"
      },
      "source": [
        "print(X.shape)\n",
        "print(Y.shape)"
      ],
      "execution_count": 6,
      "outputs": [
        {
          "output_type": "stream",
          "text": [
            "(60000, 784)\n",
            "(60000, 1)\n"
          ],
          "name": "stdout"
        }
      ]
    },
    {
      "cell_type": "code",
      "metadata": {
        "id": "fuocdMx8XQkJ",
        "colab_type": "code",
        "outputId": "236508f6-b806-4631-f80c-4d4ec5d22faf",
        "colab": {
          "base_uri": "https://localhost:8080/",
          "height": 299
        }
      },
      "source": [
        "# display one image # \n",
        "\n",
        "print(Y[7,:]);\n",
        "print(X[7,:].shape)\n",
        "x = X[7,:].reshape(28,28);\n",
        "\n",
        "plt.imshow(x.astype('uint8'));\n",
        "plt.show()"
      ],
      "execution_count": 7,
      "outputs": [
        {
          "output_type": "stream",
          "text": [
            "[3]\n",
            "(784,)\n"
          ],
          "name": "stdout"
        },
        {
          "output_type": "display_data",
          "data": {
            "image/png": "[encoded data removed]",
            "text/plain": [
              "<Figure size 432x288 with 1 Axes>"
            ]
          },
          "metadata": {
            "tags": [],
            "needs_background": "light"
          }
        }
      ]
    },
    {
      "cell_type": "markdown",
      "metadata": {
        "id": "tSQ5Npzd-uY1",
        "colab_type": "text"
      },
      "source": [
        "Task 1 \n",
        " Learn a logistic regression classifier to \n",
        " distinguish number three from rest of the classes \n",
        "'''"
      ]
    },
    {
      "cell_type": "markdown",
      "metadata": {
        "id": "W2itDouc_EGs",
        "colab_type": "text"
      },
      "source": [
        "\n",
        "\n",
        "Task 1 Learn a logistic regression classifier to distinguish number three from rest of the classes "
      ]
    },
    {
      "cell_type": "markdown",
      "metadata": {
        "id": "X6RwEAJi_A_8",
        "colab_type": "text"
      },
      "source": [
        "# Make a new array with `1' label for class 3 and `0' \n",
        "# label for other classes"
      ]
    },
    {
      "cell_type": "code",
      "metadata": {
        "id": "e-lh6RCs_MSC",
        "colab_type": "code",
        "colab": {}
      },
      "source": [
        "array=np.array(1)"
      ],
      "execution_count": 0,
      "outputs": []
    },
    {
      "cell_type": "markdown",
      "metadata": {
        "id": "zn7okpwiJMha",
        "colab_type": "text"
      },
      "source": [
        "# Initialize the weights, bias\n",
        "\n"
      ]
    },
    {
      "cell_type": "code",
      "metadata": {
        "id": "8ksB9MqfJDwg",
        "colab_type": "code",
        "colab": {
          "base_uri": "https://localhost:8080/",
          "height": 34
        },
        "outputId": "08effbe7-fe4c-452a-a129-cddbf9420139"
      },
      "source": [
        "rows=X.shape[1]\n",
        "w=np.zeros((60000,784))\n",
        "b=np.zeros(784)\n",
        "print(w.shape)"
      ],
      "execution_count": 9,
      "outputs": [
        {
          "output_type": "stream",
          "text": [
            "(60000, 784)\n"
          ],
          "name": "stdout"
        }
      ]
    },
    {
      "cell_type": "markdown",
      "metadata": {
        "id": "Zzdmf0ULLjZK",
        "colab_type": "text"
      },
      "source": [
        "# Compute the Cross Entropy # (consider writing a function)\n",
        "# Print it \n"
      ]
    },
    {
      "cell_type": "code",
      "metadata": {
        "id": "rEKcgpgZLqLo",
        "colab_type": "code",
        "colab": {
          "base_uri": "https://localhost:8080/",
          "height": 231
        },
        "outputId": "8d9d5637-6673-447e-c389-2db880988f03"
      },
      "source": [
        "#To compute loss ,first compute the predictions\n",
        "o=np.dot(X,w.T)+b\n",
        "#apply sigmoid \n",
        "h_x=1/(1+np.exp(-o))\n",
        "\n",
        "\n",
        "m=X.shape[0]\n",
        "\n",
        "#compute cross entropy\n",
        "J1 = (np.sum((Y*np.log(h_x))+((1-Y)*np.log(1-h_x)))  ) \n",
        "J= (-1/m)*cost1 \n",
        "\n",
        "#print cross entorpy\n",
        "print(J)\n"
      ],
      "execution_count": 1,
      "outputs": [
        {
          "output_type": "error",
          "ename": "NameError",
          "evalue": "ignored",
          "traceback": [
            "\u001b[0;31m---------------------------------------------------------------------------\u001b[0m",
            "\u001b[0;31mNameError\u001b[0m                                 Traceback (most recent call last)",
            "\u001b[0;32m<ipython-input-1-8cbe6733e4db>\u001b[0m in \u001b[0;36m<module>\u001b[0;34m()\u001b[0m\n\u001b[1;32m      1\u001b[0m \u001b[0;31m#To compute loss ,first compute the predictions\u001b[0m\u001b[0;34m\u001b[0m\u001b[0;34m\u001b[0m\u001b[0;34m\u001b[0m\u001b[0m\n\u001b[0;32m----> 2\u001b[0;31m \u001b[0mo\u001b[0m\u001b[0;34m=\u001b[0m\u001b[0mnp\u001b[0m\u001b[0;34m.\u001b[0m\u001b[0mdot\u001b[0m\u001b[0;34m(\u001b[0m\u001b[0mX\u001b[0m\u001b[0;34m,\u001b[0m\u001b[0mw\u001b[0m\u001b[0;34m.\u001b[0m\u001b[0mT\u001b[0m\u001b[0;34m)\u001b[0m\u001b[0;34m+\u001b[0m\u001b[0mb\u001b[0m\u001b[0;34m\u001b[0m\u001b[0;34m\u001b[0m\u001b[0m\n\u001b[0m\u001b[1;32m      3\u001b[0m \u001b[0;31m#apply sigmoid\u001b[0m\u001b[0;34m\u001b[0m\u001b[0;34m\u001b[0m\u001b[0;34m\u001b[0m\u001b[0m\n\u001b[1;32m      4\u001b[0m \u001b[0mh_x\u001b[0m\u001b[0;34m=\u001b[0m\u001b[0;36m1\u001b[0m\u001b[0;34m/\u001b[0m\u001b[0;34m(\u001b[0m\u001b[0;36m1\u001b[0m\u001b[0;34m+\u001b[0m\u001b[0mnp\u001b[0m\u001b[0;34m.\u001b[0m\u001b[0mexp\u001b[0m\u001b[0;34m(\u001b[0m\u001b[0;34m-\u001b[0m\u001b[0mo\u001b[0m\u001b[0;34m)\u001b[0m\u001b[0;34m)\u001b[0m\u001b[0;34m\u001b[0m\u001b[0;34m\u001b[0m\u001b[0m\n\u001b[1;32m      5\u001b[0m \u001b[0;34m\u001b[0m\u001b[0m\n",
            "\u001b[0;31mNameError\u001b[0m: name 'np' is not defined"
          ]
        }
      ]
    },
    {
      "cell_type": "code",
      "metadata": {
        "id": "Eje7RkKKOj50",
        "colab_type": "code",
        "colab": {}
      },
      "source": [
        "## Implement gradient descent \n",
        "for i in range(100): # start with 100 epochs \n",
        "    print(i); # print epoch number\n",
        "\n",
        "    # Compute gradients\n",
        "\n",
        "    # update weights\n",
        "\n",
        "# Reshape the weight into a 28x28 image \n",
        "# and do imshow \n",
        "\n",
        "## Perform testing \n",
        "\n",
        "\n",
        "## Find the accuracy on test data \n"
      ],
      "execution_count": 0,
      "outputs": []
    },
    {
      "cell_type": "markdown",
      "metadata": {
        "id": "P-s4YpB_OoQf",
        "colab_type": "text"
      },
      "source": [
        "## Implement gradient descent"
      ]
    },
    {
      "cell_type": "code",
      "metadata": {
        "id": "Sl1bs4GHOtDi",
        "colab_type": "code",
        "colab": {
          "base_uri": "https://localhost:8080/",
          "height": 1000
        },
        "outputId": "e032d5a5-56b9-4bcd-b978-57676bd15ef9"
      },
      "source": [
        "for i in range(100): # start with 100 epochs \n",
        "    print(i); # print epoch number\n",
        "\n",
        "    # Compute gradients\n",
        "    dw = np.dot((h_x-Y).T,X)\n",
        "    db1=((h_x-Y))\n",
        "    db = db1\n",
        "    # update weights\n",
        "    alpha=0.0001\n",
        "    w=w-alpha*dw\n",
        "    b=b-alpha*db"
      ],
      "execution_count": 56,
      "outputs": [
        {
          "output_type": "stream",
          "text": [
            "0\n",
            "1\n",
            "2\n",
            "3\n",
            "4\n",
            "5\n",
            "6\n",
            "7\n",
            "8\n",
            "9\n",
            "10\n",
            "11\n",
            "12\n",
            "13\n",
            "14\n",
            "15\n",
            "16\n",
            "17\n",
            "18\n",
            "19\n",
            "20\n",
            "21\n",
            "22\n",
            "23\n",
            "24\n",
            "25\n",
            "26\n",
            "27\n",
            "28\n",
            "29\n",
            "30\n",
            "31\n",
            "32\n",
            "33\n",
            "34\n",
            "35\n",
            "36\n",
            "37\n",
            "38\n",
            "39\n",
            "40\n",
            "41\n",
            "42\n",
            "43\n",
            "44\n",
            "45\n",
            "46\n",
            "47\n",
            "48\n",
            "49\n",
            "50\n",
            "51\n",
            "52\n",
            "53\n",
            "54\n",
            "55\n",
            "56\n",
            "57\n",
            "58\n",
            "59\n",
            "60\n",
            "61\n",
            "62\n",
            "63\n",
            "64\n",
            "65\n",
            "66\n",
            "67\n",
            "68\n",
            "69\n",
            "70\n",
            "71\n",
            "72\n",
            "73\n",
            "74\n",
            "75\n",
            "76\n",
            "77\n",
            "78\n",
            "79\n",
            "80\n",
            "81\n",
            "82\n",
            "83\n",
            "84\n",
            "85\n",
            "86\n",
            "87\n",
            "88\n",
            "89\n",
            "90\n",
            "91\n",
            "92\n",
            "93\n",
            "94\n",
            "95\n",
            "96\n",
            "97\n",
            "98\n",
            "99\n"
          ],
          "name": "stdout"
        }
      ]
    },
    {
      "cell_type": "code",
      "metadata": {
        "id": "VvewCTj0WfNC",
        "colab_type": "code",
        "colab": {
          "base_uri": "https://localhost:8080/",
          "height": 643
        },
        "outputId": "e11fe556-2cc7-4a7b-b0a9-56ec28709b1f"
      },
      "source": [
        "print(Y[7,:]);\n",
        "x = w[7,:].T\n",
        "print(x.shape)\n",
        "#.reshape(28,28);\n",
        "\n",
        "plt.imshow(x.astype('uint8'));\n",
        "plt.show()"
      ],
      "execution_count": 65,
      "outputs": [
        {
          "output_type": "stream",
          "text": [
            "[3]\n",
            "(28,)\n"
          ],
          "name": "stdout"
        },
        {
          "output_type": "error",
          "ename": "TypeError",
          "evalue": "ignored",
          "traceback": [
            "\u001b[0;31m---------------------------------------------------------------------------\u001b[0m",
            "\u001b[0;31mTypeError\u001b[0m                                 Traceback (most recent call last)",
            "\u001b[0;32m<ipython-input-65-abe0163d2c22>\u001b[0m in \u001b[0;36m<module>\u001b[0;34m()\u001b[0m\n\u001b[1;32m      4\u001b[0m \u001b[0;31m#.reshape(28,28);\u001b[0m\u001b[0;34m\u001b[0m\u001b[0;34m\u001b[0m\u001b[0;34m\u001b[0m\u001b[0m\n\u001b[1;32m      5\u001b[0m \u001b[0;34m\u001b[0m\u001b[0m\n\u001b[0;32m----> 6\u001b[0;31m \u001b[0mplt\u001b[0m\u001b[0;34m.\u001b[0m\u001b[0mimshow\u001b[0m\u001b[0;34m(\u001b[0m\u001b[0mx\u001b[0m\u001b[0;34m.\u001b[0m\u001b[0mastype\u001b[0m\u001b[0;34m(\u001b[0m\u001b[0;34m'uint8'\u001b[0m\u001b[0;34m)\u001b[0m\u001b[0;34m)\u001b[0m\u001b[0;34m;\u001b[0m\u001b[0;34m\u001b[0m\u001b[0;34m\u001b[0m\u001b[0m\n\u001b[0m\u001b[1;32m      7\u001b[0m \u001b[0mplt\u001b[0m\u001b[0;34m.\u001b[0m\u001b[0mshow\u001b[0m\u001b[0;34m(\u001b[0m\u001b[0;34m)\u001b[0m\u001b[0;34m\u001b[0m\u001b[0;34m\u001b[0m\u001b[0m\n",
            "\u001b[0;32m/usr/local/lib/python3.6/dist-packages/matplotlib/pyplot.py\u001b[0m in \u001b[0;36mimshow\u001b[0;34m(X, cmap, norm, aspect, interpolation, alpha, vmin, vmax, origin, extent, shape, filternorm, filterrad, imlim, resample, url, data, **kwargs)\u001b[0m\n\u001b[1;32m   2649\u001b[0m         \u001b[0mfilternorm\u001b[0m\u001b[0;34m=\u001b[0m\u001b[0mfilternorm\u001b[0m\u001b[0;34m,\u001b[0m \u001b[0mfilterrad\u001b[0m\u001b[0;34m=\u001b[0m\u001b[0mfilterrad\u001b[0m\u001b[0;34m,\u001b[0m \u001b[0mimlim\u001b[0m\u001b[0;34m=\u001b[0m\u001b[0mimlim\u001b[0m\u001b[0;34m,\u001b[0m\u001b[0;34m\u001b[0m\u001b[0;34m\u001b[0m\u001b[0m\n\u001b[1;32m   2650\u001b[0m         resample=resample, url=url, **({\"data\": data} if data is not\n\u001b[0;32m-> 2651\u001b[0;31m         None else {}), **kwargs)\n\u001b[0m\u001b[1;32m   2652\u001b[0m     \u001b[0msci\u001b[0m\u001b[0;34m(\u001b[0m\u001b[0m__ret\u001b[0m\u001b[0;34m)\u001b[0m\u001b[0;34m\u001b[0m\u001b[0;34m\u001b[0m\u001b[0m\n\u001b[1;32m   2653\u001b[0m     \u001b[0;32mreturn\u001b[0m \u001b[0m__ret\u001b[0m\u001b[0;34m\u001b[0m\u001b[0;34m\u001b[0m\u001b[0m\n",
            "\u001b[0;32m/usr/local/lib/python3.6/dist-packages/matplotlib/__init__.py\u001b[0m in \u001b[0;36minner\u001b[0;34m(ax, data, *args, **kwargs)\u001b[0m\n\u001b[1;32m   1563\u001b[0m     \u001b[0;32mdef\u001b[0m \u001b[0minner\u001b[0m\u001b[0;34m(\u001b[0m\u001b[0max\u001b[0m\u001b[0;34m,\u001b[0m \u001b[0;34m*\u001b[0m\u001b[0margs\u001b[0m\u001b[0;34m,\u001b[0m \u001b[0mdata\u001b[0m\u001b[0;34m=\u001b[0m\u001b[0;32mNone\u001b[0m\u001b[0;34m,\u001b[0m \u001b[0;34m**\u001b[0m\u001b[0mkwargs\u001b[0m\u001b[0;34m)\u001b[0m\u001b[0;34m:\u001b[0m\u001b[0;34m\u001b[0m\u001b[0;34m\u001b[0m\u001b[0m\n\u001b[1;32m   1564\u001b[0m         \u001b[0;32mif\u001b[0m \u001b[0mdata\u001b[0m \u001b[0;32mis\u001b[0m \u001b[0;32mNone\u001b[0m\u001b[0;34m:\u001b[0m\u001b[0;34m\u001b[0m\u001b[0;34m\u001b[0m\u001b[0m\n\u001b[0;32m-> 1565\u001b[0;31m             \u001b[0;32mreturn\u001b[0m \u001b[0mfunc\u001b[0m\u001b[0;34m(\u001b[0m\u001b[0max\u001b[0m\u001b[0;34m,\u001b[0m \u001b[0;34m*\u001b[0m\u001b[0mmap\u001b[0m\u001b[0;34m(\u001b[0m\u001b[0msanitize_sequence\u001b[0m\u001b[0;34m,\u001b[0m \u001b[0margs\u001b[0m\u001b[0;34m)\u001b[0m\u001b[0;34m,\u001b[0m \u001b[0;34m**\u001b[0m\u001b[0mkwargs\u001b[0m\u001b[0;34m)\u001b[0m\u001b[0;34m\u001b[0m\u001b[0;34m\u001b[0m\u001b[0m\n\u001b[0m\u001b[1;32m   1566\u001b[0m \u001b[0;34m\u001b[0m\u001b[0m\n\u001b[1;32m   1567\u001b[0m         \u001b[0mbound\u001b[0m \u001b[0;34m=\u001b[0m \u001b[0mnew_sig\u001b[0m\u001b[0;34m.\u001b[0m\u001b[0mbind\u001b[0m\u001b[0;34m(\u001b[0m\u001b[0max\u001b[0m\u001b[0;34m,\u001b[0m \u001b[0;34m*\u001b[0m\u001b[0margs\u001b[0m\u001b[0;34m,\u001b[0m \u001b[0;34m**\u001b[0m\u001b[0mkwargs\u001b[0m\u001b[0;34m)\u001b[0m\u001b[0;34m\u001b[0m\u001b[0;34m\u001b[0m\u001b[0m\n",
            "\u001b[0;32m/usr/local/lib/python3.6/dist-packages/matplotlib/cbook/deprecation.py\u001b[0m in \u001b[0;36mwrapper\u001b[0;34m(*args, **kwargs)\u001b[0m\n\u001b[1;32m    356\u001b[0m                 \u001b[0;34mf\"%(removal)s.  If any parameter follows {name!r}, they \"\u001b[0m\u001b[0;34m\u001b[0m\u001b[0;34m\u001b[0m\u001b[0m\n\u001b[1;32m    357\u001b[0m                 f\"should be pass as keyword, not positionally.\")\n\u001b[0;32m--> 358\u001b[0;31m         \u001b[0;32mreturn\u001b[0m \u001b[0mfunc\u001b[0m\u001b[0;34m(\u001b[0m\u001b[0;34m*\u001b[0m\u001b[0margs\u001b[0m\u001b[0;34m,\u001b[0m \u001b[0;34m**\u001b[0m\u001b[0mkwargs\u001b[0m\u001b[0;34m)\u001b[0m\u001b[0;34m\u001b[0m\u001b[0;34m\u001b[0m\u001b[0m\n\u001b[0m\u001b[1;32m    359\u001b[0m \u001b[0;34m\u001b[0m\u001b[0m\n\u001b[1;32m    360\u001b[0m     \u001b[0;32mreturn\u001b[0m \u001b[0mwrapper\u001b[0m\u001b[0;34m\u001b[0m\u001b[0;34m\u001b[0m\u001b[0m\n",
            "\u001b[0;32m/usr/local/lib/python3.6/dist-packages/matplotlib/cbook/deprecation.py\u001b[0m in \u001b[0;36mwrapper\u001b[0;34m(*args, **kwargs)\u001b[0m\n\u001b[1;32m    356\u001b[0m                 \u001b[0;34mf\"%(removal)s.  If any parameter follows {name!r}, they \"\u001b[0m\u001b[0;34m\u001b[0m\u001b[0;34m\u001b[0m\u001b[0m\n\u001b[1;32m    357\u001b[0m                 f\"should be pass as keyword, not positionally.\")\n\u001b[0;32m--> 358\u001b[0;31m         \u001b[0;32mreturn\u001b[0m \u001b[0mfunc\u001b[0m\u001b[0;34m(\u001b[0m\u001b[0;34m*\u001b[0m\u001b[0margs\u001b[0m\u001b[0;34m,\u001b[0m \u001b[0;34m**\u001b[0m\u001b[0mkwargs\u001b[0m\u001b[0;34m)\u001b[0m\u001b[0;34m\u001b[0m\u001b[0;34m\u001b[0m\u001b[0m\n\u001b[0m\u001b[1;32m    359\u001b[0m \u001b[0;34m\u001b[0m\u001b[0m\n\u001b[1;32m    360\u001b[0m     \u001b[0;32mreturn\u001b[0m \u001b[0mwrapper\u001b[0m\u001b[0;34m\u001b[0m\u001b[0;34m\u001b[0m\u001b[0m\n",
            "\u001b[0;32m/usr/local/lib/python3.6/dist-packages/matplotlib/axes/_axes.py\u001b[0m in \u001b[0;36mimshow\u001b[0;34m(self, X, cmap, norm, aspect, interpolation, alpha, vmin, vmax, origin, extent, shape, filternorm, filterrad, imlim, resample, url, **kwargs)\u001b[0m\n\u001b[1;32m   5613\u001b[0m                               resample=resample, **kwargs)\n\u001b[1;32m   5614\u001b[0m \u001b[0;34m\u001b[0m\u001b[0m\n\u001b[0;32m-> 5615\u001b[0;31m         \u001b[0mim\u001b[0m\u001b[0;34m.\u001b[0m\u001b[0mset_data\u001b[0m\u001b[0;34m(\u001b[0m\u001b[0mX\u001b[0m\u001b[0;34m)\u001b[0m\u001b[0;34m\u001b[0m\u001b[0;34m\u001b[0m\u001b[0m\n\u001b[0m\u001b[1;32m   5616\u001b[0m         \u001b[0mim\u001b[0m\u001b[0;34m.\u001b[0m\u001b[0mset_alpha\u001b[0m\u001b[0;34m(\u001b[0m\u001b[0malpha\u001b[0m\u001b[0;34m)\u001b[0m\u001b[0;34m\u001b[0m\u001b[0;34m\u001b[0m\u001b[0m\n\u001b[1;32m   5617\u001b[0m         \u001b[0;32mif\u001b[0m \u001b[0mim\u001b[0m\u001b[0;34m.\u001b[0m\u001b[0mget_clip_path\u001b[0m\u001b[0;34m(\u001b[0m\u001b[0;34m)\u001b[0m \u001b[0;32mis\u001b[0m \u001b[0;32mNone\u001b[0m\u001b[0;34m:\u001b[0m\u001b[0;34m\u001b[0m\u001b[0;34m\u001b[0m\u001b[0m\n",
            "\u001b[0;32m/usr/local/lib/python3.6/dist-packages/matplotlib/image.py\u001b[0m in \u001b[0;36mset_data\u001b[0;34m(self, A)\u001b[0m\n\u001b[1;32m    697\u001b[0m                 or self._A.ndim == 3 and self._A.shape[-1] in [3, 4]):\n\u001b[1;32m    698\u001b[0m             raise TypeError(\"Invalid shape {} for image data\"\n\u001b[0;32m--> 699\u001b[0;31m                             .format(self._A.shape))\n\u001b[0m\u001b[1;32m    700\u001b[0m \u001b[0;34m\u001b[0m\u001b[0m\n\u001b[1;32m    701\u001b[0m         \u001b[0;32mif\u001b[0m \u001b[0mself\u001b[0m\u001b[0;34m.\u001b[0m\u001b[0m_A\u001b[0m\u001b[0;34m.\u001b[0m\u001b[0mndim\u001b[0m \u001b[0;34m==\u001b[0m \u001b[0;36m3\u001b[0m\u001b[0;34m:\u001b[0m\u001b[0;34m\u001b[0m\u001b[0;34m\u001b[0m\u001b[0m\n",
            "\u001b[0;31mTypeError\u001b[0m: Invalid shape (28,) for image data"
          ]
        },
        {
          "output_type": "display_data",
          "data": {
            "image/png": "[encoded data removed]",
            "text/plain": [
              "<Figure size 432x288 with 1 Axes>"
            ]
          },
          "metadata": {
            "tags": [],
            "needs_background": "light"
          }
        }
      ]
    },
    {
      "cell_type": "markdown",
      "metadata": {
        "id": "eky_0uGrOhWM",
        "colab_type": "text"
      },
      "source": [
        ""
      ]
    },
    {
      "cell_type": "code",
      "metadata": {
        "id": "tt2khAnsOa0Z",
        "colab_type": "code",
        "colab": {}
      },
      "source": [
        ""
      ],
      "execution_count": 0,
      "outputs": []
    },
    {
      "cell_type": "code",
      "metadata": {
        "id": "FYbIP1f-XQvU",
        "colab_type": "code",
        "colab": {
          "base_uri": "https://localhost:8080/",
          "height": 34
        },
        "outputId": "af0a344c-0cf8-4d5b-c8cc-23b1d3decaf7"
      },
      "source": [
        "m_train = X.shape\n",
        "m_test = test_x.shape[0]\n",
        "num_px = X.shape[1]\n",
        "print(m_train)\n"
      ],
      "execution_count": 21,
      "outputs": [
        {
          "output_type": "stream",
          "text": [
            "(60000, 784)\n"
          ],
          "name": "stdout"
        }
      ]
    },
    {
      "cell_type": "code",
      "metadata": {
        "id": "VuUqL5jfpLVK",
        "colab_type": "code",
        "outputId": "fb6d6f54-16e8-4093-d492-5de1153ca4c1",
        "colab": {
          "base_uri": "https://localhost:8080/",
          "height": 241
        }
      },
      "source": [
        "print(m_train),print(m_test),print(num_px)\n",
        "\n",
        "print(\"Number of training examples: m_train = \" + str(m_train))\n",
        "print(\"Number of test examples: m_test = \" + str(m_test))\n",
        "print(\"Height/Width of each image: num_px = \" + str(num_px))\n",
        "print(\"Each image is of size: (\"+ str(num_px) + \", \" + str(num_px) + \", 3)\")\n",
        "print(\"train_set_x shape: \" + str(X.shape))\n",
        "print(\"train_set_y shape: \" + str(Y.shape))\n",
        "print(\"test_set_x shape : \" + str(test_x.shape))\n",
        "print(\"test_set_y shape: \"+ str(test_y.shape))\n",
        "\"\"\"\n",
        "#Will now flatten the numpy array from (num_px, num_px, 3) to (num_px*num_px*3, 1) \n",
        "#this will make it easier for us so that each image in one numpy array column\n",
        "train_set_x_flatten = train_set_x_orig.reshape(train_set_x_orig.shape[0], -1).T\n",
        "test_set_x_flatten = test_set_x_orig.reshape(test_set_x_orig.shape[0], -1).T\n",
        "\n",
        "print(\"train_set_x_flatten shape: \" + str(train_set_x_flatten.shape))\n",
        "print(\"train_set_y shape: \" + str(train_set_y.shape))\n",
        "print(\"test_set_x_flatten shape: \"+ str(test_set_x_flatten.shape))\n",
        "print(\"test_set_y shape: \"+ str(test_set_y.shape))\n",
        "\n",
        "#Standardize the dataset for images by dividing each by 255\n",
        "train_set_x = train_set_x_flatten/255\n",
        "test_set_x = test_set_x_flatten/255\n",
        "\"\"\"\n"
      ],
      "execution_count": 9,
      "outputs": [
        {
          "output_type": "stream",
          "text": [
            "(60000, 784)\n",
            "10000\n",
            "784\n",
            "Number of training examples: m_train = (60000, 784)\n",
            "Number of test examples: m_test = 10000\n",
            "Height/Width of each image: num_px = 784\n",
            "Each image is of size: (784, 784, 3)\n",
            "train_set_x shape: (60000, 784)\n",
            "train_set_y shape: (60000, 1)\n",
            "test_set_x shape : (10000, 784)\n",
            "test_set_y shape: (10000, 1)\n"
          ],
          "name": "stdout"
        },
        {
          "output_type": "execute_result",
          "data": {
            "text/plain": [
              "'\\n#Will now flatten the numpy array from (num_px, num_px, 3) to (num_px*num_px*3, 1) \\n#this will make it easier for us so that each image in one numpy array column\\ntrain_set_x_flatten = train_set_x_orig.reshape(train_set_x_orig.shape[0], -1).T\\ntest_set_x_flatten = test_set_x_orig.reshape(test_set_x_orig.shape[0], -1).T\\n\\nprint(\"train_set_x_flatten shape: \" + str(train_set_x_flatten.shape))\\nprint(\"train_set_y shape: \" + str(train_set_y.shape))\\nprint(\"test_set_x_flatten shape: \"+ str(test_set_x_flatten.shape))\\nprint(\"test_set_y shape: \"+ str(test_set_y.shape))\\n\\n#Standardize the dataset for images by dividing each by 255\\ntrain_set_x = train_set_x_flatten/255\\ntest_set_x = test_set_x_flatten/255\\n'"
            ]
          },
          "metadata": {
            "tags": []
          },
          "execution_count": 9
        }
      ]
    },
    {
      "cell_type": "code",
      "metadata": {
        "id": "twxVwTeepSUA",
        "colab_type": "code",
        "colab": {}
      },
      "source": [
        "def sigmoid(z):\n",
        "    s = 1/(1+np.exp(-(z)))\n",
        "    return s\n",
        "\n",
        "#Create function to set both w and b to 0 to start with\n",
        "def initialize_with_zeros(dim):\n",
        "    w = np.zeros((dim,1))\n",
        "    b = 0\n",
        "    return w,b\n",
        "\n",
        "#Create a function that calculates the current SSE\n",
        "def propagate(w, b, X, Y):\n",
        "    m = X.shape[1]\n",
        "    A = sigmoid(np.dot(w.T,X)+b)\n",
        "    cost = -1/m * np.sum(Y*np.log(A)+(1-Y)*np.log(1-A))\n",
        "    dw = (1/m) * (np.dot(X,(A-Y).T))\n",
        "    db = (1/m) * (np.sum(A-Y))\n",
        "    \n",
        "    cost = np.squeeze(cost)\n",
        "    \n",
        "    grads = {\"dw\": dw, \"db\": db}\n",
        "    \n",
        "    return grads, cost\n",
        "\n",
        "#Create a function that moves the estimates around and calculates the SSE to find optimal w and b\n",
        "def optimize(w, b, X, Y, num_iterations, learning_rate, print_cost = False):\n",
        "    costs = []\n",
        "    for i in range(num_iterations):\n",
        "        grads, cost = propagate(w,b,X,Y)\n",
        "        dw = grads[\"dw\"]\n",
        "        db = grads[\"db\"]\n",
        "        w = w-learning_rate*dw\n",
        "        b = b-learning_rate*db\n",
        "        if i % 100 == 0:\n",
        "            costs.append(cost)\n",
        "        if print_cost and i % 100 == 0:\n",
        "            print(\"Cost after iteration %i: %f\" %(i, cost))\n",
        "    \n",
        "    params = {\"w\":w,\"b\":b}\n",
        "    grads = {\"dw\":dw,\"db\":db}\n",
        "    \n",
        "    return params, grads, costs\n",
        "\n",
        "def predict(w, b, X):\n",
        "    m = X.shape[1]\n",
        "    Y_prediction = np.zeros((1,m))\n",
        "    w = w.reshape(X.shape[0],1)\n",
        "    A = sigmoid(np.dot(w.T,X)+b)\n",
        "    for i in range(A.shape[1]):\n",
        "        if A[0,i] <= 0.5:\n",
        "            Y_prediction[0,i] = 0\n",
        "        else:\n",
        "            Y_prediction[0,i] = 1\n",
        "            \n",
        "    return Y_prediction\n"
      ],
      "execution_count": 0,
      "outputs": []
    },
    {
      "cell_type": "code",
      "metadata": {
        "id": "CiolwE35yotT",
        "colab_type": "code",
        "colab": {}
      },
      "source": [
        "def model(X_train, Y_train, X_test, Y_test, num_iterations = 2000, learning_rate = 0.5, print_cost = False):\n",
        "    global D\n",
        "    #Initialize paramters with 0\n",
        "    w,b = initialize_with_zeros(X_train.shape[0])\n",
        "    #Perform Gradient Descent\n",
        "    parameters, grads, costs = optimize(w,b,X_train,Y_train,num_iterations,learning_rate,print_cost)\n",
        "    #Retrieve parameters w and b from dictionary \"parameters\"\n",
        "    w = parameters[\"w\"]\n",
        "    b = parameters[\"b\"]\n",
        "    #Predict test/train set examples\n",
        "    Y_prediction_test = predict(w,b,X_test)\n",
        "    Y_prediction_train = predict(w,b,X_train)\n",
        "    #Print train/test errors\n",
        "    print(\"train accuracy: {} %\".format(100-np.mean(np.abs(Y_prediction_train-Y_train))*100))\n",
        "    print(\"test accuracy: {} %\".format(100-np.mean(np.abs(Y_prediction_test-Y_test))*100))\n",
        "    \n",
        "    d = {\"costs\": costs,\n",
        "         \"Y_prediction_test\": Y_prediction_test,\n",
        "         \"Y_prediction_train\": Y_prediction_train,\n",
        "         \"w\":w,\n",
        "         \"b\":b,\n",
        "         \"learning_rate\": learning_rate,\n",
        "         \"num_iterations\": num_iterations}\n",
        "    D = d\n",
        "\n",
        "\n",
        "#----------------------Test on our own image----------------------------------------\n",
        "\n",
        "def run_on_own_image(my_image):\n",
        "    fname = my_image\n",
        "    image = np.array(ndimage.imread(fname,flatten=False))\n",
        "    my_image = scipy.misc.imresize(image, size=(num_px,num_px)).reshape((1,num_px*num_px*3)).T\n",
        "    my_predicted_image = predict(D[\"w\"], D[\"b\"],my_image)\n",
        "    \n",
        "    #plt.imshow(image)\n",
        "    print(\"y = \" + str(np.squeeze(my_predicted_image)) + \", your algorithm predicted a \\\"\" \n",
        "      + classes[int(np.squeeze(my_predicted_image)),].decode(\"utf-8\") + \"\\\" picture.\")\n",
        "    labelText = tk.Label(text=\"Your algorithm predicted a \" + classes[int(np.squeeze(my_predicted_image)),].decode(\"utf-8\"))\n",
        "    labelText.text = \"Your algorithm predicted a \" + classes[int(np.squeeze(my_predicted_image)),].decode(\"utf-8\")\n",
        "    labelText.pack()    \n",
        "    img = Image.open(fname)\n",
        "    img = img.resize((300,300), Image.ANTIALIAS)\n",
        "    photo = ImageTk.PhotoImage(img)\n",
        "    label = tk.Label(image=photo)\n",
        "    label.image = photo\n",
        "    label.pack()\n",
        "\n",
        "def choose_file():\n",
        "    global fileNameGlobal\n",
        "    filename = askopenfilename()\n",
        "    fileNameGlobal = filename\n",
        "#--------------------------Run the model------------------------------------------------\n",
        "\n",
        "d = model(X, Y, test_x, test_y, num_iterations=100, learning_rate=0.005, print_cost=True)\n",
        "import tkinter as tk\n",
        "from tkinter.filedialog import askopenfilename\n",
        "\n",
        "master = tk.Tk()\n",
        "\n",
        "trainButton = tk.Button(master, text=\"Train Model\", command = lambda: model(train_set_x, train_set_y, test_set_x, test_set_y, num_iterations=2000, learning_rate=0.005, print_cost=True))\n",
        "trainButton.pack()\n",
        "\n",
        "fileButton = tk.Button(master, text=\"Choose your own file\", command=choose_file)\n",
        "fileButton.pack()\n",
        "\n",
        "ownImageButton = tk.Button(master, text=\"Test Own Image\", command = lambda: run_on_own_image(fileNameGlobal))\n",
        "ownImageButton.pack()\n",
        "\n",
        "tk.mainloop()\n"
      ],
      "execution_count": 0,
      "outputs": []
    },
    {
      "cell_type": "code",
      "metadata": {
        "id": "dpqxjiu3zU9d",
        "colab_type": "code",
        "colab": {}
      },
      "source": [
        ""
      ],
      "execution_count": 0,
      "outputs": []
    }
  ]
}
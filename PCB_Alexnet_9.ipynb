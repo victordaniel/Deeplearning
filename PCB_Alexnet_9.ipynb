{
  "nbformat": 4,
  "nbformat_minor": 0,
  "metadata": {
    "colab": {
      "name": "PCB_Alexnet.ipynb",
      "provenance": [],
      "collapsed_sections": [
        "UdDUSm89wjvi"
      ],
      "machine_shape": "hm",
      "include_colab_link": true
    },
    "kernelspec": {
      "name": "python3",
      "display_name": "Python 3"
    },
    "accelerator": "GPU"
  },
  "cells": [
    {
      "cell_type": "markdown",
      "metadata": {
        "id": "view-in-github",
        "colab_type": "text"
      },
      "source": [
        "<a href=\"https://colab.research.google.com/github/victordaniel/Deeplearning/blob/master/PCB_Alexnet_9.ipynb\" target=\"_parent\"><img src=\"https://colab.research.google.com/assets/colab-badge.svg\" alt=\"Open In Colab\"/></a>"
      ]
    },
    {
      "cell_type": "markdown",
      "metadata": {
        "id": "cqnoWGjx1iIC",
        "colab_type": "text"
      },
      "source": [
        "**Imports**"
      ]
    },
    {
      "cell_type": "code",
      "metadata": {
        "id": "yi98Z22q1jIv",
        "colab_type": "code",
        "outputId": "1d4b0d6c-03d4-4fbd-ee33-ec799194fe21",
        "colab": {
          "base_uri": "https://localhost:8080/",
          "height": 34
        }
      },
      "source": [
        "%tensorflow_version 1.x\n",
        " "
      ],
      "execution_count": 1,
      "outputs": [
        {
          "output_type": "stream",
          "text": [
            "TensorFlow 1.x selected.\n"
          ],
          "name": "stdout"
        }
      ]
    },
    {
      "cell_type": "code",
      "metadata": {
        "id": "uT4YaLEJXOxi",
        "colab_type": "code",
        "colab": {}
      },
      "source": [
        "from tensorflow.python.keras.layers import Dense\n",
        "from tensorflow.python.keras import Sequential\n"
      ],
      "execution_count": 0,
      "outputs": []
    },
    {
      "cell_type": "code",
      "metadata": {
        "id": "URQQuXeXadGq",
        "colab_type": "code",
        "outputId": "333b33e8-a4cb-4332-ab7e-d30b39c9159a",
        "colab": {
          "base_uri": "https://localhost:8080/",
          "height": 34
        }
      },
      "source": [
        "\n",
        "from matplotlib import pyplot\n",
        "%matplotlib inline\n",
        "#from scipy.misc import toimage\n",
        "import numpy\n",
        "from keras.models import Sequential\n",
        "from keras.layers import Dense\n",
        "from keras.layers import Dropout\n",
        "from keras.layers import Flatten\n",
        "from keras.constraints import maxnorm\n",
        "from keras.optimizers import SGD\n",
        "from keras.layers.convolutional import Conv2D\n",
        "from keras.layers import BatchNormalization\n",
        "from keras.layers.convolutional import MaxPooling2D\n",
        "from keras.utils import np_utils\n",
        "from keras import backend as K\n",
        "from sklearn.model_selection import train_test_split\n",
        "#K.set_image_dim_ordering('tf')\n"
      ],
      "execution_count": 3,
      "outputs": [
        {
          "output_type": "stream",
          "text": [
            "Using TensorFlow backend.\n"
          ],
          "name": "stderr"
        }
      ]
    },
    {
      "cell_type": "code",
      "metadata": {
        "id": "OqRLtJ8tWsCD",
        "colab_type": "code",
        "outputId": "d194a0d3-8d38-419f-ab1c-36a69506f390",
        "colab": {
          "base_uri": "https://localhost:8080/",
          "height": 85
        }
      },
      "source": [
        "%tensorflow_version"
      ],
      "execution_count": 4,
      "outputs": [
        {
          "output_type": "stream",
          "text": [
            "Currently selected TF version: 1.x\n",
            "Available versions:\n",
            "* 1.x\n",
            "* 2.x\n"
          ],
          "name": "stdout"
        }
      ]
    },
    {
      "cell_type": "code",
      "metadata": {
        "id": "5I0tVzV7v7Cb",
        "colab_type": "code",
        "outputId": "a101a4c6-b157-4d3d-e21a-d0178cf38230",
        "colab": {
          "base_uri": "https://localhost:8080/",
          "height": 122
        }
      },
      "source": [
        "from google.colab import drive\n",
        "\n",
        "drive.mount('/content/drive')"
      ],
      "execution_count": 5,
      "outputs": [
        {
          "output_type": "stream",
          "text": [
            "Go to this URL in a browser: https://accounts.google.com/o/oauth2/auth?client_id=947318989803-6bn6qk8qdgf4n4g3pfee6491hc0brc4i.apps.googleusercontent.com&redirect_uri=urn%3aietf%3awg%3aoauth%3a2.0%3aoob&response_type=code&scope=email%20https%3a%2f%2fwww.googleapis.com%2fauth%2fdocs.test%20https%3a%2f%2fwww.googleapis.com%2fauth%2fdrive%20https%3a%2f%2fwww.googleapis.com%2fauth%2fdrive.photos.readonly%20https%3a%2f%2fwww.googleapis.com%2fauth%2fpeopleapi.readonly\n",
            "\n",
            "Enter your authorization code:\n",
            "··········\n",
            "Mounted at /content/drive\n"
          ],
          "name": "stdout"
        }
      ]
    },
    {
      "cell_type": "code",
      "metadata": {
        "id": "aZGfSuz-XK82",
        "colab_type": "code",
        "outputId": "20fdbfdd-721c-4a3d-ef2a-595ad5cb7779",
        "colab": {
          "base_uri": "https://localhost:8080/",
          "height": 88
        }
      },
      "source": [
        "import os\n",
        "print(os.getcwd())\n",
        "print(os.chdir('/content/drive/My Drive/'))\n",
        "print(os.listdir())"
      ],
      "execution_count": 6,
      "outputs": [
        {
          "output_type": "stream",
          "text": [
            "/content\n",
            "None\n",
            "['s_x_train (1).npy', 's_x_train.npy', 'pcb_aug.npy', 'pcb_aug_y.npy', 'Getting started.pdf', '2017-ieee-Anomaly-Detection-in-Online-Social-Network-A-Survey.pdf', '01565707.pdf', '6-oddball.pdf', 'A-comparative-analysis-of-structural-graph-metrics-t_2017_Computers---Electr.pdf', 'Anomaly detection in multiplex network.docx', 'Anomaly detection in multiplex network.pdf', 'anomaly detection in multiplex networks.html', 'anomaly detection in social networks.pdf', 'definitions.pdf', 'easy.pdf', 'eigen vector anomaly detection.pdf', 'evolving data survey.pdf', 'facebook.tar.gz', 'graph based kmeans clustering.pdf', 'graph similarity.pdf', 'Graph_Cluster_Analysis.pdf', 'GraphClustering_Schaeffer07.pdf', 'hadassah.pdf', 'imp.pdf', 'Graphtheory.pdf', 'image.png', 'M.Tech. DA Syllabus1.pdf', 'matrix factorization.pdf', 'Networks An introduction.pdf', 'New Text Document.txt', 'nguyen-phan-anh-bsc.pdf', 'Notes (1).docx', 'oddball_Technical report.pdf', 'phd thesis preliminary  work.pdf', 'PPT1.pptx', 'PPT [Autosaved].pptx', 'PPT.pptx', 'PPT-graph_theory_1-11.pdf', 'PPT-Graph.pdf', 'rsingh kaur detecting anomalies in online social networks.pdf', 'SCAN.pdf', 'srivastava.pdf', 'stream graphs survey.pdf', 'streaming data.pdf', 'subgraph anomaly.pdf', 'survey11.pdf', 'thesis-large scale data processing.pdf', 'survey.ppt', 'triangle counting.pdf', 'vaisa.docx', 'thesis.pdf', 'writeup.docx', 'Colab Notebooks', 'Project', 'data.xlsx', 'Anomaly_Graph_Neural_Net-master', 'fwdtutorialclass', 'mnist', 'train.csv', 'PCB', 'x_train.npy', 'y_train.npy', 'Copy of xtrain.npy', 'Copy of ytrain.npy', 'raw_x_train.npy', 'raw_y_train.npy']\n"
          ],
          "name": "stdout"
        }
      ]
    },
    {
      "cell_type": "code",
      "metadata": {
        "id": "ToGR7e_y_fIO",
        "colab_type": "code",
        "colab": {}
      },
      "source": [
        "from IPython.display import Image,display\n",
        "#display(Image(filename='/content/drive/My Drive/SSDL/Day2/Image/alex.png',embed=True))"
      ],
      "execution_count": 0,
      "outputs": []
    },
    {
      "cell_type": "code",
      "metadata": {
        "id": "GC7V1kd3WS26",
        "colab_type": "code",
        "colab": {}
      },
      "source": [
        ""
      ],
      "execution_count": 0,
      "outputs": []
    },
    {
      "cell_type": "code",
      "metadata": {
        "id": "jm_m4mk7C3NS",
        "colab_type": "code",
        "outputId": "e131cc06-0d5f-4b27-b870-8b17c607146f",
        "colab": {
          "base_uri": "https://localhost:8080/",
          "height": 51
        }
      },
      "source": [
        "import numpy as np\n",
        "data_x=np.load('x_train.npy')\n",
        "data_y=np.load('y_train.npy')\n",
        "#print(len(data_x))\n",
        "#print(len(data_y))\n",
        "#train_x=data_x\n",
        "#train_y=data_y\n",
        "##print(train_x.shape)\n",
        "#print(train_y.shape)\n",
        "#print(np.unique(train_y))\n",
        "from sklearn.model_selection import train_test_split\n",
        "\n",
        "#X_train, X_test, y_train, y_test = train_test_split(train_x, train_y, test_size=0.2)\n",
        "X_train,  y_train = data_x, data_y\n",
        "#X_test=np.load('Copy of xtrain.npy')\n",
        "#y_test=np.load('Copy of ytrain.npy')\n",
        "\n",
        "\n",
        "print(X_train.shape)\n",
        "print(y_train.shape)\n",
        "\n"
      ],
      "execution_count": 8,
      "outputs": [
        {
          "output_type": "stream",
          "text": [
            "(5040, 300, 300, 3)\n",
            "(5040,)\n"
          ],
          "name": "stdout"
        }
      ]
    },
    {
      "cell_type": "code",
      "metadata": {
        "id": "KEqXDn_-Cohg",
        "colab_type": "code",
        "colab": {}
      },
      "source": [
        "\n",
        "X_test=np.load('Copy of xtrain.npy')\n",
        "y_test=np.load('Copy of ytrain.npy')"
      ],
      "execution_count": 0,
      "outputs": []
    },
    {
      "cell_type": "code",
      "metadata": {
        "id": "vCI23a9euM12",
        "colab_type": "code",
        "colab": {
          "base_uri": "https://localhost:8080/",
          "height": 34
        },
        "outputId": "adfb5110-95f0-404d-9f81-abf9f5daf5ec"
      },
      "source": [
        "\"\"\"\"\n",
        "#X_train,  y_train = data_x, data_y\n",
        "X_test=np.load('raw_x_train.npy')\n",
        "y_test=np.load('raw_y_train.npy')\n",
        "\"\"\""
      ],
      "execution_count": 10,
      "outputs": [
        {
          "output_type": "execute_result",
          "data": {
            "text/plain": [
              "'\"\\n#X_train,  y_train = data_x, data_y\\nX_test=np.load(\\'raw_x_train.npy\\')\\ny_test=np.load(\\'raw_y_train.npy\\')\\n'"
            ]
          },
          "metadata": {
            "tags": []
          },
          "execution_count": 10
        }
      ]
    },
    {
      "cell_type": "code",
      "metadata": {
        "id": "bp8INPwY9Bm3",
        "colab_type": "code",
        "outputId": "ecc8a091-977c-4360-88d7-4d6c1703a337",
        "colab": {
          "base_uri": "https://localhost:8080/",
          "height": 85
        }
      },
      "source": [
        "print(len(X_train))\n",
        "print(len(y_train))\n",
        "print(len(X_test))\n",
        "print(len(y_test))"
      ],
      "execution_count": 11,
      "outputs": [
        {
          "output_type": "stream",
          "text": [
            "5040\n",
            "5040\n",
            "298\n",
            "298\n"
          ],
          "name": "stdout"
        }
      ]
    },
    {
      "cell_type": "code",
      "metadata": {
        "id": "jcbAIDa4OGjv",
        "colab_type": "code",
        "outputId": "fdbeae4c-c4cf-469a-d3af-a90bc57a1751",
        "colab": {
          "base_uri": "https://localhost:8080/",
          "height": 34
        }
      },
      "source": [
        "print(np.unique(y_test))"
      ],
      "execution_count": 12,
      "outputs": [
        {
          "output_type": "stream",
          "text": [
            "[0. 1.]\n"
          ],
          "name": "stdout"
        }
      ]
    },
    {
      "cell_type": "code",
      "metadata": {
        "id": "Q_vFpdGS9QRN",
        "colab_type": "code",
        "outputId": "15ac67bb-09b6-43d1-8f0f-800bf991b8f2",
        "colab": {
          "base_uri": "https://localhost:8080/",
          "height": 85
        }
      },
      "source": [
        "print(X_train.shape)\n",
        "print(y_train.shape)\n",
        "print(X_test.shape)\n",
        "print(y_test.shape)"
      ],
      "execution_count": 13,
      "outputs": [
        {
          "output_type": "stream",
          "text": [
            "(5040, 300, 300, 3)\n",
            "(5040,)\n",
            "(298, 300, 300, 3)\n",
            "(298,)\n"
          ],
          "name": "stdout"
        }
      ]
    },
    {
      "cell_type": "markdown",
      "metadata": {
        "id": "TjlL-TMDlUDU",
        "colab_type": "text"
      },
      "source": [
        "**Pre-Processing**"
      ]
    },
    {
      "cell_type": "code",
      "metadata": {
        "id": "pR0tRV4P2XtI",
        "colab_type": "code",
        "colab": {}
      },
      "source": [
        "X_train = X_train.astype('float32')\n",
        "X_test = X_test.astype('float32')\n",
        "X_train = X_train / 255.0\n",
        "X_test = X_test / 255.0"
      ],
      "execution_count": 0,
      "outputs": []
    },
    {
      "cell_type": "code",
      "metadata": {
        "id": "kSY7SyaQ2blN",
        "colab_type": "code",
        "colab": {}
      },
      "source": [
        "y_train = np_utils.to_categorical(y_train)\n",
        "y_test = np_utils.to_categorical(y_test)\n",
        "num_classes = y_test.shape[1]"
      ],
      "execution_count": 0,
      "outputs": []
    },
    {
      "cell_type": "code",
      "metadata": {
        "id": "AcXLq5oOlHJD",
        "colab_type": "code",
        "colab": {}
      },
      "source": [
        "from keras.optimizers import adam\n",
        "from keras import regularizers"
      ],
      "execution_count": 0,
      "outputs": []
    },
    {
      "cell_type": "markdown",
      "metadata": {
        "id": "KUZNDYUkmwkm",
        "colab_type": "text"
      },
      "source": [
        "**AlexNet Model**"
      ]
    },
    {
      "cell_type": "code",
      "metadata": {
        "id": "yfGBezzS2kal",
        "colab_type": "code",
        "outputId": "2c8f5cac-82b1-41f9-8810-bdb44db87a81",
        "colab": {
          "base_uri": "https://localhost:8080/",
          "height": 54
        }
      },
      "source": [
        "\"\"\"\n",
        "def AlexNet_model():\n",
        "\n",
        "    model = Sequential()\n",
        "    \n",
        "    model.add(Conv2D(32, (3, 3), input_shape=(300, 300, 3), activation='relu',padding='same'))\n",
        "    model.add(MaxPooling2D(pool_size=(2, 2)))\n",
        "    \n",
        "    \n",
        "    model.add(Conv2D(32, (3, 3), activation='relu',padding='same'))\n",
        "    model.add(MaxPooling2D(pool_size=(2, 2)))\n",
        "    \n",
        "    model.add(Conv2D(64, (3, 3), activation='relu',padding='same'))\n",
        "    model.add(MaxPooling2D(pool_size=(2, 2))) \n",
        "     \n",
        "\n",
        "    \n",
        "    model.add(Conv2D(128, (3, 3), activation='relu',padding='same'))\n",
        "    model.add(MaxPooling2D(pool_size=(2, 2)))\n",
        "    \n",
        "    model.add(Conv2D(128, (3, 3), activation='relu',padding='same'))\n",
        "    model.add(MaxPooling2D(pool_size=(2, 2)))\n",
        "    \n",
        "    model.add(Dropout(0.25))\n",
        "    model.add(Flatten())\n",
        "    \n",
        "    model.add(Dense(1024, activation='relu'))\n",
        "    model.add(Dense(512, activation='relu'))\n",
        "    \n",
        "    model.add(Dense(num_classes, activation='sigmoid'))\n",
        "    \n",
        "    lrate = 0.0001\n",
        "    epochs=20\n",
        "    decay = lrate/epochs\n",
        "    optimizer =adam(lr=0.0001)\n",
        "    #sgd = SGD(lr=lrate, momentum=0.9, decay=decay, nesterov=False)\n",
        "    model.compile(loss='categorical_crossentropy', optimizer=optimizer, metrics=['accuracy'])\n",
        "    \n",
        "    return model\n",
        "  \"\"\""
      ],
      "execution_count": 17,
      "outputs": [
        {
          "output_type": "execute_result",
          "data": {
            "text/plain": [
              "\"\\ndef AlexNet_model():\\n\\n    model = Sequential()\\n    \\n    model.add(Conv2D(32, (3, 3), input_shape=(300, 300, 3), activation='relu',padding='same'))\\n    model.add(MaxPooling2D(pool_size=(2, 2)))\\n    \\n    \\n    model.add(Conv2D(32, (3, 3), activation='relu',padding='same'))\\n    model.add(MaxPooling2D(pool_size=(2, 2)))\\n    \\n    model.add(Conv2D(64, (3, 3), activation='relu',padding='same'))\\n    model.add(MaxPooling2D(pool_size=(2, 2))) \\n     \\n\\n    \\n    model.add(Conv2D(128, (3, 3), activation='relu',padding='same'))\\n    model.add(MaxPooling2D(pool_size=(2, 2)))\\n    \\n    model.add(Conv2D(128, (3, 3), activation='relu',padding='same'))\\n    model.add(MaxPooling2D(pool_size=(2, 2)))\\n    \\n    model.add(Dropout(0.25))\\n    model.add(Flatten())\\n    \\n    model.add(Dense(1024, activation='relu'))\\n    model.add(Dense(512, activation='relu'))\\n    \\n    model.add(Dense(num_classes, activation='sigmoid'))\\n    \\n    lrate = 0.0001\\n    epochs=20\\n    decay = lrate/epochs\\n    optimizer =adam(lr=0.0001)\\n    #sgd = SGD(lr=lrate, momentum=0.9, decay=decay, nesterov=False)\\n    model.compile(loss='categorical_crossentropy', optimizer=optimizer, metrics=['accuracy'])\\n    \\n    return model\\n  \""
            ]
          },
          "metadata": {
            "tags": []
          },
          "execution_count": 17
        }
      ]
    },
    {
      "cell_type": "code",
      "metadata": {
        "id": "NHM1stCYFKev",
        "colab_type": "code",
        "colab": {}
      },
      "source": [
        "def AlexNet_model():\n",
        "\n",
        "    model = Sequential()\n",
        "    \n",
        "    model.add(Conv2D(96, (11, 11), strides=4,input_shape=(300, 300, 3), activation='relu',padding='same'))\n",
        "    model.add(MaxPooling2D(pool_size=(3, 3),strides=2))\n",
        "\n",
        "\n",
        "    model.add(Conv2D(256, (5, 5), activation='relu',padding='same'))\n",
        "    model.add(MaxPooling2D(pool_size=(3,3),strides=2))\n",
        "    \n",
        "    \n",
        "    model.add(Conv2D(384, (3,3), activation='relu',padding='same'))\n",
        "    model.add(Conv2D(384, (3,3), activation='relu',padding='same'))\n",
        "    model.add(Conv2D(256, (3,3), activation='relu',padding='same'))\n",
        "    model.add(MaxPooling2D(pool_size=(3,3),strides=2))\n",
        "       \n",
        "    model.add(Dropout(0.50))\n",
        "    model.add(Flatten())\n",
        "    \n",
        "    #model.add(Dense(9216, activation='relu'))\n",
        "    model.add(Dense(4096, activation='relu'))\n",
        "    model.add(Dropout(0.50))\n",
        "    model.add(Dense(4096, activation='relu'))\n",
        "    \n",
        "    model.add(Dense(num_classes, activation='sigmoid'))\n",
        "    \n",
        "    lrate = 0.0001\n",
        "    epochs=35\n",
        "    decay = lrate/epochs\n",
        "    optimizer =adam(lr=0.0001)\n",
        "    #sgd = SGD(lr=lrate, momentum=0.9, decay=decay, nesterov=False)\n",
        "    model.compile(loss='binary_crossentropy', optimizer=optimizer, metrics=['accuracy'])\n",
        "    \n",
        "    return model"
      ],
      "execution_count": 0,
      "outputs": []
    },
    {
      "cell_type": "code",
      "metadata": {
        "id": "0y0g6PGiCeGl",
        "colab_type": "code",
        "colab": {}
      },
      "source": [
        ""
      ],
      "execution_count": 0,
      "outputs": []
    },
    {
      "cell_type": "code",
      "metadata": {
        "id": "GqWsPnU-Bv5k",
        "colab_type": "code",
        "colab": {}
      },
      "source": [
        "#os.chdir('/content/drive/My Drive/Colab Notebooks/DL_Practical_MLP/Results/MLP_CIFAR10')\n",
        "import keras\n",
        "import keras.callbacks\n",
        "from keras.callbacks import TensorBoard\n",
        "from keras.callbacks import EarlyStopping,ModelCheckpoint\n",
        "mc = ModelCheckpoint('PCB_ALEXNET.h5', monitor='val_loss', mode='min', verbose=1, save_best_only=True)\n",
        "filepath = \"saved-model-{epoch:02d}.h5\"\n",
        "mc1 = ModelCheckpoint(filepath, monitor='val_loss', mode='min', verbose=1, save_best_only=True  ,period=10)\n",
        "cv = keras.callbacks.CSVLogger('PCB_ALEXNET.h5.csv', separator=',', append=False)\n",
        "es = keras.callbacks.EarlyStopping(monitor='val_loss', min_delta=0, patience=75,  mode='auto')\n"
      ],
      "execution_count": 0,
      "outputs": []
    },
    {
      "cell_type": "code",
      "metadata": {
        "id": "SuRI-isDYqfR",
        "colab_type": "code",
        "outputId": "aa570a8a-eee4-4209-cf5f-baf0fde29b9f",
        "colab": {
          "base_uri": "https://localhost:8080/",
          "height": 54
        }
      },
      "source": [
        "\n",
        "\"\"\"\n",
        "import os\n",
        "os.chdir(\"/content/drive/My Drive/PCB\")\n",
        "from keras.callbacks import ModelCheckpoint, TensorBoard, CSVLogger\n",
        "mc = ModelCheckpoint('cipharAlexNetNet.h5', monitor='val_loss', save_best_only=True)\n",
        "tb = TensorBoard(log_dir='/content/cnn/My Drive/logs', write_graph=True, write_grads=False, write_images=False, embeddings_freq=0, update_freq='epoch')\n",
        "cv = CSVLogger('cipharAlexNetNet.csv',append=True)\n",
        "\"\"\""
      ],
      "execution_count": 20,
      "outputs": [
        {
          "output_type": "execute_result",
          "data": {
            "text/plain": [
              "'\\nimport os\\nos.chdir(\"/content/drive/My Drive/PCB\")\\nfrom keras.callbacks import ModelCheckpoint, TensorBoard, CSVLogger\\nmc = ModelCheckpoint(\\'cipharAlexNetNet.h5\\', monitor=\\'val_loss\\', save_best_only=True)\\ntb = TensorBoard(log_dir=\\'/content/cnn/My Drive/logs\\', write_graph=True, write_grads=False, write_images=False, embeddings_freq=0, update_freq=\\'epoch\\')\\ncv = CSVLogger(\\'cipharAlexNetNet.csv\\',append=True)\\n'"
            ]
          },
          "metadata": {
            "tags": []
          },
          "execution_count": 20
        }
      ]
    },
    {
      "cell_type": "code",
      "metadata": {
        "id": "Pay7jAJizkA1",
        "colab_type": "code",
        "outputId": "3005aab9-36d7-404c-c83e-d468bd61e1ae",
        "colab": {
          "base_uri": "https://localhost:8080/",
          "height": 34
        }
      },
      "source": [
        "from keras.callbacks import ModelCheckpoint\n",
        "\"\"\"\n",
        "model = Sequential()\n",
        "model.add(Dense(10, input_dim=784, kernel_initializer='uniform'))\n",
        "model.add(Activation('softmax'))\n",
        "model.compile(loss='categorical_crossentropy', optimizer='rmsprop')\n",
        "\"\"\"\n",
        "'''\n",
        "saves the model weights after each epoch if the validation loss decreased\n",
        "'''\n",
        "#checkpointer = ModelCheckpoint(filepath='/tmp/weights.hdf5', verbose=1, save_best_only=True)\n",
        "#model.fit(x_train, y_train, batch_size=128, epochs=20, verbose=0, validation_data=(X_test, Y_test), callbacks=[checkpointer])\n",
        "\n"
      ],
      "execution_count": 21,
      "outputs": [
        {
          "output_type": "execute_result",
          "data": {
            "text/plain": [
              "'\\nsaves the model weights after each epoch if the validation loss decreased\\n'"
            ]
          },
          "metadata": {
            "tags": []
          },
          "execution_count": 21
        }
      ]
    },
    {
      "cell_type": "code",
      "metadata": {
        "id": "gPLGgrRuDBSx",
        "colab_type": "code",
        "colab": {}
      },
      "source": [
        "from keras.losses import mean_squared_error,mean_absolute_error,mean_squared_logarithmic_error,categorical_hinge,hinge,squared_hinge,categorical_crossentropy\n",
        "from keras.optimizers import adam,adadelta,adagrad,adamax,sgd\n",
        "#model.compile(loss=\"categorical_crossentropy\", optimizer=\"sgd\", metrics=['accuracy'])\n"
      ],
      "execution_count": 0,
      "outputs": []
    },
    {
      "cell_type": "code",
      "metadata": {
        "id": "luwtQNV4DTpE",
        "colab_type": "code",
        "outputId": "0d8862a1-a6be-485c-de81-881f4ca7219a",
        "colab": {
          "base_uri": "https://localhost:8080/",
          "height": 1000
        }
      },
      "source": [
        "model=AlexNet_model()\n",
        "print(model.summary())\n"
      ],
      "execution_count": 23,
      "outputs": [
        {
          "output_type": "stream",
          "text": [
            "WARNING:tensorflow:From /usr/local/lib/python3.6/dist-packages/keras/backend/tensorflow_backend.py:66: The name tf.get_default_graph is deprecated. Please use tf.compat.v1.get_default_graph instead.\n",
            "\n",
            "WARNING:tensorflow:From /usr/local/lib/python3.6/dist-packages/keras/backend/tensorflow_backend.py:541: The name tf.placeholder is deprecated. Please use tf.compat.v1.placeholder instead.\n",
            "\n",
            "WARNING:tensorflow:From /usr/local/lib/python3.6/dist-packages/keras/backend/tensorflow_backend.py:4432: The name tf.random_uniform is deprecated. Please use tf.random.uniform instead.\n",
            "\n",
            "WARNING:tensorflow:From /usr/local/lib/python3.6/dist-packages/keras/backend/tensorflow_backend.py:4267: The name tf.nn.max_pool is deprecated. Please use tf.nn.max_pool2d instead.\n",
            "\n",
            "WARNING:tensorflow:From /usr/local/lib/python3.6/dist-packages/keras/backend/tensorflow_backend.py:148: The name tf.placeholder_with_default is deprecated. Please use tf.compat.v1.placeholder_with_default instead.\n",
            "\n",
            "WARNING:tensorflow:From /usr/local/lib/python3.6/dist-packages/keras/backend/tensorflow_backend.py:3733: calling dropout (from tensorflow.python.ops.nn_ops) with keep_prob is deprecated and will be removed in a future version.\n",
            "Instructions for updating:\n",
            "Please use `rate` instead of `keep_prob`. Rate should be set to `rate = 1 - keep_prob`.\n",
            "WARNING:tensorflow:From /usr/local/lib/python3.6/dist-packages/keras/optimizers.py:793: The name tf.train.Optimizer is deprecated. Please use tf.compat.v1.train.Optimizer instead.\n",
            "\n",
            "WARNING:tensorflow:From /usr/local/lib/python3.6/dist-packages/keras/backend/tensorflow_backend.py:3657: The name tf.log is deprecated. Please use tf.math.log instead.\n",
            "\n",
            "WARNING:tensorflow:From /tensorflow-1.15.2/python3.6/tensorflow_core/python/ops/nn_impl.py:183: where (from tensorflow.python.ops.array_ops) is deprecated and will be removed in a future version.\n",
            "Instructions for updating:\n",
            "Use tf.where in 2.0, which has the same broadcast rule as np.where\n",
            "Model: \"sequential_1\"\n",
            "_________________________________________________________________\n",
            "Layer (type)                 Output Shape              Param #   \n",
            "=================================================================\n",
            "conv2d_1 (Conv2D)            (None, 75, 75, 96)        34944     \n",
            "_________________________________________________________________\n",
            "max_pooling2d_1 (MaxPooling2 (None, 37, 37, 96)        0         \n",
            "_________________________________________________________________\n",
            "conv2d_2 (Conv2D)            (None, 37, 37, 256)       614656    \n",
            "_________________________________________________________________\n",
            "max_pooling2d_2 (MaxPooling2 (None, 18, 18, 256)       0         \n",
            "_________________________________________________________________\n",
            "conv2d_3 (Conv2D)            (None, 18, 18, 384)       885120    \n",
            "_________________________________________________________________\n",
            "conv2d_4 (Conv2D)            (None, 18, 18, 384)       1327488   \n",
            "_________________________________________________________________\n",
            "conv2d_5 (Conv2D)            (None, 18, 18, 256)       884992    \n",
            "_________________________________________________________________\n",
            "max_pooling2d_3 (MaxPooling2 (None, 8, 8, 256)         0         \n",
            "_________________________________________________________________\n",
            "dropout_1 (Dropout)          (None, 8, 8, 256)         0         \n",
            "_________________________________________________________________\n",
            "flatten_1 (Flatten)          (None, 16384)             0         \n",
            "_________________________________________________________________\n",
            "dense_1 (Dense)              (None, 4096)              67112960  \n",
            "_________________________________________________________________\n",
            "dropout_2 (Dropout)          (None, 4096)              0         \n",
            "_________________________________________________________________\n",
            "dense_2 (Dense)              (None, 4096)              16781312  \n",
            "_________________________________________________________________\n",
            "dense_3 (Dense)              (None, 2)                 8194      \n",
            "=================================================================\n",
            "Total params: 87,649,666\n",
            "Trainable params: 87,649,666\n",
            "Non-trainable params: 0\n",
            "_________________________________________________________________\n",
            "None\n"
          ],
          "name": "stdout"
        }
      ]
    },
    {
      "cell_type": "code",
      "metadata": {
        "id": "61Uf2JPb5iMu",
        "colab_type": "code",
        "colab": {}
      },
      "source": [
        "class WeightCallback(keras.callbacks.Callback):\n",
        "    def on_epoch_end(self, epoch, logs={}):\n",
        "        if epoch%1 == 0:\n",
        "            fig, axs = plt.subplots(1,10, figsize=(10*1.5,1.5), facecolor='w', edgecolor='k')\n",
        "            for i in range(10):\n",
        "                axs[i].set_title(\"Digit : \" + str(i))\n",
        "                digit = model.layers[0].get_weights()[0][:,i]\n",
        "                digit = ((digit - digit.min())*(1/(digit.max() - digit.min()))*255).astype(\"uint8\")\n",
        "                axs[i].imshow(digit.reshape(300,300,3),cmap=\"viridis\")\n",
        "weight = WeightCallback()"
      ],
      "execution_count": 0,
      "outputs": []
    },
    {
      "cell_type": "code",
      "metadata": {
        "id": "CelvtHxR-oDv",
        "colab_type": "code",
        "colab": {}
      },
      "source": [
        "checkpointer = ModelCheckpoint(filepath='/tmp/weights.hdf5', verbose=1, save_best_only=True)"
      ],
      "execution_count": 0,
      "outputs": []
    },
    {
      "cell_type": "markdown",
      "metadata": {
        "id": "WDGm8asglYaj",
        "colab_type": "text"
      },
      "source": [
        "0**Keras Callbacks**"
      ]
    },
    {
      "cell_type": "code",
      "metadata": {
        "id": "KM31YNZh4UB6",
        "colab_type": "code",
        "outputId": "f9bfe449-d8e7-41dc-fe77-374a521a841b",
        "colab": {
          "base_uri": "https://localhost:8080/",
          "height": 1000
        }
      },
      "source": [
        "history=model.fit(X_train, y_train, validation_split=(0.2), epochs=35, batch_size=32,verbose=2,callbacks=[checkpointer])\n",
        "#model.fit(x_train, y_train, batch_size=128, epochs=20, verbose=0, validation_data=(X_test, Y_test), callbacks=[checkpointer])\n",
        "\n",
        "\n"
      ],
      "execution_count": 26,
      "outputs": [
        {
          "output_type": "stream",
          "text": [
            "WARNING:tensorflow:From /usr/local/lib/python3.6/dist-packages/keras/backend/tensorflow_backend.py:1033: The name tf.assign_add is deprecated. Please use tf.compat.v1.assign_add instead.\n",
            "\n",
            "WARNING:tensorflow:From /usr/local/lib/python3.6/dist-packages/keras/backend/tensorflow_backend.py:1020: The name tf.assign is deprecated. Please use tf.compat.v1.assign instead.\n",
            "\n",
            "WARNING:tensorflow:From /usr/local/lib/python3.6/dist-packages/keras/backend/tensorflow_backend.py:3005: The name tf.Session is deprecated. Please use tf.compat.v1.Session instead.\n",
            "\n",
            "Train on 4032 samples, validate on 1008 samples\n",
            "Epoch 1/35\n",
            "WARNING:tensorflow:From /usr/local/lib/python3.6/dist-packages/keras/backend/tensorflow_backend.py:190: The name tf.get_default_session is deprecated. Please use tf.compat.v1.get_default_session instead.\n",
            "\n",
            "WARNING:tensorflow:From /usr/local/lib/python3.6/dist-packages/keras/backend/tensorflow_backend.py:197: The name tf.ConfigProto is deprecated. Please use tf.compat.v1.ConfigProto instead.\n",
            "\n",
            "WARNING:tensorflow:From /usr/local/lib/python3.6/dist-packages/keras/backend/tensorflow_backend.py:207: The name tf.global_variables is deprecated. Please use tf.compat.v1.global_variables instead.\n",
            "\n",
            "WARNING:tensorflow:From /usr/local/lib/python3.6/dist-packages/keras/backend/tensorflow_backend.py:216: The name tf.is_variable_initialized is deprecated. Please use tf.compat.v1.is_variable_initialized instead.\n",
            "\n",
            "WARNING:tensorflow:From /usr/local/lib/python3.6/dist-packages/keras/backend/tensorflow_backend.py:223: The name tf.variables_initializer is deprecated. Please use tf.compat.v1.variables_initializer instead.\n",
            "\n",
            " - 26s - loss: 0.6685 - acc: 0.6250 - val_loss: 1.2413 - val_acc: 0.0000e+00\n",
            "\n",
            "Epoch 00001: val_loss improved from inf to 1.24130, saving model to /tmp/weights.hdf5\n",
            "Epoch 2/35\n",
            " - 11s - loss: 0.6642 - acc: 0.6250 - val_loss: 0.9879 - val_acc: 0.0000e+00\n",
            "\n",
            "Epoch 00002: val_loss improved from 1.24130 to 0.98793, saving model to /tmp/weights.hdf5\n",
            "Epoch 3/35\n",
            " - 11s - loss: 0.6630 - acc: 0.6250 - val_loss: 0.9715 - val_acc: 0.0000e+00\n",
            "\n",
            "Epoch 00003: val_loss improved from 0.98793 to 0.97149, saving model to /tmp/weights.hdf5\n",
            "Epoch 4/35\n",
            " - 11s - loss: 0.6626 - acc: 0.6250 - val_loss: 0.9203 - val_acc: 0.0000e+00\n",
            "\n",
            "Epoch 00004: val_loss improved from 0.97149 to 0.92031, saving model to /tmp/weights.hdf5\n",
            "Epoch 5/35\n",
            " - 11s - loss: 0.6626 - acc: 0.6250 - val_loss: 1.0235 - val_acc: 0.0000e+00\n",
            "\n",
            "Epoch 00005: val_loss did not improve from 0.92031\n",
            "Epoch 6/35\n",
            " - 11s - loss: 0.5758 - acc: 0.7209 - val_loss: 0.7255 - val_acc: 0.3795\n",
            "\n",
            "Epoch 00006: val_loss improved from 0.92031 to 0.72550, saving model to /tmp/weights.hdf5\n",
            "Epoch 7/35\n",
            " - 11s - loss: 0.5411 - acc: 0.7440 - val_loss: 0.8288 - val_acc: 0.3715\n",
            "\n",
            "Epoch 00007: val_loss did not improve from 0.72550\n",
            "Epoch 8/35\n",
            " - 11s - loss: 0.4909 - acc: 0.7737 - val_loss: 0.4853 - val_acc: 0.6736\n",
            "\n",
            "Epoch 00008: val_loss improved from 0.72550 to 0.48526, saving model to /tmp/weights.hdf5\n",
            "Epoch 9/35\n",
            " - 11s - loss: 0.3411 - acc: 0.8714 - val_loss: 0.4100 - val_acc: 0.8105\n",
            "\n",
            "Epoch 00009: val_loss improved from 0.48526 to 0.41001, saving model to /tmp/weights.hdf5\n",
            "Epoch 10/35\n",
            " - 11s - loss: 0.2884 - acc: 0.8960 - val_loss: 0.4446 - val_acc: 0.7996\n",
            "\n",
            "Epoch 00010: val_loss did not improve from 0.41001\n",
            "Epoch 11/35\n",
            " - 11s - loss: 0.2270 - acc: 0.9196 - val_loss: 0.3312 - val_acc: 0.8309\n",
            "\n",
            "Epoch 00011: val_loss improved from 0.41001 to 0.33123, saving model to /tmp/weights.hdf5\n",
            "Epoch 12/35\n",
            " - 11s - loss: 0.1929 - acc: 0.9334 - val_loss: 0.3357 - val_acc: 0.8423\n",
            "\n",
            "Epoch 00012: val_loss did not improve from 0.33123\n",
            "Epoch 13/35\n",
            " - 11s - loss: 0.1742 - acc: 0.9368 - val_loss: 0.3798 - val_acc: 0.8343\n",
            "\n",
            "Epoch 00013: val_loss did not improve from 0.33123\n",
            "Epoch 14/35\n",
            " - 11s - loss: 0.1524 - acc: 0.9457 - val_loss: 0.2896 - val_acc: 0.8700\n",
            "\n",
            "Epoch 00014: val_loss improved from 0.33123 to 0.28961, saving model to /tmp/weights.hdf5\n",
            "Epoch 15/35\n",
            " - 11s - loss: 0.1300 - acc: 0.9520 - val_loss: 0.2916 - val_acc: 0.8790\n",
            "\n",
            "Epoch 00015: val_loss did not improve from 0.28961\n",
            "Epoch 16/35\n",
            " - 11s - loss: 0.1043 - acc: 0.9645 - val_loss: 0.3970 - val_acc: 0.8562\n",
            "\n",
            "Epoch 00016: val_loss did not improve from 0.28961\n",
            "Epoch 17/35\n",
            " - 11s - loss: 0.0943 - acc: 0.9675 - val_loss: 0.5170 - val_acc: 0.8368\n",
            "\n",
            "Epoch 00017: val_loss did not improve from 0.28961\n",
            "Epoch 18/35\n",
            " - 11s - loss: 0.0825 - acc: 0.9699 - val_loss: 0.3700 - val_acc: 0.8958\n",
            "\n",
            "Epoch 00018: val_loss did not improve from 0.28961\n",
            "Epoch 19/35\n",
            " - 11s - loss: 0.0743 - acc: 0.9712 - val_loss: 0.2848 - val_acc: 0.9216\n",
            "\n",
            "Epoch 00019: val_loss improved from 0.28961 to 0.28480, saving model to /tmp/weights.hdf5\n",
            "Epoch 20/35\n",
            " - 11s - loss: 0.0616 - acc: 0.9751 - val_loss: 0.3074 - val_acc: 0.8958\n",
            "\n",
            "Epoch 00020: val_loss did not improve from 0.28480\n",
            "Epoch 21/35\n",
            " - 11s - loss: 0.0547 - acc: 0.9797 - val_loss: 0.3560 - val_acc: 0.9038\n",
            "\n",
            "Epoch 00021: val_loss did not improve from 0.28480\n",
            "Epoch 22/35\n",
            " - 11s - loss: 0.0590 - acc: 0.9768 - val_loss: 0.2946 - val_acc: 0.9246\n",
            "\n",
            "Epoch 00022: val_loss did not improve from 0.28480\n",
            "Epoch 23/35\n",
            " - 11s - loss: 0.0693 - acc: 0.9776 - val_loss: 0.3046 - val_acc: 0.9127\n",
            "\n",
            "Epoch 00023: val_loss did not improve from 0.28480\n",
            "Epoch 24/35\n",
            " - 11s - loss: 0.0449 - acc: 0.9824 - val_loss: 0.2458 - val_acc: 0.9375\n",
            "\n",
            "Epoch 00024: val_loss improved from 0.28480 to 0.24576, saving model to /tmp/weights.hdf5\n",
            "Epoch 25/35\n",
            " - 11s - loss: 0.0309 - acc: 0.9865 - val_loss: 0.3888 - val_acc: 0.9276\n",
            "\n",
            "Epoch 00025: val_loss did not improve from 0.24576\n",
            "Epoch 26/35\n",
            " - 11s - loss: 0.0419 - acc: 0.9843 - val_loss: 0.2531 - val_acc: 0.9355\n",
            "\n",
            "Epoch 00026: val_loss did not improve from 0.24576\n",
            "Epoch 27/35\n",
            " - 11s - loss: 0.0314 - acc: 0.9883 - val_loss: 0.2534 - val_acc: 0.9385\n",
            "\n",
            "Epoch 00027: val_loss did not improve from 0.24576\n",
            "Epoch 28/35\n",
            " - 11s - loss: 0.0305 - acc: 0.9867 - val_loss: 0.3632 - val_acc: 0.9325\n",
            "\n",
            "Epoch 00028: val_loss did not improve from 0.24576\n",
            "Epoch 29/35\n",
            " - 11s - loss: 0.0339 - acc: 0.9881 - val_loss: 0.3161 - val_acc: 0.9385\n",
            "\n",
            "Epoch 00029: val_loss did not improve from 0.24576\n",
            "Epoch 30/35\n",
            " - 11s - loss: 0.0363 - acc: 0.9866 - val_loss: 0.2911 - val_acc: 0.9385\n",
            "\n",
            "Epoch 00030: val_loss did not improve from 0.24576\n",
            "Epoch 31/35\n",
            " - 11s - loss: 0.0248 - acc: 0.9912 - val_loss: 0.3661 - val_acc: 0.9345\n",
            "\n",
            "Epoch 00031: val_loss did not improve from 0.24576\n",
            "Epoch 32/35\n",
            " - 11s - loss: 0.0235 - acc: 0.9897 - val_loss: 0.3662 - val_acc: 0.9286\n",
            "\n",
            "Epoch 00032: val_loss did not improve from 0.24576\n",
            "Epoch 33/35\n",
            " - 11s - loss: 0.0278 - acc: 0.9903 - val_loss: 0.4541 - val_acc: 0.9172\n",
            "\n",
            "Epoch 00033: val_loss did not improve from 0.24576\n",
            "Epoch 34/35\n",
            " - 11s - loss: 0.0218 - acc: 0.9916 - val_loss: 0.2546 - val_acc: 0.9494\n",
            "\n",
            "Epoch 00034: val_loss did not improve from 0.24576\n",
            "Epoch 35/35\n",
            " - 11s - loss: 0.0250 - acc: 0.9912 - val_loss: 0.5090 - val_acc: 0.9191\n",
            "\n",
            "Epoch 00035: val_loss did not improve from 0.24576\n"
          ],
          "name": "stdout"
        }
      ]
    },
    {
      "cell_type": "code",
      "metadata": {
        "id": "cDDalmCAwJyg",
        "colab_type": "code",
        "outputId": "c94b2f02-016e-42ee-e821-0b7db3696493",
        "colab": {
          "base_uri": "https://localhost:8080/",
          "height": 119
        }
      },
      "source": [
        "model.load_weights('/tmp/weights.hdf5')\n",
        "train_loss,train_acc=model.evaluate(X_train,y_train)\n",
        "print(\"traina loss={}\".format(train_loss))\n",
        "print(\"train acc={}\".format(train_acc))\n",
        "test_loss,test_acc=model.evaluate(X_test,y_test)\n",
        "print(\"test loss={}\".format(test_loss))\n",
        "print(\"test loss={}\".format(test_acc))"
      ],
      "execution_count": 27,
      "outputs": [
        {
          "output_type": "stream",
          "text": [
            "5040/5040 [==============================] - 5s 979us/step\n",
            "traina loss=0.06841386177887736\n",
            "train acc=0.9791666666666666\n",
            "298/298 [==============================] - 0s 1ms/step\n",
            "test loss=1.3848893693803779\n",
            "test loss=0.9127516770522867\n"
          ],
          "name": "stdout"
        }
      ]
    },
    {
      "cell_type": "markdown",
      "metadata": {
        "id": "UdDUSm89wjvi",
        "colab_type": "text"
      },
      "source": [
        "### Loss and Accuracy Curves"
      ]
    },
    {
      "cell_type": "code",
      "metadata": {
        "id": "q1OD6P3SwUK3",
        "colab_type": "code",
        "colab": {}
      },
      "source": [
        "train_loss = history.history['loss']\n",
        "train_acc = history.history['acc']\n",
        "val_loss = history.history['val_loss']\n",
        "val_acc = history.history['val_acc']\n",
        "xc=range(35)"
      ],
      "execution_count": 0,
      "outputs": []
    },
    {
      "cell_type": "code",
      "metadata": {
        "id": "ObPDOrVlwZ54",
        "colab_type": "code",
        "outputId": "3e51c8cf-5539-462a-8990-4d3e25968569",
        "colab": {
          "base_uri": "https://localhost:8080/",
          "height": 296
        }
      },
      "source": [
        "import matplotlib.pyplot as plt\n",
        "%matplotlib inline\n",
        "plt.plot(xc, train_loss)\n",
        "plt.plot(xc, val_loss)\n",
        "plt.xlabel(\"Epoch\")\n",
        "plt.ylabel(\"Loss\")\n",
        "plt.legend(['train','val'])"
      ],
      "execution_count": 29,
      "outputs": [
        {
          "output_type": "execute_result",
          "data": {
            "text/plain": [
              "<matplotlib.legend.Legend at 0x7f5ff44c8278>"
            ]
          },
          "metadata": {
            "tags": []
          },
          "execution_count": 29
        },
        {
          "output_type": "display_data",
          "data": {
            "image/png": "[encoded data removed]",
            "text/plain": [
              "<Figure size 432x288 with 1 Axes>"
            ]
          },
          "metadata": {
            "tags": []
          }
        }
      ]
    },
    {
      "cell_type": "code",
      "metadata": {
        "id": "ehQ7ykS3wiJ6",
        "colab_type": "code",
        "outputId": "1e042bd2-5a12-4a45-aeea-160a522221b4",
        "colab": {
          "base_uri": "https://localhost:8080/",
          "height": 296
        }
      },
      "source": [
        "import matplotlib.pyplot as plt\n",
        "%matplotlib inline\n",
        "plt.plot(xc, train_acc)\n",
        "plt.plot(xc, val_acc)\n",
        "plt.xlabel(\"Epoch\")\n",
        "plt.ylabel(\"Acc\")\n",
        "plt.legend(['train','val'])"
      ],
      "execution_count": 30,
      "outputs": [
        {
          "output_type": "execute_result",
          "data": {
            "text/plain": [
              "<matplotlib.legend.Legend at 0x7f5ff00e67b8>"
            ]
          },
          "metadata": {
            "tags": []
          },
          "execution_count": 30
        },
        {
          "output_type": "display_data",
          "data": {
            "image/png": "[encoded data removed]",
            "text/plain": [
              "<Figure size 432x288 with 1 Axes>"
            ]
          },
          "metadata": {
            "tags": []
          }
        }
      ]
    },
    {
      "cell_type": "code",
      "metadata": {
        "id": "ZLI9oGNgWHrX",
        "colab_type": "code",
        "colab": {}
      },
      "source": [
        "\n"
      ],
      "execution_count": 0,
      "outputs": []
    },
    {
      "cell_type": "code",
      "metadata": {
        "id": "C4dlZL121e5L",
        "colab_type": "code",
        "outputId": "352f0f4c-4754-4a34-e6c7-89ab55ff8481",
        "colab": {
          "base_uri": "https://localhost:8080/",
          "height": 170
        }
      },
      "source": [
        "import numpy as np\n",
        "from sklearn.metrics import classification_report,confusion_matrix\n",
        "import itertools\n",
        "\n",
        "Y_pred = model.predict(X_test)\n",
        "#print(np.unique(Y_pred))\n",
        "y_pred = np.argmax(Y_pred, axis=1)\n",
        "target_names = ['class 0', 'class 1']\n",
        "print(classification_report(np.argmax(y_test,axis=1), y_pred,target_names=target_names))"
      ],
      "execution_count": 31,
      "outputs": [
        {
          "output_type": "stream",
          "text": [
            "              precision    recall  f1-score   support\n",
            "\n",
            "     class 0       0.87      0.97      0.92       149\n",
            "     class 1       0.97      0.85      0.91       149\n",
            "\n",
            "    accuracy                           0.91       298\n",
            "   macro avg       0.92      0.91      0.91       298\n",
            "weighted avg       0.92      0.91      0.91       298\n",
            "\n"
          ],
          "name": "stdout"
        }
      ]
    },
    {
      "cell_type": "code",
      "metadata": {
        "id": "QgNg1yTJGzBH",
        "colab_type": "code",
        "colab": {}
      },
      "source": [
        "\n"
      ],
      "execution_count": 0,
      "outputs": []
    },
    {
      "cell_type": "code",
      "metadata": {
        "id": "DzxV4PA_xifu",
        "colab_type": "code",
        "colab": {}
      },
      "source": [
        ""
      ],
      "execution_count": 0,
      "outputs": []
    }
  ]
}
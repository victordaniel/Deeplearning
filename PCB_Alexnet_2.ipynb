{
  "nbformat": 4,
  "nbformat_minor": 0,
  "metadata": {
    "colab": {
      "name": "PCB_Alexnet.ipynb",
      "provenance": [],
      "collapsed_sections": [],
      "machine_shape": "hm",
      "include_colab_link": true
    },
    "kernelspec": {
      "name": "python3",
      "display_name": "Python 3"
    },
    "accelerator": "GPU"
  },
  "cells": [
    {
      "cell_type": "markdown",
      "metadata": {
        "id": "view-in-github",
        "colab_type": "text"
      },
      "source": [
        "<a href=\"https://colab.research.google.com/github/victordaniel/Deeplearning/blob/master/PCB_Alexnet_2.ipynb\" target=\"_parent\"><img src=\"https://colab.research.google.com/assets/colab-badge.svg\" alt=\"Open In Colab\"/></a>"
      ]
    },
    {
      "cell_type": "markdown",
      "metadata": {
        "id": "cqnoWGjx1iIC",
        "colab_type": "text"
      },
      "source": [
        "**Imports**"
      ]
    },
    {
      "cell_type": "code",
      "metadata": {
        "id": "yi98Z22q1jIv",
        "colab_type": "code",
        "outputId": "0a5c61dc-652c-4b0e-d96b-61c95d1b6d01",
        "colab": {
          "base_uri": "https://localhost:8080/",
          "height": 34
        }
      },
      "source": [
        "%tensorflow_version 1.x\n"
      ],
      "execution_count": 1,
      "outputs": [
        {
          "output_type": "stream",
          "text": [
            "TensorFlow 1.x selected.\n"
          ],
          "name": "stdout"
        }
      ]
    },
    {
      "cell_type": "code",
      "metadata": {
        "id": "uT4YaLEJXOxi",
        "colab_type": "code",
        "colab": {}
      },
      "source": [
        "from tensorflow.python.keras.layers import Dense\n",
        "from tensorflow.python.keras import Sequential\n"
      ],
      "execution_count": 0,
      "outputs": []
    },
    {
      "cell_type": "code",
      "metadata": {
        "id": "URQQuXeXadGq",
        "colab_type": "code",
        "outputId": "8fa59ed7-61f7-4b6c-84be-933724d525e0",
        "colab": {
          "base_uri": "https://localhost:8080/",
          "height": 34
        }
      },
      "source": [
        "\n",
        "from matplotlib import pyplot\n",
        "%matplotlib inline\n",
        "#from scipy.misc import toimage\n",
        "import numpy\n",
        "from keras.models import Sequential\n",
        "from keras.layers import Dense\n",
        "from keras.layers import Dropout\n",
        "from keras.layers import Flatten\n",
        "from keras.constraints import maxnorm\n",
        "from keras.optimizers import SGD\n",
        "from keras.layers.convolutional import Conv2D\n",
        "from keras.layers import BatchNormalization\n",
        "from keras.layers.convolutional import MaxPooling2D\n",
        "from keras.utils import np_utils\n",
        "from keras import backend as K\n",
        "from sklearn.model_selection import train_test_split\n",
        "#K.set_image_dim_ordering('tf')\n"
      ],
      "execution_count": 3,
      "outputs": [
        {
          "output_type": "stream",
          "text": [
            "Using TensorFlow backend.\n"
          ],
          "name": "stderr"
        }
      ]
    },
    {
      "cell_type": "code",
      "metadata": {
        "id": "OqRLtJ8tWsCD",
        "colab_type": "code",
        "outputId": "4790f628-5b36-4e0c-b6c8-c15f61adc187",
        "colab": {
          "base_uri": "https://localhost:8080/",
          "height": 85
        }
      },
      "source": [
        "%tensorflow_version"
      ],
      "execution_count": 4,
      "outputs": [
        {
          "output_type": "stream",
          "text": [
            "Currently selected TF version: 1.x\n",
            "Available versions:\n",
            "* 1.x\n",
            "* 2.x\n"
          ],
          "name": "stdout"
        }
      ]
    },
    {
      "cell_type": "code",
      "metadata": {
        "id": "5I0tVzV7v7Cb",
        "colab_type": "code",
        "outputId": "aca6cdad-f524-463b-b2ec-333692d5fb6f",
        "colab": {
          "base_uri": "https://localhost:8080/",
          "height": 122
        }
      },
      "source": [
        "from google.colab import drive\n",
        "\n",
        "drive.mount('/content/drive')"
      ],
      "execution_count": 5,
      "outputs": [
        {
          "output_type": "stream",
          "text": [
            "Go to this URL in a browser: https://accounts.google.com/o/oauth2/auth?client_id=947318989803-6bn6qk8qdgf4n4g3pfee6491hc0brc4i.apps.googleusercontent.com&redirect_uri=urn%3aietf%3awg%3aoauth%3a2.0%3aoob&response_type=code&scope=email%20https%3a%2f%2fwww.googleapis.com%2fauth%2fdocs.test%20https%3a%2f%2fwww.googleapis.com%2fauth%2fdrive%20https%3a%2f%2fwww.googleapis.com%2fauth%2fdrive.photos.readonly%20https%3a%2f%2fwww.googleapis.com%2fauth%2fpeopleapi.readonly\n",
            "\n",
            "Enter your authorization code:\n",
            "··········\n",
            "Mounted at /content/drive\n"
          ],
          "name": "stdout"
        }
      ]
    },
    {
      "cell_type": "code",
      "metadata": {
        "id": "aZGfSuz-XK82",
        "colab_type": "code",
        "outputId": "8dacc8df-a3b2-44a0-8785-e31c32f845e8",
        "colab": {
          "base_uri": "https://localhost:8080/",
          "height": 88
        }
      },
      "source": [
        "import os\n",
        "print(os.getcwd())\n",
        "print(os.chdir('/content/drive/My Drive/'))\n",
        "print(os.listdir())"
      ],
      "execution_count": 6,
      "outputs": [
        {
          "output_type": "stream",
          "text": [
            "/content\n",
            "None\n",
            "['s_x_train (1).npy', 's_x_train.npy', 'pcb_aug.npy', 'pcb_aug_y.npy', 'Getting started.pdf', '2017-ieee-Anomaly-Detection-in-Online-Social-Network-A-Survey.pdf', '01565707.pdf', '6-oddball.pdf', 'A-comparative-analysis-of-structural-graph-metrics-t_2017_Computers---Electr.pdf', 'Anomaly detection in multiplex network.docx', 'Anomaly detection in multiplex network.pdf', 'anomaly detection in multiplex networks.html', 'anomaly detection in social networks.pdf', 'definitions.pdf', 'easy.pdf', 'eigen vector anomaly detection.pdf', 'evolving data survey.pdf', 'facebook.tar.gz', 'graph based kmeans clustering.pdf', 'graph similarity.pdf', 'Graph_Cluster_Analysis.pdf', 'GraphClustering_Schaeffer07.pdf', 'hadassah.pdf', 'imp.pdf', 'Graphtheory.pdf', 'image.png', 'M.Tech. DA Syllabus1.pdf', 'matrix factorization.pdf', 'Networks An introduction.pdf', 'New Text Document.txt', 'nguyen-phan-anh-bsc.pdf', 'Notes (1).docx', 'oddball_Technical report.pdf', 'phd thesis preliminary  work.pdf', 'PPT1.pptx', 'PPT [Autosaved].pptx', 'PPT.pptx', 'PPT-graph_theory_1-11.pdf', 'PPT-Graph.pdf', 'rsingh kaur detecting anomalies in online social networks.pdf', 'SCAN.pdf', 'srivastava.pdf', 'stream graphs survey.pdf', 'streaming data.pdf', 'subgraph anomaly.pdf', 'survey11.pdf', 'thesis-large scale data processing.pdf', 'survey.ppt', 'triangle counting.pdf', 'vaisa.docx', 'thesis.pdf', 'writeup.docx', 'Colab Notebooks', 'Project', 'data.xlsx', 'Anomaly_Graph_Neural_Net-master', 'fwdtutorialclass', 'mnist', 'train.csv', 'PCB', 'x_train.npy', 'y_train.npy', 'Copy of xtrain.npy', 'Copy of ytrain.npy', 'raw_x_train.npy', 'raw_y_train.npy']\n"
          ],
          "name": "stdout"
        }
      ]
    },
    {
      "cell_type": "code",
      "metadata": {
        "id": "ToGR7e_y_fIO",
        "colab_type": "code",
        "colab": {}
      },
      "source": [
        "from IPython.display import Image,display\n",
        "#display(Image(filename='/content/drive/My Drive/SSDL/Day2/Image/alex.png',embed=True))"
      ],
      "execution_count": 0,
      "outputs": []
    },
    {
      "cell_type": "code",
      "metadata": {
        "id": "GC7V1kd3WS26",
        "colab_type": "code",
        "colab": {}
      },
      "source": [
        ""
      ],
      "execution_count": 0,
      "outputs": []
    },
    {
      "cell_type": "code",
      "metadata": {
        "id": "jm_m4mk7C3NS",
        "colab_type": "code",
        "outputId": "a24db31b-1d90-48ec-98ba-d4b28dd3b42d",
        "colab": {
          "base_uri": "https://localhost:8080/",
          "height": 51
        }
      },
      "source": [
        "import numpy as np\n",
        "data_x=np.load('x_train.npy')\n",
        "data_y=np.load('y_train.npy')\n",
        "#print(len(data_x))\n",
        "#print(len(data_y))\n",
        "#train_x=data_x\n",
        "#train_y=data_y\n",
        "##print(train_x.shape)\n",
        "#print(train_y.shape)\n",
        "#print(np.unique(train_y))\n",
        "from sklearn.model_selection import train_test_split\n",
        "\n",
        "#X_train, X_test, y_train, y_test = train_test_split(train_x, train_y, test_size=0.2)\n",
        "X_train,  y_train = data_x, data_y\n",
        "#X_test=np.load('Copy of xtrain.npy')\n",
        "#y_test=np.load('Copy of ytrain.npy')\n",
        "\n",
        "\n",
        "print(X_train.shape)\n",
        "print(y_train.shape)\n",
        "\n"
      ],
      "execution_count": 8,
      "outputs": [
        {
          "output_type": "stream",
          "text": [
            "(5040, 300, 300, 3)\n",
            "(5040,)\n"
          ],
          "name": "stdout"
        }
      ]
    },
    {
      "cell_type": "code",
      "metadata": {
        "id": "KEqXDn_-Cohg",
        "colab_type": "code",
        "colab": {}
      },
      "source": [
        "X_test=np.load('Copy of xtrain.npy')\n",
        "y_test=np.load('Copy of ytrain.npy')"
      ],
      "execution_count": 0,
      "outputs": []
    },
    {
      "cell_type": "code",
      "metadata": {
        "id": "vCI23a9euM12",
        "colab_type": "code",
        "colab": {}
      },
      "source": [
        "#X_train,  y_train = data_x, data_y\n",
        "X_test=np.load('raw_x_train.npy')\n",
        "y_test=np.load('raw_y_train.npy')"
      ],
      "execution_count": 0,
      "outputs": []
    },
    {
      "cell_type": "code",
      "metadata": {
        "id": "bp8INPwY9Bm3",
        "colab_type": "code",
        "outputId": "d92a000c-9f89-4b7f-c0b0-d72c6d6b1aa7",
        "colab": {
          "base_uri": "https://localhost:8080/",
          "height": 85
        }
      },
      "source": [
        "print(len(X_train))\n",
        "print(len(y_train))\n",
        "print(len(X_test))\n",
        "print(len(y_test))"
      ],
      "execution_count": 11,
      "outputs": [
        {
          "output_type": "stream",
          "text": [
            "5040\n",
            "5040\n",
            "2669\n",
            "2669\n"
          ],
          "name": "stdout"
        }
      ]
    },
    {
      "cell_type": "code",
      "metadata": {
        "id": "jcbAIDa4OGjv",
        "colab_type": "code",
        "colab": {
          "base_uri": "https://localhost:8080/",
          "height": 34
        },
        "outputId": "787f01af-5f70-4473-e524-95488ee3dca0"
      },
      "source": [
        "print(np.unique(y_test))"
      ],
      "execution_count": 12,
      "outputs": [
        {
          "output_type": "stream",
          "text": [
            "[0. 1.]\n"
          ],
          "name": "stdout"
        }
      ]
    },
    {
      "cell_type": "code",
      "metadata": {
        "id": "Q_vFpdGS9QRN",
        "colab_type": "code",
        "outputId": "2580eefa-77c3-48eb-8cfc-df362e582689",
        "colab": {
          "base_uri": "https://localhost:8080/",
          "height": 85
        }
      },
      "source": [
        "print(X_train.shape)\n",
        "print(y_train.shape)\n",
        "print(X_test.shape)\n",
        "print(y_test.shape)"
      ],
      "execution_count": 14,
      "outputs": [
        {
          "output_type": "stream",
          "text": [
            "(5040, 300, 300, 3)\n",
            "(5040,)\n",
            "(2669, 300, 300, 3)\n",
            "(2669,)\n"
          ],
          "name": "stdout"
        }
      ]
    },
    {
      "cell_type": "markdown",
      "metadata": {
        "id": "TjlL-TMDlUDU",
        "colab_type": "text"
      },
      "source": [
        "**Pre-Processing**"
      ]
    },
    {
      "cell_type": "code",
      "metadata": {
        "id": "pR0tRV4P2XtI",
        "colab_type": "code",
        "colab": {}
      },
      "source": [
        "X_train = X_train.astype('float32')\n",
        "X_test = X_test.astype('float32')\n",
        "X_train = X_train / 255.0\n",
        "X_test = X_test / 255.0"
      ],
      "execution_count": 0,
      "outputs": []
    },
    {
      "cell_type": "code",
      "metadata": {
        "id": "kSY7SyaQ2blN",
        "colab_type": "code",
        "colab": {}
      },
      "source": [
        "y_train = np_utils.to_categorical(y_train)\n",
        "y_test = np_utils.to_categorical(y_test)\n",
        "num_classes = y_test.shape[1]"
      ],
      "execution_count": 0,
      "outputs": []
    },
    {
      "cell_type": "code",
      "metadata": {
        "id": "AcXLq5oOlHJD",
        "colab_type": "code",
        "colab": {}
      },
      "source": [
        "from keras.optimizers import adam\n",
        "from keras import regularizers"
      ],
      "execution_count": 0,
      "outputs": []
    },
    {
      "cell_type": "markdown",
      "metadata": {
        "id": "KUZNDYUkmwkm",
        "colab_type": "text"
      },
      "source": [
        "**AlexNet Model**"
      ]
    },
    {
      "cell_type": "code",
      "metadata": {
        "id": "yfGBezzS2kal",
        "colab_type": "code",
        "colab": {
          "base_uri": "https://localhost:8080/",
          "height": 54
        },
        "outputId": "29951d31-ce9e-426f-c451-6965cf053bb8"
      },
      "source": [
        "\"\"\"\n",
        "def AlexNet_model():\n",
        "\n",
        "    model = Sequential()\n",
        "    \n",
        "    model.add(Conv2D(32, (3, 3), input_shape=(300, 300, 3), activation='relu',padding='same'))\n",
        "    model.add(MaxPooling2D(pool_size=(2, 2)))\n",
        "    \n",
        "    \n",
        "    model.add(Conv2D(32, (3, 3), activation='relu',padding='same'))\n",
        "    model.add(MaxPooling2D(pool_size=(2, 2)))\n",
        "    \n",
        "    model.add(Conv2D(64, (3, 3), activation='relu',padding='same'))\n",
        "    model.add(MaxPooling2D(pool_size=(2, 2))) \n",
        "     \n",
        "\n",
        "    \n",
        "    model.add(Conv2D(128, (3, 3), activation='relu',padding='same'))\n",
        "    model.add(MaxPooling2D(pool_size=(2, 2)))\n",
        "    \n",
        "    model.add(Conv2D(128, (3, 3), activation='relu',padding='same'))\n",
        "    model.add(MaxPooling2D(pool_size=(2, 2)))\n",
        "    \n",
        "    model.add(Dropout(0.25))\n",
        "    model.add(Flatten())\n",
        "    \n",
        "    model.add(Dense(1024, activation='relu'))\n",
        "    model.add(Dense(512, activation='relu'))\n",
        "    \n",
        "    model.add(Dense(num_classes, activation='sigmoid'))\n",
        "    \n",
        "    lrate = 0.0001\n",
        "    epochs=20\n",
        "    decay = lrate/epochs\n",
        "    optimizer =adam(lr=0.0001)\n",
        "    #sgd = SGD(lr=lrate, momentum=0.9, decay=decay, nesterov=False)\n",
        "    model.compile(loss='categorical_crossentropy', optimizer=optimizer, metrics=['accuracy'])\n",
        "    \n",
        "    return model\n",
        "  \"\"\""
      ],
      "execution_count": 18,
      "outputs": [
        {
          "output_type": "execute_result",
          "data": {
            "text/plain": [
              "\"\\ndef AlexNet_model():\\n\\n    model = Sequential()\\n    \\n    model.add(Conv2D(32, (3, 3), input_shape=(300, 300, 3), activation='relu',padding='same'))\\n    model.add(MaxPooling2D(pool_size=(2, 2)))\\n    \\n    \\n    model.add(Conv2D(32, (3, 3), activation='relu',padding='same'))\\n    model.add(MaxPooling2D(pool_size=(2, 2)))\\n    \\n    model.add(Conv2D(64, (3, 3), activation='relu',padding='same'))\\n    model.add(MaxPooling2D(pool_size=(2, 2))) \\n     \\n\\n    \\n    model.add(Conv2D(128, (3, 3), activation='relu',padding='same'))\\n    model.add(MaxPooling2D(pool_size=(2, 2)))\\n    \\n    model.add(Conv2D(128, (3, 3), activation='relu',padding='same'))\\n    model.add(MaxPooling2D(pool_size=(2, 2)))\\n    \\n    model.add(Dropout(0.25))\\n    model.add(Flatten())\\n    \\n    model.add(Dense(1024, activation='relu'))\\n    model.add(Dense(512, activation='relu'))\\n    \\n    model.add(Dense(num_classes, activation='sigmoid'))\\n    \\n    lrate = 0.0001\\n    epochs=20\\n    decay = lrate/epochs\\n    optimizer =adam(lr=0.0001)\\n    #sgd = SGD(lr=lrate, momentum=0.9, decay=decay, nesterov=False)\\n    model.compile(loss='categorical_crossentropy', optimizer=optimizer, metrics=['accuracy'])\\n    \\n    return model\\n  \""
            ]
          },
          "metadata": {
            "tags": []
          },
          "execution_count": 18
        }
      ]
    },
    {
      "cell_type": "code",
      "metadata": {
        "id": "NHM1stCYFKev",
        "colab_type": "code",
        "colab": {}
      },
      "source": [
        "def AlexNet_model():\n",
        "\n",
        "    model = Sequential()\n",
        "    \n",
        "    model.add(Conv2D(32, (11, 11), strides=4,input_shape=(300, 300, 3), activation='relu',padding='same'))\n",
        "    model.add(MaxPooling2D(pool_size=(2, 2)))\n",
        "    \n",
        "    \n",
        "    model.add(Conv2D(32, (3, 3), activation='relu',padding='same'))\n",
        "    model.add(MaxPooling2D(pool_size=(2, 2)))\n",
        "    \n",
        "    model.add(Conv2D(64, (3, 3), activation='relu',padding='same'))\n",
        "    model.add(MaxPooling2D(pool_size=(2, 2))) \n",
        "     \n",
        "\n",
        "    \n",
        "    model.add(Conv2D(128, (3, 3), activation='relu',padding='same'))\n",
        "    model.add(MaxPooling2D(pool_size=(2, 2)))\n",
        "    \n",
        "    model.add(Conv2D(128, (3, 3), activation='relu',padding='same'))\n",
        "    model.add(MaxPooling2D(pool_size=(2, 2)))\n",
        "    \n",
        "    model.add(Dropout(0.25))\n",
        "    model.add(Flatten())\n",
        "    \n",
        "    model.add(Dense(1024, activation='relu'))\n",
        "    model.add(Dense(512, activation='relu'))\n",
        "    \n",
        "    model.add(Dense(num_classes, activation='sigmoid'))\n",
        "    \n",
        "    lrate = 0.0001\n",
        "    epochs=20\n",
        "    decay = lrate/epochs\n",
        "    optimizer =adam(lr=0.0001)\n",
        "    #sgd = SGD(lr=lrate, momentum=0.9, decay=decay, nesterov=False)\n",
        "    model.compile(loss='binary_crossentropy', optimizer=optimizer, metrics=['accuracy'])\n",
        "    \n",
        "    return model"
      ],
      "execution_count": 0,
      "outputs": []
    },
    {
      "cell_type": "code",
      "metadata": {
        "id": "0y0g6PGiCeGl",
        "colab_type": "code",
        "colab": {}
      },
      "source": [
        ""
      ],
      "execution_count": 0,
      "outputs": []
    },
    {
      "cell_type": "code",
      "metadata": {
        "id": "GqWsPnU-Bv5k",
        "colab_type": "code",
        "colab": {}
      },
      "source": [
        "#os.chdir('/content/drive/My Drive/Colab Notebooks/DL_Practical_MLP/Results/MLP_CIFAR10')\n",
        "import keras\n",
        "import keras.callbacks\n",
        "from keras.callbacks import TensorBoard\n",
        "from keras.callbacks import EarlyStopping,ModelCheckpoint\n",
        "mc = ModelCheckpoint('PCB_ALEXNET.h5', monitor='val_loss', mode='min', verbose=1, save_best_only=True)\n",
        "filepath = \"saved-model-{epoch:02d}.h5\"\n",
        "mc1 = ModelCheckpoint(filepath, monitor='val_loss', mode='min', verbose=1, save_best_only=True  ,period=10)\n",
        "cv = keras.callbacks.CSVLogger('PCB_ALEXNET.h5.csv', separator=',', append=False)\n",
        "es = keras.callbacks.EarlyStopping(monitor='val_loss', min_delta=0, patience=75,  mode='auto')\n"
      ],
      "execution_count": 0,
      "outputs": []
    },
    {
      "cell_type": "code",
      "metadata": {
        "id": "SuRI-isDYqfR",
        "colab_type": "code",
        "outputId": "733ca7a2-88ce-4331-de78-000cfb907ed5",
        "colab": {
          "base_uri": "https://localhost:8080/",
          "height": 54
        }
      },
      "source": [
        "\n",
        "\"\"\"\n",
        "import os\n",
        "os.chdir(\"/content/drive/My Drive/PCB\")\n",
        "from keras.callbacks import ModelCheckpoint, TensorBoard, CSVLogger\n",
        "mc = ModelCheckpoint('cipharAlexNetNet.h5', monitor='val_loss', save_best_only=True)\n",
        "tb = TensorBoard(log_dir='/content/cnn/My Drive/logs', write_graph=True, write_grads=False, write_images=False, embeddings_freq=0, update_freq='epoch')\n",
        "cv = CSVLogger('cipharAlexNetNet.csv',append=True)\n",
        "\"\"\""
      ],
      "execution_count": 21,
      "outputs": [
        {
          "output_type": "execute_result",
          "data": {
            "text/plain": [
              "'\\nimport os\\nos.chdir(\"/content/drive/My Drive/PCB\")\\nfrom keras.callbacks import ModelCheckpoint, TensorBoard, CSVLogger\\nmc = ModelCheckpoint(\\'cipharAlexNetNet.h5\\', monitor=\\'val_loss\\', save_best_only=True)\\ntb = TensorBoard(log_dir=\\'/content/cnn/My Drive/logs\\', write_graph=True, write_grads=False, write_images=False, embeddings_freq=0, update_freq=\\'epoch\\')\\ncv = CSVLogger(\\'cipharAlexNetNet.csv\\',append=True)\\n'"
            ]
          },
          "metadata": {
            "tags": []
          },
          "execution_count": 21
        }
      ]
    },
    {
      "cell_type": "code",
      "metadata": {
        "id": "Pay7jAJizkA1",
        "colab_type": "code",
        "outputId": "2b10cd18-9378-4eae-e4ba-26fc753f03c8",
        "colab": {
          "base_uri": "https://localhost:8080/",
          "height": 34
        }
      },
      "source": [
        "from keras.callbacks import ModelCheckpoint\n",
        "\"\"\"\n",
        "model = Sequential()\n",
        "model.add(Dense(10, input_dim=784, kernel_initializer='uniform'))\n",
        "model.add(Activation('softmax'))\n",
        "model.compile(loss='categorical_crossentropy', optimizer='rmsprop')\n",
        "\"\"\"\n",
        "'''\n",
        "saves the model weights after each epoch if the validation loss decreased\n",
        "'''\n",
        "#checkpointer = ModelCheckpoint(filepath='/tmp/weights.hdf5', verbose=1, save_best_only=True)\n",
        "#model.fit(x_train, y_train, batch_size=128, epochs=20, verbose=0, validation_data=(X_test, Y_test), callbacks=[checkpointer])\n",
        "\n"
      ],
      "execution_count": 22,
      "outputs": [
        {
          "output_type": "execute_result",
          "data": {
            "text/plain": [
              "'\\nsaves the model weights after each epoch if the validation loss decreased\\n'"
            ]
          },
          "metadata": {
            "tags": []
          },
          "execution_count": 22
        }
      ]
    },
    {
      "cell_type": "code",
      "metadata": {
        "id": "gPLGgrRuDBSx",
        "colab_type": "code",
        "colab": {}
      },
      "source": [
        "from keras.losses import mean_squared_error,mean_absolute_error,mean_squared_logarithmic_error,categorical_hinge,hinge,squared_hinge,categorical_crossentropy\n",
        "from keras.optimizers import adam,adadelta,adagrad,adamax,sgd\n",
        "#model.compile(loss=\"categorical_crossentropy\", optimizer=\"sgd\", metrics=['accuracy'])\n"
      ],
      "execution_count": 0,
      "outputs": []
    },
    {
      "cell_type": "code",
      "metadata": {
        "id": "luwtQNV4DTpE",
        "colab_type": "code",
        "outputId": "8c28d0b0-e96e-41e2-9281-821467bf5f5c",
        "colab": {
          "base_uri": "https://localhost:8080/",
          "height": 1000
        }
      },
      "source": [
        "model=AlexNet_model()\n",
        "print(model.summary())\n"
      ],
      "execution_count": 24,
      "outputs": [
        {
          "output_type": "stream",
          "text": [
            "WARNING:tensorflow:From /usr/local/lib/python3.6/dist-packages/keras/backend/tensorflow_backend.py:66: The name tf.get_default_graph is deprecated. Please use tf.compat.v1.get_default_graph instead.\n",
            "\n",
            "WARNING:tensorflow:From /usr/local/lib/python3.6/dist-packages/keras/backend/tensorflow_backend.py:541: The name tf.placeholder is deprecated. Please use tf.compat.v1.placeholder instead.\n",
            "\n",
            "WARNING:tensorflow:From /usr/local/lib/python3.6/dist-packages/keras/backend/tensorflow_backend.py:4432: The name tf.random_uniform is deprecated. Please use tf.random.uniform instead.\n",
            "\n",
            "WARNING:tensorflow:From /usr/local/lib/python3.6/dist-packages/keras/backend/tensorflow_backend.py:4267: The name tf.nn.max_pool is deprecated. Please use tf.nn.max_pool2d instead.\n",
            "\n",
            "WARNING:tensorflow:From /usr/local/lib/python3.6/dist-packages/keras/backend/tensorflow_backend.py:148: The name tf.placeholder_with_default is deprecated. Please use tf.compat.v1.placeholder_with_default instead.\n",
            "\n",
            "WARNING:tensorflow:From /usr/local/lib/python3.6/dist-packages/keras/backend/tensorflow_backend.py:3733: calling dropout (from tensorflow.python.ops.nn_ops) with keep_prob is deprecated and will be removed in a future version.\n",
            "Instructions for updating:\n",
            "Please use `rate` instead of `keep_prob`. Rate should be set to `rate = 1 - keep_prob`.\n",
            "WARNING:tensorflow:From /usr/local/lib/python3.6/dist-packages/keras/optimizers.py:793: The name tf.train.Optimizer is deprecated. Please use tf.compat.v1.train.Optimizer instead.\n",
            "\n",
            "WARNING:tensorflow:From /usr/local/lib/python3.6/dist-packages/keras/backend/tensorflow_backend.py:3657: The name tf.log is deprecated. Please use tf.math.log instead.\n",
            "\n",
            "WARNING:tensorflow:From /tensorflow-1.15.2/python3.6/tensorflow_core/python/ops/nn_impl.py:183: where (from tensorflow.python.ops.array_ops) is deprecated and will be removed in a future version.\n",
            "Instructions for updating:\n",
            "Use tf.where in 2.0, which has the same broadcast rule as np.where\n",
            "Model: \"sequential_1\"\n",
            "_________________________________________________________________\n",
            "Layer (type)                 Output Shape              Param #   \n",
            "=================================================================\n",
            "conv2d_1 (Conv2D)            (None, 75, 75, 32)        11648     \n",
            "_________________________________________________________________\n",
            "max_pooling2d_1 (MaxPooling2 (None, 37, 37, 32)        0         \n",
            "_________________________________________________________________\n",
            "conv2d_2 (Conv2D)            (None, 37, 37, 32)        9248      \n",
            "_________________________________________________________________\n",
            "max_pooling2d_2 (MaxPooling2 (None, 18, 18, 32)        0         \n",
            "_________________________________________________________________\n",
            "conv2d_3 (Conv2D)            (None, 18, 18, 64)        18496     \n",
            "_________________________________________________________________\n",
            "max_pooling2d_3 (MaxPooling2 (None, 9, 9, 64)          0         \n",
            "_________________________________________________________________\n",
            "conv2d_4 (Conv2D)            (None, 9, 9, 128)         73856     \n",
            "_________________________________________________________________\n",
            "max_pooling2d_4 (MaxPooling2 (None, 4, 4, 128)         0         \n",
            "_________________________________________________________________\n",
            "conv2d_5 (Conv2D)            (None, 4, 4, 128)         147584    \n",
            "_________________________________________________________________\n",
            "max_pooling2d_5 (MaxPooling2 (None, 2, 2, 128)         0         \n",
            "_________________________________________________________________\n",
            "dropout_1 (Dropout)          (None, 2, 2, 128)         0         \n",
            "_________________________________________________________________\n",
            "flatten_1 (Flatten)          (None, 512)               0         \n",
            "_________________________________________________________________\n",
            "dense_1 (Dense)              (None, 1024)              525312    \n",
            "_________________________________________________________________\n",
            "dense_2 (Dense)              (None, 512)               524800    \n",
            "_________________________________________________________________\n",
            "dense_3 (Dense)              (None, 2)                 1026      \n",
            "=================================================================\n",
            "Total params: 1,311,970\n",
            "Trainable params: 1,311,970\n",
            "Non-trainable params: 0\n",
            "_________________________________________________________________\n",
            "None\n"
          ],
          "name": "stdout"
        }
      ]
    },
    {
      "cell_type": "code",
      "metadata": {
        "id": "61Uf2JPb5iMu",
        "colab_type": "code",
        "colab": {}
      },
      "source": [
        "class WeightCallback(keras.callbacks.Callback):\n",
        "    def on_epoch_end(self, epoch, logs={}):\n",
        "        if epoch%1 == 0:\n",
        "            fig, axs = plt.subplots(1,10, figsize=(10*1.5,1.5), facecolor='w', edgecolor='k')\n",
        "            for i in range(10):\n",
        "                axs[i].set_title(\"Digit : \" + str(i))\n",
        "                digit = model.layers[0].get_weights()[0][:,i]\n",
        "                digit = ((digit - digit.min())*(1/(digit.max() - digit.min()))*255).astype(\"uint8\")\n",
        "                axs[i].imshow(digit.reshape(300,300,3),cmap=\"viridis\")\n",
        "weight = WeightCallback()"
      ],
      "execution_count": 0,
      "outputs": []
    },
    {
      "cell_type": "code",
      "metadata": {
        "id": "CelvtHxR-oDv",
        "colab_type": "code",
        "colab": {}
      },
      "source": [
        "checkpointer = ModelCheckpoint(filepath='/tmp/weights.hdf5', verbose=1, save_best_only=True)"
      ],
      "execution_count": 0,
      "outputs": []
    },
    {
      "cell_type": "markdown",
      "metadata": {
        "id": "WDGm8asglYaj",
        "colab_type": "text"
      },
      "source": [
        "0**Keras Callbacks**"
      ]
    },
    {
      "cell_type": "code",
      "metadata": {
        "id": "KM31YNZh4UB6",
        "colab_type": "code",
        "outputId": "16760365-f495-475b-f3ac-9522f00b31d2",
        "colab": {
          "base_uri": "https://localhost:8080/",
          "height": 1000
        }
      },
      "source": [
        "history=model.fit(X_train, y_train, validation_split=(0.2), epochs=35, batch_size=32,verbose=2,callbacks=[checkpointer])\n",
        "#model.fit(x_train, y_train, batch_size=128, epochs=20, verbose=0, validation_data=(X_test, Y_test), callbacks=[checkpointer])\n",
        "\n",
        "\n"
      ],
      "execution_count": 40,
      "outputs": [
        {
          "output_type": "stream",
          "text": [
            "Train on 4032 samples, validate on 1008 samples\n",
            "Epoch 1/35\n",
            " - 4s - loss: 0.0901 - acc: 0.9647 - val_loss: 0.1954 - val_acc: 0.9216\n",
            "\n",
            "Epoch 00001: val_loss did not improve from 0.15165\n",
            "Epoch 2/35\n",
            " - 4s - loss: 0.0740 - acc: 0.9679 - val_loss: 0.3236 - val_acc: 0.8775\n",
            "\n",
            "Epoch 00002: val_loss did not improve from 0.15165\n",
            "Epoch 3/35\n",
            " - 4s - loss: 0.0653 - acc: 0.9711 - val_loss: 0.2125 - val_acc: 0.9211\n",
            "\n",
            "Epoch 00003: val_loss did not improve from 0.15165\n",
            "Epoch 4/35\n",
            " - 4s - loss: 0.0691 - acc: 0.9745 - val_loss: 0.2426 - val_acc: 0.9127\n",
            "\n",
            "Epoch 00004: val_loss did not improve from 0.15165\n",
            "Epoch 5/35\n",
            " - 4s - loss: 0.0633 - acc: 0.9751 - val_loss: 0.1981 - val_acc: 0.9330\n",
            "\n",
            "Epoch 00005: val_loss did not improve from 0.15165\n",
            "Epoch 6/35\n",
            " - 4s - loss: 0.0594 - acc: 0.9766 - val_loss: 0.1735 - val_acc: 0.9380\n",
            "\n",
            "Epoch 00006: val_loss did not improve from 0.15165\n",
            "Epoch 7/35\n",
            " - 4s - loss: 0.0485 - acc: 0.9807 - val_loss: 0.2523 - val_acc: 0.9226\n",
            "\n",
            "Epoch 00007: val_loss did not improve from 0.15165\n",
            "Epoch 8/35\n",
            " - 4s - loss: 0.0441 - acc: 0.9828 - val_loss: 0.2669 - val_acc: 0.9177\n",
            "\n",
            "Epoch 00008: val_loss did not improve from 0.15165\n",
            "Epoch 9/35\n",
            " - 4s - loss: 0.0446 - acc: 0.9814 - val_loss: 0.2154 - val_acc: 0.9395\n",
            "\n",
            "Epoch 00009: val_loss did not improve from 0.15165\n",
            "Epoch 10/35\n",
            " - 4s - loss: 0.0460 - acc: 0.9831 - val_loss: 0.2282 - val_acc: 0.9375\n",
            "\n",
            "Epoch 00010: val_loss did not improve from 0.15165\n",
            "Epoch 11/35\n",
            " - 4s - loss: 0.0511 - acc: 0.9835 - val_loss: 0.2344 - val_acc: 0.9514\n",
            "\n",
            "Epoch 00011: val_loss did not improve from 0.15165\n",
            "Epoch 12/35\n",
            " - 4s - loss: 0.0441 - acc: 0.9824 - val_loss: 0.4061 - val_acc: 0.8998\n",
            "\n",
            "Epoch 00012: val_loss did not improve from 0.15165\n",
            "Epoch 13/35\n",
            " - 4s - loss: 0.0339 - acc: 0.9874 - val_loss: 0.3829 - val_acc: 0.9157\n",
            "\n",
            "Epoch 00013: val_loss did not improve from 0.15165\n",
            "Epoch 14/35\n",
            " - 4s - loss: 0.0347 - acc: 0.9906 - val_loss: 0.2562 - val_acc: 0.9355\n",
            "\n",
            "Epoch 00014: val_loss did not improve from 0.15165\n",
            "Epoch 15/35\n",
            " - 4s - loss: 0.0270 - acc: 0.9886 - val_loss: 0.1812 - val_acc: 0.9563\n",
            "\n",
            "Epoch 00015: val_loss did not improve from 0.15165\n",
            "Epoch 16/35\n",
            " - 4s - loss: 0.0395 - acc: 0.9864 - val_loss: 0.1965 - val_acc: 0.9509\n",
            "\n",
            "Epoch 00016: val_loss did not improve from 0.15165\n",
            "Epoch 17/35\n",
            " - 4s - loss: 0.0269 - acc: 0.9903 - val_loss: 0.2958 - val_acc: 0.9306\n",
            "\n",
            "Epoch 00017: val_loss did not improve from 0.15165\n",
            "Epoch 18/35\n",
            " - 4s - loss: 0.0267 - acc: 0.9912 - val_loss: 0.2643 - val_acc: 0.9385\n",
            "\n",
            "Epoch 00018: val_loss did not improve from 0.15165\n",
            "Epoch 19/35\n",
            " - 4s - loss: 0.0238 - acc: 0.9901 - val_loss: 0.4373 - val_acc: 0.9082\n",
            "\n",
            "Epoch 00019: val_loss did not improve from 0.15165\n",
            "Epoch 20/35\n",
            " - 4s - loss: 0.0353 - acc: 0.9869 - val_loss: 0.1746 - val_acc: 0.9583\n",
            "\n",
            "Epoch 00020: val_loss did not improve from 0.15165\n",
            "Epoch 21/35\n",
            " - 4s - loss: 0.0385 - acc: 0.9851 - val_loss: 0.2513 - val_acc: 0.9454\n",
            "\n",
            "Epoch 00021: val_loss did not improve from 0.15165\n",
            "Epoch 22/35\n",
            " - 4s - loss: 0.0263 - acc: 0.9903 - val_loss: 0.4805 - val_acc: 0.8948\n",
            "\n",
            "Epoch 00022: val_loss did not improve from 0.15165\n",
            "Epoch 23/35\n",
            " - 4s - loss: 0.0187 - acc: 0.9943 - val_loss: 0.2999 - val_acc: 0.9395\n",
            "\n",
            "Epoch 00023: val_loss did not improve from 0.15165\n",
            "Epoch 24/35\n",
            " - 4s - loss: 0.0193 - acc: 0.9934 - val_loss: 0.3840 - val_acc: 0.9191\n",
            "\n",
            "Epoch 00024: val_loss did not improve from 0.15165\n",
            "Epoch 25/35\n",
            " - 4s - loss: 0.0194 - acc: 0.9926 - val_loss: 0.3813 - val_acc: 0.9296\n",
            "\n",
            "Epoch 00025: val_loss did not improve from 0.15165\n",
            "Epoch 26/35\n",
            " - 4s - loss: 0.0146 - acc: 0.9948 - val_loss: 0.3322 - val_acc: 0.9375\n",
            "\n",
            "Epoch 00026: val_loss did not improve from 0.15165\n",
            "Epoch 27/35\n",
            " - 4s - loss: 0.0133 - acc: 0.9953 - val_loss: 0.4987 - val_acc: 0.9226\n",
            "\n",
            "Epoch 00027: val_loss did not improve from 0.15165\n",
            "Epoch 28/35\n",
            " - 4s - loss: 0.0290 - acc: 0.9914 - val_loss: 0.2422 - val_acc: 0.9474\n",
            "\n",
            "Epoch 00028: val_loss did not improve from 0.15165\n",
            "Epoch 29/35\n",
            " - 4s - loss: 0.0237 - acc: 0.9914 - val_loss: 0.4373 - val_acc: 0.9167\n",
            "\n",
            "Epoch 00029: val_loss did not improve from 0.15165\n",
            "Epoch 30/35\n",
            " - 4s - loss: 0.0186 - acc: 0.9947 - val_loss: 0.2051 - val_acc: 0.9653\n",
            "\n",
            "Epoch 00030: val_loss did not improve from 0.15165\n",
            "Epoch 31/35\n",
            " - 4s - loss: 0.0182 - acc: 0.9938 - val_loss: 0.2424 - val_acc: 0.9529\n",
            "\n",
            "Epoch 00031: val_loss did not improve from 0.15165\n",
            "Epoch 32/35\n",
            " - 4s - loss: 0.0108 - acc: 0.9968 - val_loss: 0.3613 - val_acc: 0.9454\n",
            "\n",
            "Epoch 00032: val_loss did not improve from 0.15165\n",
            "Epoch 33/35\n",
            " - 4s - loss: 0.0151 - acc: 0.9948 - val_loss: 0.2682 - val_acc: 0.9514\n",
            "\n",
            "Epoch 00033: val_loss did not improve from 0.15165\n",
            "Epoch 34/35\n",
            " - 4s - loss: 0.0097 - acc: 0.9970 - val_loss: 0.3790 - val_acc: 0.9375\n",
            "\n",
            "Epoch 00034: val_loss did not improve from 0.15165\n",
            "Epoch 35/35\n",
            " - 4s - loss: 0.0125 - acc: 0.9963 - val_loss: 0.3068 - val_acc: 0.9509\n",
            "\n",
            "Epoch 00035: val_loss did not improve from 0.15165\n"
          ],
          "name": "stdout"
        }
      ]
    },
    {
      "cell_type": "code",
      "metadata": {
        "id": "cDDalmCAwJyg",
        "colab_type": "code",
        "outputId": "f3256ca2-370c-41e7-a1cc-ca982fc12006",
        "colab": {
          "base_uri": "https://localhost:8080/",
          "height": 119
        }
      },
      "source": [
        "model.load_weights('/tmp/weights.hdf5')\n",
        "train_loss,train_acc=model.evaluate(X_train,y_train)\n",
        "print(train_loss)\n",
        "print(train_acc)\n",
        "test_loss,test_acc=model.evaluate(X_test,y_test)\n",
        "print(test_loss)\n",
        "print(test_acc)"
      ],
      "execution_count": 41,
      "outputs": [
        {
          "output_type": "stream",
          "text": [
            "5040/5040 [==============================] - 3s 652us/step\n",
            "0.08823710394771918\n",
            "0.9661706349206349\n",
            "2669/2669 [==============================] - 2s 652us/step\n",
            "2.564043268911663\n",
            "0.8392656425627576\n"
          ],
          "name": "stdout"
        }
      ]
    },
    {
      "cell_type": "markdown",
      "metadata": {
        "id": "UdDUSm89wjvi",
        "colab_type": "text"
      },
      "source": [
        "### Loss and Accuracy Curves"
      ]
    },
    {
      "cell_type": "code",
      "metadata": {
        "id": "q1OD6P3SwUK3",
        "colab_type": "code",
        "colab": {}
      },
      "source": [
        "train_loss = history.history['loss']\n",
        "train_acc = history.history['acc']\n",
        "val_loss = history.history['val_loss']\n",
        "val_acc = history.history['val_acc']\n",
        "xc=range(35)"
      ],
      "execution_count": 0,
      "outputs": []
    },
    {
      "cell_type": "code",
      "metadata": {
        "id": "ObPDOrVlwZ54",
        "colab_type": "code",
        "colab": {
          "base_uri": "https://localhost:8080/",
          "height": 296
        },
        "outputId": "06438101-5242-46d9-e14d-bde6dc6aa4fc"
      },
      "source": [
        "import matplotlib.pyplot as plt\n",
        "%matplotlib inline\n",
        "plt.plot(xc, train_loss)\n",
        "plt.plot(xc, val_loss)\n",
        "plt.xlabel(\"Epoch\")\n",
        "plt.ylabel(\"Loss\")\n",
        "plt.legend(['train','val'])"
      ],
      "execution_count": 43,
      "outputs": [
        {
          "output_type": "execute_result",
          "data": {
            "text/plain": [
              "<matplotlib.legend.Legend at 0x7f75509a2860>"
            ]
          },
          "metadata": {
            "tags": []
          },
          "execution_count": 43
        },
        {
          "output_type": "display_data",
          "data": {
            "image/png": "[encoded data removed]",
            "text/plain": [
              "<Figure size 432x288 with 1 Axes>"
            ]
          },
          "metadata": {
            "tags": []
          }
        }
      ]
    },
    {
      "cell_type": "code",
      "metadata": {
        "id": "ehQ7ykS3wiJ6",
        "colab_type": "code",
        "colab": {
          "base_uri": "https://localhost:8080/",
          "height": 296
        },
        "outputId": "cffcf46e-c7c9-4001-cb4f-4eca9b576d1f"
      },
      "source": [
        "import matplotlib.pyplot as plt\n",
        "%matplotlib inline\n",
        "plt.plot(xc, train_acc)\n",
        "plt.plot(xc, val_acc)\n",
        "plt.xlabel(\"Epoch\")\n",
        "plt.ylabel(\"Acc\")\n",
        "plt.legend(['train','val'])"
      ],
      "execution_count": 44,
      "outputs": [
        {
          "output_type": "execute_result",
          "data": {
            "text/plain": [
              "<matplotlib.legend.Legend at 0x7f7550962978>"
            ]
          },
          "metadata": {
            "tags": []
          },
          "execution_count": 44
        },
        {
          "output_type": "display_data",
          "data": {
            "image/png": "[encoded data removed]",
            "text/plain": [
              "<Figure size 432x288 with 1 Axes>"
            ]
          },
          "metadata": {
            "tags": []
          }
        }
      ]
    },
    {
      "cell_type": "code",
      "metadata": {
        "id": "ZLI9oGNgWHrX",
        "colab_type": "code",
        "colab": {}
      },
      "source": [
        "\n"
      ],
      "execution_count": 0,
      "outputs": []
    },
    {
      "cell_type": "code",
      "metadata": {
        "id": "C4dlZL121e5L",
        "colab_type": "code",
        "outputId": "0fe9faef-9197-43f8-ff95-079aac153bc2",
        "colab": {
          "base_uri": "https://localhost:8080/",
          "height": 170
        }
      },
      "source": [
        "import numpy as np\n",
        "from sklearn.metrics import classification_report,confusion_matrix\n",
        "import itertools\n",
        "\n",
        "Y_pred = model.predict(X_test)\n",
        "#print(np.unique(Y_pred))\n",
        "y_pred = np.argmax(Y_pred, axis=1)\n",
        "target_names = ['class 0', 'class 1']\n",
        "print(classification_report(np.argmax(y_test,axis=1), y_pred,target_names=target_names))"
      ],
      "execution_count": 45,
      "outputs": [
        {
          "output_type": "stream",
          "text": [
            "              precision    recall  f1-score   support\n",
            "\n",
            "     class 0       0.25      0.92      0.39       149\n",
            "     class 1       0.99      0.83      0.91      2520\n",
            "\n",
            "    accuracy                           0.84      2669\n",
            "   macro avg       0.62      0.88      0.65      2669\n",
            "weighted avg       0.95      0.84      0.88      2669\n",
            "\n"
          ],
          "name": "stdout"
        }
      ]
    },
    {
      "cell_type": "code",
      "metadata": {
        "id": "QgNg1yTJGzBH",
        "colab_type": "code",
        "colab": {}
      },
      "source": [
        "\n"
      ],
      "execution_count": 0,
      "outputs": []
    },
    {
      "cell_type": "code",
      "metadata": {
        "id": "DzxV4PA_xifu",
        "colab_type": "code",
        "colab": {}
      },
      "source": [
        ""
      ],
      "execution_count": 0,
      "outputs": []
    }
  ]
}
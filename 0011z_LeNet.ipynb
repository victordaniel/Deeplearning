{
  "nbformat": 4,
  "nbformat_minor": 0,
  "metadata": {
    "colab": {
      "name": "0011z_LeNet.ipynb",
      "provenance": [],
      "collapsed_sections": []
    },
    "kernelspec": {
      "name": "python3",
      "display_name": "Python 3"
    },
    "accelerator": "GPU"
  },
  "cells": [
    {
      "cell_type": "markdown",
      "metadata": {
        "id": "iiE0ew4jSZ8i",
        "colab_type": "text"
      },
      "source": [
        "# **Visual Information Processing Lab**"
      ]
    },
    {
      "cell_type": "markdown",
      "metadata": {
        "id": "LcTlE8AAz1y3",
        "colab_type": "text"
      },
      "source": [
        "# LeNet"
      ]
    },
    {
      "cell_type": "code",
      "metadata": {
        "id": "RoO2sto-y1gM",
        "colab_type": "code",
        "colab": {}
      },
      "source": [
        "from google.colab import drive\n",
        "drive.mount('/content/drive/')"
      ],
      "execution_count": 0,
      "outputs": []
    },
    {
      "cell_type": "code",
      "metadata": {
        "id": "M3gvTLHF0WrA",
        "colab_type": "code",
        "colab": {}
      },
      "source": [
        "import os\n",
        "os.chdir('/content/drive/My Drive/DL_2019_20/Files')\n",
        "os.getcwd()"
      ],
      "execution_count": 0,
      "outputs": []
    },
    {
      "cell_type": "code",
      "metadata": {
        "id": "3eQXT1TX0Wwl",
        "colab_type": "code",
        "colab": {}
      },
      "source": [
        "from IPython.display import Image, display\n",
        "display(Image(filename=\"/content/drive/My Drive/DL_2019_20/Files/lenet.png\"))"
      ],
      "execution_count": 0,
      "outputs": []
    },
    {
      "cell_type": "markdown",
      "metadata": {
        "id": "D_GLvaZxRf22",
        "colab_type": "text"
      },
      "source": [
        "### Datasets and Pre Processing"
      ]
    },
    {
      "cell_type": "code",
      "metadata": {
        "id": "lprTCs8D0W4z",
        "colab_type": "code",
        "colab": {}
      },
      "source": [
        "import keras\n",
        "from keras.datasets import mnist"
      ],
      "execution_count": 0,
      "outputs": []
    },
    {
      "cell_type": "code",
      "metadata": {
        "id": "mtwQiJg9D2Ja",
        "colab_type": "code",
        "colab": {}
      },
      "source": [
        "(xtrain,ytrain),(xtest,ytest)=mnist.load_data()"
      ],
      "execution_count": 0,
      "outputs": []
    },
    {
      "cell_type": "code",
      "metadata": {
        "id": "e4xqjBZbD2P0",
        "colab_type": "code",
        "colab": {}
      },
      "source": [
        "print(xtrain.shape)\n",
        "print(ytrain.shape)\n",
        "\n",
        "print(xtest.shape)\n",
        "print(ytest.shape)\n",
        "\n",
        "print(xtrain.ndim)\n",
        "print(xtrain.dtype)\n",
        "\n",
        "print(xtrain.ndim)\n",
        "print(xtrain.dtype)\n",
        "\n",
        "print(xtest.ndim)\n",
        "print(xtest.dtype)"
      ],
      "execution_count": 0,
      "outputs": []
    },
    {
      "cell_type": "code",
      "metadata": {
        "id": "S3xk-bBLD2Nk",
        "colab_type": "code",
        "colab": {}
      },
      "source": [
        "import matplotlib.pyplot as plt\n",
        "%matplotlib inline\n",
        "plt.imshow(xtest[0], cmap='gray')"
      ],
      "execution_count": 0,
      "outputs": []
    },
    {
      "cell_type": "code",
      "metadata": {
        "id": "4fcunBsjD2Fv",
        "colab_type": "code",
        "colab": {}
      },
      "source": [
        "print(xtrain.shape[0])\n",
        "print(xtrain.shape[1])\n",
        "print(xtrain.shape[2])"
      ],
      "execution_count": 0,
      "outputs": []
    },
    {
      "cell_type": "code",
      "metadata": {
        "id": "1cP9X7xZ2eLs",
        "colab_type": "code",
        "colab": {}
      },
      "source": [
        "xtrain = xtrain.astype('float32')\n",
        "xtest  = xtest.astype('float32')"
      ],
      "execution_count": 0,
      "outputs": []
    },
    {
      "cell_type": "code",
      "metadata": {
        "id": "9s6UNFM62Djm",
        "colab_type": "code",
        "colab": {}
      },
      "source": [
        "#keras.utils.normalize(a, axis=-1, order=2)\n",
        "print (np.max(xtrain),np.max(xtest))\n",
        "print (np.min(xtrain),np.min(xtest))\n",
        "\n",
        "print (np.max(ytrain),np.max(ytest))\n",
        "print (np.min(ytrain),np.min(ytest))\n",
        "\n",
        "mean = np.mean(xtrain)\n",
        "std  = np.std(xtrain)\n",
        "\n",
        "print(mean)\n",
        "print(std)\n",
        "\n",
        "xtrain -= mean\n",
        "xtrain /= std\n",
        "\n",
        "xtest -= mean\n",
        "xtest /= std\n",
        "\n",
        "print (np.max(xtrain),np.max(xtest))\n",
        "print (np.min(xtrain),np.min(xtest))"
      ],
      "execution_count": 0,
      "outputs": []
    },
    {
      "cell_type": "code",
      "metadata": {
        "id": "7A91IbEa0W8s",
        "colab_type": "code",
        "colab": {}
      },
      "source": [
        "xtrain = xtrain.reshape(xtrain.shape[0],28,28,1)\n",
        "xtest =  xtest.reshape(xtest.shape[0],28,28,1)"
      ],
      "execution_count": 0,
      "outputs": []
    },
    {
      "cell_type": "code",
      "metadata": {
        "id": "zMbLmBA_0W2F",
        "colab_type": "code",
        "colab": {}
      },
      "source": [
        "from keras.utils import to_categorical\n",
        "ytrain = to_categorical(ytrain)\n",
        "ytest  =  to_categorical(ytest)\n",
        "print(ytest[0])"
      ],
      "execution_count": 0,
      "outputs": []
    },
    {
      "cell_type": "markdown",
      "metadata": {
        "id": "Kk6PWrfHRpSI",
        "colab_type": "text"
      },
      "source": [
        "### LeNet Model"
      ]
    },
    {
      "cell_type": "code",
      "metadata": {
        "id": "7W8d09qsELhH",
        "colab_type": "code",
        "colab": {}
      },
      "source": [
        "import keras\n",
        "from keras import models\n",
        "from keras import layers"
      ],
      "execution_count": 0,
      "outputs": []
    },
    {
      "cell_type": "code",
      "metadata": {
        "id": "M4Bna6oRELmu",
        "colab_type": "code",
        "colab": {}
      },
      "source": [
        "model = models.Sequential()\n",
        "\n",
        "model.add(layers.Conv2D(6, (5,5), input_shape=(28,28,1), activation='relu', strides=(1,1), padding='valid'))\n",
        "model.add(layers.AveragePooling2D(pool_size=(2,2), strides=(2,2)))\n",
        "\n",
        "model.add(layers.Conv2D(16, (5,5),activation='relu', strides=(1,1), padding='valid'))\n",
        "model.add(layers.AveragePooling2D(pool_size=(2,2), strides=(2,2)))\n",
        "\n",
        "model.add(layers.Flatten())\n",
        "\n",
        "model.add(layers.Dense(120, activation='relu'))\n",
        "model.add(layers.Dense(84, activation='relu'))\n",
        "\n",
        "model.add(layers.Dense(10, activation='softmax'))\n",
        "\n",
        "model.summary()"
      ],
      "execution_count": 0,
      "outputs": []
    },
    {
      "cell_type": "markdown",
      "metadata": {
        "id": "MD0IUy1HRwUS",
        "colab_type": "text"
      },
      "source": [
        "### Visualization of randomly initialized filters"
      ]
    },
    {
      "cell_type": "code",
      "metadata": {
        "id": "LibQa_Z0ELrx",
        "colab_type": "code",
        "colab": {}
      },
      "source": [
        "weight_conv2d_1 = model.layers[0].get_weights()[0][:,:,0,:]\n",
        " \n",
        "col_size = 3\n",
        "row_size = 2\n",
        "filter_index = 0\n",
        "fig, ax = plt.subplots(row_size, col_size, figsize=(5,5))\n",
        "for row in range(0,row_size): \n",
        "  for col in range(0,col_size):\n",
        "    ax[row][col].imshow(weight_conv2d_1[:,:,filter_index],cmap=\"gray\")\n",
        "    filter_index += 1"
      ],
      "execution_count": 0,
      "outputs": []
    },
    {
      "cell_type": "code",
      "metadata": {
        "id": "ggvk1lXjEZnW",
        "colab_type": "code",
        "colab": {}
      },
      "source": [
        "print(weight_conv2d_1[:,:,0])\n",
        "print(\"\")\n",
        "print(weight_conv2d_1[:,:,1])\n",
        "print(\"\")\n",
        "print(weight_conv2d_1[:,:,2])\n",
        "print(\"\")\n",
        "print(weight_conv2d_1[:,:,3])\n",
        "print(\"\")\n",
        "print(weight_conv2d_1[:,:,4])\n",
        "print(\"\")\n",
        "print(weight_conv2d_1[:,:,5])"
      ],
      "execution_count": 0,
      "outputs": []
    },
    {
      "cell_type": "code",
      "metadata": {
        "id": "cRytZyDrELwu",
        "colab_type": "code",
        "colab": {}
      },
      "source": [
        "weight_conv2d_2 = model.layers[2].get_weights()[0][:,:,0,:]\n",
        "#plt.axis=(\"OFF\")\n",
        "col_size = 4\n",
        "row_size = 4\n",
        "filter_index = 0\n",
        "fig, ax = plt.subplots(row_size, col_size, figsize=(12,8))\n",
        "for row in range(0,row_size): \n",
        "  for col in range(0,col_size):\n",
        "    ax[row][col].imshow(weight_conv2d_2[:,:,filter_index],cmap=\"gray\")\n",
        "    filter_index += 1"
      ],
      "execution_count": 0,
      "outputs": []
    },
    {
      "cell_type": "code",
      "metadata": {
        "id": "wnwxFfN-EL11",
        "colab_type": "code",
        "colab": {}
      },
      "source": [
        "print(weight_conv2d_2[:,:,0])\n",
        "print(\"\")\n",
        "print(weight_conv2d_2[:,:,1])\n",
        "print(\"\")\n",
        "print(weight_conv2d_2[:,:,2])\n",
        "print(\"\")\n",
        "print(weight_conv2d_2[:,:,3])\n",
        "print(\"\")\n",
        "print(weight_conv2d_2[:,:,4])\n",
        "print(\"\")\n",
        "print(weight_conv2d_2[:,:,5])\n",
        "print(\"\")\n",
        "print(weight_conv2d_2[:,:,6])\n",
        "print(\"\")\n",
        "print(weight_conv2d_2[:,:,7])\n",
        "print(\"\")\n",
        "print(weight_conv2d_2[:,:,8])\n",
        "print(\"\")\n",
        "print(weight_conv2d_2[:,:,9])\n",
        "print(\"\")\n",
        "print(weight_conv2d_2[:,:,10])\n",
        "print(\"\")\n",
        "print(weight_conv2d_2[:,:,11])\n",
        "print(\"\")\n",
        "print(weight_conv2d_2[:,:,12])\n",
        "print(\"\")\n",
        "print(weight_conv2d_2[:,:,13])\n",
        "print(\"\")\n",
        "print(weight_conv2d_2[:,:,14])\n",
        "print(\"\")\n",
        "print(weight_conv2d_2[:,:,15])"
      ],
      "execution_count": 0,
      "outputs": []
    },
    {
      "cell_type": "code",
      "metadata": {
        "id": "PM_aHI4eFzDH",
        "colab_type": "code",
        "colab": {}
      },
      "source": [
        "def step_decay(epoch):\n",
        "\tinitial_lrate = 0.1\n",
        "\tdrop = 0.5\n",
        "\tepochs_drop = 10.0\n",
        "\tlrate = initial_lrate * math.pow(drop, math.floor((1+epoch)/epochs_drop))\n",
        "\treturn lrate"
      ],
      "execution_count": 0,
      "outputs": []
    },
    {
      "cell_type": "markdown",
      "metadata": {
        "id": "Mfg2xjEBR45s",
        "colab_type": "text"
      },
      "source": [
        "### Compile and Training the model"
      ]
    },
    {
      "cell_type": "code",
      "metadata": {
        "id": "rzOe9IWPEL8h",
        "colab_type": "code",
        "colab": {}
      },
      "source": [
        "os.chdir('/content/drive/My Drive/DL_2019_20/DL_Practicals/Results/CNN_MNIST')\n",
        "\n",
        "print(os.getcwd())\n",
        "\n",
        "from keras.callbacks import ModelCheckpoint,ReduceLROnPlateau,CSVLogger\n",
        "\n",
        "mc = ModelCheckpoint('CNN_MNIST.h5', monitor='val_loss', mode='min', verbose=1, save_best_only=True)\n",
        "\n",
        "filepath = \"saved-model-{epoch:02d}.h5\"\n",
        "\n",
        "#mc1 = ModelCheckpoint(filepath, monitor='val_loss', mode='min', verbose=1, save_best_only=True  ,period=10)\n",
        "\n",
        "cv = keras.callbacks.CSVLogger('CNN_MNIST.csv', separator=',', append=False)\n",
        "\n",
        "#rp = ReduceLROnPlateau(monitor='val_loss', factor=0.1, patience=15, verbose=0, mode='auto', min_delta=0.00)\n",
        "\n",
        "#es = keras.callbacks.EarlyStopping(monitor='val_loss', min_delta=0, patience=0, verbose=0, mode='auto', baseline=None, restore_best_weights=False)"
      ],
      "execution_count": 0,
      "outputs": []
    },
    {
      "cell_type": "code",
      "metadata": {
        "id": "_AV_7BHI7qzP",
        "colab_type": "code",
        "colab": {}
      },
      "source": [
        "model.compile(loss=\"categorical_crossentropy\", optimizer=\"sgd\", metrics=['accuracy'])\n",
        "history=model.fit(xtrain, ytrain, validation_split=(0.2), batch_size=256, callbacks= [mc,cv],epochs=50, verbose=1)"
      ],
      "execution_count": 0,
      "outputs": []
    },
    {
      "cell_type": "markdown",
      "metadata": {
        "id": "WO3Gv-ZvSBBv",
        "colab_type": "text"
      },
      "source": [
        "### Evaluate"
      ]
    },
    {
      "cell_type": "code",
      "metadata": {
        "id": "LMFb-yGhF-T6",
        "colab_type": "code",
        "colab": {}
      },
      "source": [
        "model.evaluate(xtest,ytest)"
      ],
      "execution_count": 0,
      "outputs": []
    },
    {
      "cell_type": "markdown",
      "metadata": {
        "id": "ad6-UlSISEwQ",
        "colab_type": "text"
      },
      "source": [
        "### Prediction"
      ]
    },
    {
      "cell_type": "code",
      "metadata": {
        "id": "CFrhtFNvSFbh",
        "colab_type": "code",
        "colab": {}
      },
      "source": [
        "pred=model.predict(xtest[0].reshape(1,28,28,1))\n",
        "print(pred)\n",
        "print(pred.argmax())"
      ],
      "execution_count": 0,
      "outputs": []
    },
    {
      "cell_type": "code",
      "metadata": {
        "id": "NXrljEXjGGcs",
        "colab_type": "code",
        "colab": {}
      },
      "source": [
        "test_loss,test_acc=model.evaluate(xtest,ytest)\n",
        "print(test_loss)\n",
        "print(test_acc)"
      ],
      "execution_count": 0,
      "outputs": []
    },
    {
      "cell_type": "markdown",
      "metadata": {
        "id": "3XAdho_fSLlk",
        "colab_type": "text"
      },
      "source": [
        "### Loss and Accuracy Curves"
      ]
    },
    {
      "cell_type": "code",
      "metadata": {
        "id": "ANMlS2hSGGpb",
        "colab_type": "code",
        "colab": {}
      },
      "source": [
        "train_loss = history.history['loss']\n",
        "train_acc = history.history['acc']\n",
        "val_loss = history.history['val_loss']\n",
        "val_acc = history.history['val_acc']\n",
        "xc=range(len(train_loss))"
      ],
      "execution_count": 0,
      "outputs": []
    },
    {
      "cell_type": "code",
      "metadata": {
        "id": "8NqqIltwGGvM",
        "colab_type": "code",
        "colab": {}
      },
      "source": [
        "import matplotlib.pyplot as plt\n",
        "%matplotlib inline\n",
        "plt.plot(xc, train_loss)\n",
        "plt.plot(xc, val_loss)\n",
        "plt.xlabel(\"Epoch\")\n",
        "plt.ylabel(\"Loss\")\n",
        "plt.legend(['train','val'])"
      ],
      "execution_count": 0,
      "outputs": []
    },
    {
      "cell_type": "code",
      "metadata": {
        "id": "LAAataRe6UIr",
        "colab_type": "code",
        "colab": {}
      },
      "source": [
        "import matplotlib.pyplot as plt\n",
        "%matplotlib inline\n",
        "plt.plot(xc, train_acc)\n",
        "plt.plot(xc, val_acc)\n",
        "plt.xlabel(\"Epoch\")\n",
        "plt.ylabel(\"Acc\")\n",
        "plt.legend(['train','val'])"
      ],
      "execution_count": 0,
      "outputs": []
    },
    {
      "cell_type": "code",
      "metadata": {
        "id": "DXL5_36FGG89",
        "colab_type": "code",
        "colab": {}
      },
      "source": [
        "%matplotlib inline\n",
        "for i in range(10):\n",
        "    pred = model.predict(xtest[i].reshape(1, 28, 28, 1))\n",
        "    print(\"\"+str(i+1)+\" Actual is \"+ \" \" + str(ytest[i])+\" Predicted is \"+str(pred.argmax()))"
      ],
      "execution_count": 0,
      "outputs": []
    },
    {
      "cell_type": "code",
      "metadata": {
        "id": "pFmcXsM6GG0L",
        "colab_type": "code",
        "colab": {}
      },
      "source": [
        "import numpy as np\n",
        "from sklearn.metrics import classification_report,confusion_matrix\n",
        "import itertools\n",
        "\n",
        "Y_pred = model.predict(xtest)\n",
        "y_pred = np.argmax(Y_pred, axis=1)\n",
        "target_names = ['class 0', 'class 1', 'class 2','class 3','class 4','class 5','class 6','class 7','class 8','class 9']\n",
        "print(classification_report(np.argmax(ytest,axis=1), y_pred,target_names=target_names))"
      ],
      "execution_count": 0,
      "outputs": []
    },
    {
      "cell_type": "code",
      "metadata": {
        "id": "DqX1NSY0Qr03",
        "colab_type": "code",
        "colab": {}
      },
      "source": [
        "def plot_confusion_matrix(cm, classes,\n",
        "                          normalize=False,\n",
        "                          title='Confusion matrix',\n",
        "                          cmap=plt.cm.Blues):\n",
        "    \"\"\"\n",
        "    This function prints and plots the confusion matrix.\n",
        "    Normalization can be applied by setting `normalize=True`.\n",
        "    \"\"\"\n",
        "    plt.imshow(cm, interpolation='nearest', cmap=cmap)\n",
        "    plt.title(title)\n",
        "    plt.colorbar()\n",
        "    tick_marks = np.arange(len(classes))\n",
        "    plt.xticks(tick_marks, classes, rotation=45)\n",
        "    plt.yticks(tick_marks, classes)\n",
        "\n",
        "    if normalize:\n",
        "        cm = cm.astype('float') / cm.sum(axis=1)[:, np.newaxis]\n",
        "        print(\"Normalized confusion matrix\")\n",
        "    else:\n",
        "        print('Confusion matrix, without normalization')\n",
        "\n",
        "    print(cm)\n",
        "\n",
        "    thresh = cm.max() / 2.\n",
        "    for i, j in itertools.product(range(cm.shape[0]), range(cm.shape[1])):\n",
        "        plt.text(j, i, cm[i, j],\n",
        "                 horizontalalignment=\"center\",\n",
        "                 color=\"white\" if cm[i, j] > thresh else \"black\")\n",
        "        \n",
        "\n",
        "    plt.tight_layout()\n",
        "    plt.ylabel('True label')\n",
        "    plt.xlabel('Predicted label')"
      ],
      "execution_count": 0,
      "outputs": []
    },
    {
      "cell_type": "code",
      "metadata": {
        "id": "r_Zc96z4Qr6E",
        "colab_type": "code",
        "colab": {}
      },
      "source": [
        "cnf_matrix = (confusion_matrix(np.argmax(ytest,axis=1), y_pred))\n",
        "np.set_printoptions(precision=2)\n",
        "plt.figure(figsize=(10,10))\n",
        "plot_confusion_matrix(cnf_matrix, classes=target_names,\n",
        "                      title='Confusion matrix')\n",
        "#plt.show()"
      ],
      "execution_count": 0,
      "outputs": []
    },
    {
      "cell_type": "markdown",
      "metadata": {
        "id": "T_J6Gfk_78Ne",
        "colab_type": "text"
      },
      "source": [
        "## Visualization"
      ]
    },
    {
      "cell_type": "code",
      "metadata": {
        "id": "hWnpRcb2Qrw3",
        "colab_type": "code",
        "colab": {}
      },
      "source": [
        "for layer in model.layers:\n",
        "  print(layer)"
      ],
      "execution_count": 0,
      "outputs": []
    },
    {
      "cell_type": "code",
      "metadata": {
        "id": "n_EIFWhwQy41",
        "colab_type": "code",
        "colab": {}
      },
      "source": [
        "from keras.models import Model\n",
        "layer_outputs = [layer.output for layer in model.layers]\n",
        "activation_model = Model(inputs=model.input, outputs=layer_outputs)\n",
        "activations = activation_model.predict(xtrain[10].reshape(1,28,28,1))"
      ],
      "execution_count": 0,
      "outputs": []
    },
    {
      "cell_type": "code",
      "metadata": {
        "id": "x-wyS71SQzHw",
        "colab_type": "code",
        "colab": {}
      },
      "source": [
        "def display_activation(activations, col_size, row_size, act_index):\n",
        "    activation = activations[act_index]\n",
        "    activation_index=0\n",
        "    fig, ax = plt.subplots(row_size, col_size, figsize=(row_size*3.5,col_size*2.5))\n",
        "    for row in range(0,row_size):\n",
        "        for col in range(0,col_size):\n",
        "            ax[row][col].imshow(activation[0, :, :, activation_index], cmap='gray')\n",
        "            activation_index += 1"
      ],
      "execution_count": 0,
      "outputs": []
    },
    {
      "cell_type": "code",
      "metadata": {
        "id": "YBcuEmlsQzEp",
        "colab_type": "code",
        "colab": {}
      },
      "source": [
        "len(activations)\n",
        "#activations\n",
        "print(activations[0].shape)\n",
        "print(activations[1].shape)\n",
        "print(activations[2].shape)\n",
        "print(activations[3].shape)\n",
        "print(activations[4].shape)\n",
        "print(activations[5].shape)\n",
        "print(activations[6].shape)\n",
        "print(activations[7].shape)"
      ],
      "execution_count": 0,
      "outputs": []
    },
    {
      "cell_type": "code",
      "metadata": {
        "id": "038zY9fNQzAo",
        "colab_type": "code",
        "colab": {}
      },
      "source": [
        "print(activations[0].shape)\n",
        "display_activation(activations,3,2,0)"
      ],
      "execution_count": 0,
      "outputs": []
    },
    {
      "cell_type": "code",
      "metadata": {
        "id": "OTr0PchVQy-m",
        "colab_type": "code",
        "colab": {}
      },
      "source": [
        "print(activations[1].shape)\n",
        "display_activation(activations,3,2,1)"
      ],
      "execution_count": 0,
      "outputs": []
    },
    {
      "cell_type": "code",
      "metadata": {
        "id": "TXsC2ucYRGLy",
        "colab_type": "code",
        "colab": {}
      },
      "source": [
        "print(activations[2].shape)\n",
        "display_activation(activations,4,4,2)"
      ],
      "execution_count": 0,
      "outputs": []
    },
    {
      "cell_type": "code",
      "metadata": {
        "id": "c7NMAeS6RGYe",
        "colab_type": "code",
        "colab": {}
      },
      "source": [
        "print(activations[3].shape)\n",
        "display_activation(activations,4,4,3)"
      ],
      "execution_count": 0,
      "outputs": []
    },
    {
      "cell_type": "code",
      "metadata": {
        "id": "E3-8tQTTRGVx",
        "colab_type": "code",
        "colab": {}
      },
      "source": [
        "act_dense_3  = activations[7]\n",
        " \n",
        "y = act_dense_3[0]\n",
        "x = range(len(y))\n",
        "plt.xticks(x)\n",
        "plt.bar(x, y)\n",
        "plt.show()"
      ],
      "execution_count": 0,
      "outputs": []
    },
    {
      "cell_type": "code",
      "metadata": {
        "id": "ugZBEKYpRGSr",
        "colab_type": "code",
        "colab": {}
      },
      "source": [
        "weight_conv2d_1 = model.layers[0].get_weights()[0][:,:,0,:]\n",
        " \n",
        "col_size = 3\n",
        "row_size = 2\n",
        "filter_index = 0\n",
        "fig, ax = plt.subplots(row_size, col_size, figsize=(5,5))\n",
        "for row in range(0,row_size): \n",
        "  for col in range(0,col_size):\n",
        "    ax[row][col].imshow(weight_conv2d_1[:,:,filter_index],cmap=\"gray\")\n",
        "    filter_index += 1"
      ],
      "execution_count": 0,
      "outputs": []
    },
    {
      "cell_type": "code",
      "metadata": {
        "id": "xnjcRxdeRRgi",
        "colab_type": "code",
        "colab": {}
      },
      "source": [
        "print(weight_conv2d_1[:,:,0])\n",
        "print(\"\")\n",
        "print(weight_conv2d_1[:,:,1])\n",
        "print(\"\")\n",
        "print(weight_conv2d_1[:,:,2])\n",
        "print(\"\")\n",
        "print(weight_conv2d_1[:,:,3])\n",
        "print(\"\")\n",
        "print(weight_conv2d_1[:,:,4])\n",
        "print(\"\")\n",
        "print(weight_conv2d_1[:,:,5])"
      ],
      "execution_count": 0,
      "outputs": []
    },
    {
      "cell_type": "code",
      "metadata": {
        "id": "rDGYpywRRRdn",
        "colab_type": "code",
        "colab": {}
      },
      "source": [
        "weight_conv2d_2 = model.layers[2].get_weights()[0][:,:,0,:]\n",
        "col_size = 4\n",
        "row_size = 4\n",
        "filter_index = 0\n",
        "fig, ax = plt.subplots(row_size, col_size, figsize=(12,8))\n",
        "for row in range(0,row_size): \n",
        "  for col in range(0,col_size):\n",
        "    ax[row][col].imshow(weight_conv2d_2[:,:,filter_index],cmap=\"gray\")\n",
        "    filter_index += 1"
      ],
      "execution_count": 0,
      "outputs": []
    },
    {
      "cell_type": "code",
      "metadata": {
        "id": "fAJ_JDw9RRax",
        "colab_type": "code",
        "colab": {}
      },
      "source": [
        "print(weight_conv2d_2[:,:,0])\n",
        "print(\"\")\n",
        "print(weight_conv2d_2[:,:,1])\n",
        "print(\"\")\n",
        "print(weight_conv2d_2[:,:,2])\n",
        "print(\"\")\n",
        "print(weight_conv2d_2[:,:,3])\n",
        "print(\"\")\n",
        "print(weight_conv2d_2[:,:,4])\n",
        "print(\"\")\n",
        "print(weight_conv2d_2[:,:,5])\n",
        "print(\"\")\n",
        "print(weight_conv2d_2[:,:,6])\n",
        "print(\"\")\n",
        "print(weight_conv2d_2[:,:,7])\n",
        "print(\"\")\n",
        "print(weight_conv2d_2[:,:,8])\n",
        "print(\"\")\n",
        "print(weight_conv2d_2[:,:,9])\n",
        "print(\"\")\n",
        "print(weight_conv2d_2[:,:,10])\n",
        "print(\"\")\n",
        "print(weight_conv2d_2[:,:,11])\n",
        "print(\"\")\n",
        "print(weight_conv2d_2[:,:,12])\n",
        "print(\"\")\n",
        "print(weight_conv2d_2[:,:,13])\n",
        "print(\"\")\n",
        "print(weight_conv2d_2[:,:,14])\n",
        "print(\"\")\n",
        "print(weight_conv2d_2[:,:,15])"
      ],
      "execution_count": 0,
      "outputs": []
    }
  ]
}
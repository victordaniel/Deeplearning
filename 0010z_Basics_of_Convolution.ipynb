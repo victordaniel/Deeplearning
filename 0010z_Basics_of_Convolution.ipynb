{
  "nbformat": 4,
  "nbformat_minor": 0,
  "metadata": {
    "colab": {
      "name": "0010z_Basics of Convolution.ipynb",
      "provenance": [],
      "collapsed_sections": []
    },
    "kernelspec": {
      "name": "python3",
      "display_name": "Python 3"
    },
    "accelerator": "GPU"
  },
  "cells": [
    {
      "cell_type": "markdown",
      "metadata": {
        "id": "zcfSsn_-uDYl",
        "colab_type": "text"
      },
      "source": [
        "## Convolution vs Correation"
      ]
    },
    {
      "cell_type": "code",
      "metadata": {
        "id": "JVmj5wx6f403",
        "colab_type": "code",
        "colab": {}
      },
      "source": [
        "from google.colab import drive\n",
        "drive.mount('/content/drive/')"
      ],
      "execution_count": 0,
      "outputs": []
    },
    {
      "cell_type": "code",
      "metadata": {
        "id": "-LraFiEigYsr",
        "colab_type": "code",
        "colab": {}
      },
      "source": [
        "import os\n",
        "os.chdir('/content/drive/My Drive/DL_2019_20/Files')\n",
        "os.getcwd()"
      ],
      "execution_count": 0,
      "outputs": []
    },
    {
      "cell_type": "markdown",
      "metadata": {
        "id": "yFYS2TTwvMkg",
        "colab_type": "text"
      },
      "source": [
        "### 1D Operation"
      ]
    },
    {
      "cell_type": "code",
      "metadata": {
        "id": "f2WXlsKqsb0F",
        "colab_type": "code",
        "colab": {}
      },
      "source": [
        "from scipy.ndimage import correlate,convolve\n",
        "import numpy as np\n",
        "from scipy.signal import convolve2d,correlate2d \n",
        "\n",
        "a = np.array([1,2,3,4,5])\n",
        "b = np.array([1,2,3])\n",
        "\n",
        "d = np.correlate(a,b,'valid')\n",
        "print(d)\n",
        "\n",
        "c = np.correlate(a,b,'same')\n",
        "print(c)"
      ],
      "execution_count": 0,
      "outputs": []
    },
    {
      "cell_type": "code",
      "metadata": {
        "id": "HqcKjg7ssibL",
        "colab_type": "code",
        "colab": {}
      },
      "source": [
        "a = np.array([1,2,3,4,5])\n",
        "b = np.array([1,2,3])\n",
        "\n",
        "d = np.convolve(a,b,'valid')\n",
        "print(d)\n",
        "\n",
        "c = np.convolve(a,b,'same')\n",
        "print(c)"
      ],
      "execution_count": 0,
      "outputs": []
    },
    {
      "cell_type": "markdown",
      "metadata": {
        "id": "CBWZiD8-vU5t",
        "colab_type": "text"
      },
      "source": [
        "### 2D Operation"
      ]
    },
    {
      "cell_type": "code",
      "metadata": {
        "id": "n4CKv_FmuXuU",
        "colab_type": "code",
        "colab": {}
      },
      "source": [
        "from scipy.ndimage import correlate,convolve\n",
        "import numpy as np\n",
        "from scipy.signal import convolve2d,correlate2d \n",
        "\n",
        "a = np.array([[8, 6, 2, 7],\n",
        "              [6, 2, 4, 1], \n",
        "              [5, 8, 5, 2], \n",
        "              [3, 0, 3, 2]])\n",
        "print(a.shape)\n",
        "b = np.array([[4, 3], [7, 2]])\n",
        "print(b.shape)\n",
        "print(c)"
      ],
      "execution_count": 0,
      "outputs": []
    },
    {
      "cell_type": "markdown",
      "metadata": {
        "id": "4MoQCfaqvnQm",
        "colab_type": "text"
      },
      "source": [
        "### Application of Convolution"
      ]
    },
    {
      "cell_type": "markdown",
      "metadata": {
        "id": "eQv_C-VqyAHH",
        "colab_type": "text"
      },
      "source": [
        "#### Example 1"
      ]
    },
    {
      "cell_type": "code",
      "metadata": {
        "id": "e0L1VKT5wQDI",
        "colab_type": "code",
        "colab": {}
      },
      "source": [
        "from scipy.signal import convolve2d\n",
        "import cv2\n",
        "import matplotlib.pyplot as plt\n",
        "%matplotlib inline\n",
        "import numpy as np\n",
        "\n",
        "img = cv2.imread('cam.png',cv2.IMREAD_GRAYSCALE)\n",
        "\n",
        "\n",
        "kernel = np.array([[1,0,-1],\n",
        "                    [0,0,0],\n",
        "                    [-1,0,1]])\n",
        "\n",
        "\n",
        "print(img.shape)\n",
        "print(kernel.shape)\n",
        "\n",
        "b=convolve2d(img,kernel)"
      ],
      "execution_count": 0,
      "outputs": []
    },
    {
      "cell_type": "code",
      "metadata": {
        "id": "IsjOeunmwZ8X",
        "colab_type": "code",
        "colab": {}
      },
      "source": [
        "plt.figure(figsize=(15,15))\n",
        "plt.subplot(131).imshow(img,'gray')\n",
        "plt.subplot(132).imshow(kernel,'gray')\n",
        "plt.subplot(133).imshow(b,'gray')"
      ],
      "execution_count": 0,
      "outputs": []
    },
    {
      "cell_type": "markdown",
      "metadata": {
        "id": "j0wRWmiOyFoT",
        "colab_type": "text"
      },
      "source": [
        "#### Example 2"
      ]
    },
    {
      "cell_type": "code",
      "metadata": {
        "id": "A0-ZUWcCwgaO",
        "colab_type": "code",
        "colab": {}
      },
      "source": [
        "from scipy.signal import convolve2d\n",
        "import cv2\n",
        "import matplotlib.pyplot as plt\n",
        "%matplotlib inline\n",
        "import numpy as np\n",
        "\n",
        "img = cv2.imread('cam.png',cv2.IMREAD_GRAYSCALE)\n",
        "\n",
        "\n",
        "kernel = np.array([[0,1,0],\n",
        "                   [1,-4,1],\n",
        "                   [0,1,0]])\n",
        "\n",
        "\n",
        "print(img.shape)\n",
        "print(kernel.shape)\n",
        "\n",
        "b1=correlate2d(img,kernel)"
      ],
      "execution_count": 0,
      "outputs": []
    },
    {
      "cell_type": "code",
      "metadata": {
        "id": "QOsz5m1Ewi1v",
        "colab_type": "code",
        "colab": {}
      },
      "source": [
        "plt.figure(figsize=(15,15))\n",
        "plt.subplot(131).imshow(img,'gray')\n",
        "plt.subplot(132).imshow(kernel,'gray')\n",
        "plt.subplot(133).imshow(b1,'gray')"
      ],
      "execution_count": 0,
      "outputs": []
    },
    {
      "cell_type": "markdown",
      "metadata": {
        "id": "4Sv5I5YvyIoS",
        "colab_type": "text"
      },
      "source": [
        "#### Example 3"
      ]
    },
    {
      "cell_type": "code",
      "metadata": {
        "id": "2GmcaXy2_nsc",
        "colab_type": "code",
        "colab": {}
      },
      "source": [
        "from scipy.signal import convolve2d\n",
        "import cv2\n",
        "import matplotlib.pyplot as plt\n",
        "%matplotlib inline\n",
        "import numpy as np\n",
        "\n",
        "img = cv2.imread('cam.png',cv2.IMREAD_GRAYSCALE)\n",
        "\n",
        "\n",
        "kernel = np.array([[-1,-1,-1],\n",
        "                   [-1,8,-1],\n",
        "                   [-1,-1,-1]])\n",
        "\n",
        "\n",
        "print(img.shape)\n",
        "print(kernel.shape)\n",
        "\n",
        "b3=correlate2d(img,kernel)"
      ],
      "execution_count": 0,
      "outputs": []
    },
    {
      "cell_type": "code",
      "metadata": {
        "id": "e66FP61bxQbx",
        "colab_type": "code",
        "colab": {}
      },
      "source": [
        "plt.figure(figsize=(15,15))\n",
        "plt.subplot(131).imshow(img,'gray')\n",
        "plt.subplot(132).imshow(kernel,'gray')\n",
        "plt.subplot(133).imshow(b3,'gray')"
      ],
      "execution_count": 0,
      "outputs": []
    },
    {
      "cell_type": "markdown",
      "metadata": {
        "id": "rWa-6H9pyN6L",
        "colab_type": "text"
      },
      "source": [
        "#### Coomparison"
      ]
    },
    {
      "cell_type": "code",
      "metadata": {
        "id": "MLyM1mf2xv_G",
        "colab_type": "code",
        "colab": {}
      },
      "source": [
        "plt.figure(figsize=(15,15))\n",
        "plt.subplot(131).imshow(b,'gray')\n",
        "plt.subplot(132).imshow(b1,'gray')\n",
        "plt.subplot(133).imshow(b3,'gray')"
      ],
      "execution_count": 0,
      "outputs": []
    }
  ]
}
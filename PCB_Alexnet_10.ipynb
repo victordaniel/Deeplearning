{
  "nbformat": 4,
  "nbformat_minor": 0,
  "metadata": {
    "colab": {
      "name": "PCB_Alexnet.ipynb",
      "provenance": [],
      "collapsed_sections": [
        "UdDUSm89wjvi"
      ],
      "machine_shape": "hm",
      "include_colab_link": true
    },
    "kernelspec": {
      "name": "python3",
      "display_name": "Python 3"
    },
    "accelerator": "GPU"
  },
  "cells": [
    {
      "cell_type": "markdown",
      "metadata": {
        "id": "view-in-github",
        "colab_type": "text"
      },
      "source": [
        "<a href=\"https://colab.research.google.com/github/victordaniel/Deeplearning/blob/master/PCB_Alexnet_10.ipynb\" target=\"_parent\"><img src=\"https://colab.research.google.com/assets/colab-badge.svg\" alt=\"Open In Colab\"/></a>"
      ]
    },
    {
      "cell_type": "markdown",
      "metadata": {
        "id": "cqnoWGjx1iIC",
        "colab_type": "text"
      },
      "source": [
        "**Imports**"
      ]
    },
    {
      "cell_type": "code",
      "metadata": {
        "id": "yi98Z22q1jIv",
        "colab_type": "code",
        "outputId": "cd268e08-471f-4f57-8270-9413b6053496",
        "colab": {
          "base_uri": "https://localhost:8080/",
          "height": 34
        }
      },
      "source": [
        "%tensorflow_version 1.x\n",
        " "
      ],
      "execution_count": 1,
      "outputs": [
        {
          "output_type": "stream",
          "text": [
            "TensorFlow 1.x selected.\n"
          ],
          "name": "stdout"
        }
      ]
    },
    {
      "cell_type": "code",
      "metadata": {
        "id": "uT4YaLEJXOxi",
        "colab_type": "code",
        "colab": {}
      },
      "source": [
        "from tensorflow.python.keras.layers import Dense\n",
        "from tensorflow.python.keras import Sequential\n"
      ],
      "execution_count": 0,
      "outputs": []
    },
    {
      "cell_type": "code",
      "metadata": {
        "id": "URQQuXeXadGq",
        "colab_type": "code",
        "outputId": "10d8cccd-9bea-41ce-96ad-b733888fc315",
        "colab": {
          "base_uri": "https://localhost:8080/",
          "height": 34
        }
      },
      "source": [
        "\n",
        "from matplotlib import pyplot\n",
        "%matplotlib inline\n",
        "#from scipy.misc import toimage\n",
        "import numpy\n",
        "from keras.models import Sequential\n",
        "from keras.layers import Dense\n",
        "from keras.layers import Dropout\n",
        "from keras.layers import Flatten\n",
        "from keras.constraints import maxnorm\n",
        "from keras.optimizers import SGD\n",
        "from keras.layers.convolutional import Conv2D\n",
        "from keras.layers import BatchNormalization\n",
        "from keras.layers.convolutional import MaxPooling2D\n",
        "from keras.utils import np_utils\n",
        "from keras import backend as K\n",
        "from sklearn.model_selection import train_test_split\n",
        "#K.set_image_dim_ordering('tf')\n"
      ],
      "execution_count": 3,
      "outputs": [
        {
          "output_type": "stream",
          "text": [
            "Using TensorFlow backend.\n"
          ],
          "name": "stderr"
        }
      ]
    },
    {
      "cell_type": "code",
      "metadata": {
        "id": "OqRLtJ8tWsCD",
        "colab_type": "code",
        "outputId": "0de7a97b-b3fd-4e03-9b3d-b98febfc765d",
        "colab": {
          "base_uri": "https://localhost:8080/",
          "height": 85
        }
      },
      "source": [
        "%tensorflow_version"
      ],
      "execution_count": 4,
      "outputs": [
        {
          "output_type": "stream",
          "text": [
            "Currently selected TF version: 1.x\n",
            "Available versions:\n",
            "* 1.x\n",
            "* 2.x\n"
          ],
          "name": "stdout"
        }
      ]
    },
    {
      "cell_type": "code",
      "metadata": {
        "id": "5I0tVzV7v7Cb",
        "colab_type": "code",
        "outputId": "0faabf2a-d7d6-4bdb-b93b-35c4070c8c1e",
        "colab": {
          "base_uri": "https://localhost:8080/",
          "height": 122
        }
      },
      "source": [
        "from google.colab import drive\n",
        "\n",
        "drive.mount('/content/drive')"
      ],
      "execution_count": 5,
      "outputs": [
        {
          "output_type": "stream",
          "text": [
            "Go to this URL in a browser: https://accounts.google.com/o/oauth2/auth?client_id=947318989803-6bn6qk8qdgf4n4g3pfee6491hc0brc4i.apps.googleusercontent.com&redirect_uri=urn%3aietf%3awg%3aoauth%3a2.0%3aoob&response_type=code&scope=email%20https%3a%2f%2fwww.googleapis.com%2fauth%2fdocs.test%20https%3a%2f%2fwww.googleapis.com%2fauth%2fdrive%20https%3a%2f%2fwww.googleapis.com%2fauth%2fdrive.photos.readonly%20https%3a%2f%2fwww.googleapis.com%2fauth%2fpeopleapi.readonly\n",
            "\n",
            "Enter your authorization code:\n",
            "··········\n",
            "Mounted at /content/drive\n"
          ],
          "name": "stdout"
        }
      ]
    },
    {
      "cell_type": "code",
      "metadata": {
        "id": "aZGfSuz-XK82",
        "colab_type": "code",
        "outputId": "76548fc2-4d46-4ed6-d2a7-b9ac8494d748",
        "colab": {
          "base_uri": "https://localhost:8080/",
          "height": 88
        }
      },
      "source": [
        "import os\n",
        "print(os.getcwd())\n",
        "print(os.chdir('/content/drive/My Drive/'))\n",
        "print(os.listdir())"
      ],
      "execution_count": 6,
      "outputs": [
        {
          "output_type": "stream",
          "text": [
            "/content\n",
            "None\n",
            "['s_x_train (1).npy', 's_x_train.npy', 'pcb_aug.npy', 'pcb_aug_y.npy', 'Getting started.pdf', '2017-ieee-Anomaly-Detection-in-Online-Social-Network-A-Survey.pdf', '01565707.pdf', '6-oddball.pdf', 'A-comparative-analysis-of-structural-graph-metrics-t_2017_Computers---Electr.pdf', 'Anomaly detection in multiplex network.docx', 'Anomaly detection in multiplex network.pdf', 'anomaly detection in multiplex networks.html', 'anomaly detection in social networks.pdf', 'definitions.pdf', 'easy.pdf', 'eigen vector anomaly detection.pdf', 'evolving data survey.pdf', 'facebook.tar.gz', 'graph based kmeans clustering.pdf', 'graph similarity.pdf', 'Graph_Cluster_Analysis.pdf', 'GraphClustering_Schaeffer07.pdf', 'hadassah.pdf', 'imp.pdf', 'Graphtheory.pdf', 'image.png', 'M.Tech. DA Syllabus1.pdf', 'matrix factorization.pdf', 'Networks An introduction.pdf', 'New Text Document.txt', 'nguyen-phan-anh-bsc.pdf', 'Notes (1).docx', 'oddball_Technical report.pdf', 'phd thesis preliminary  work.pdf', 'PPT1.pptx', 'PPT [Autosaved].pptx', 'PPT.pptx', 'PPT-graph_theory_1-11.pdf', 'PPT-Graph.pdf', 'rsingh kaur detecting anomalies in online social networks.pdf', 'SCAN.pdf', 'srivastava.pdf', 'stream graphs survey.pdf', 'streaming data.pdf', 'subgraph anomaly.pdf', 'survey11.pdf', 'thesis-large scale data processing.pdf', 'survey.ppt', 'triangle counting.pdf', 'vaisa.docx', 'thesis.pdf', 'writeup.docx', 'Colab Notebooks', 'Project', 'data.xlsx', 'Anomaly_Graph_Neural_Net-master', 'fwdtutorialclass', 'mnist', 'train.csv', 'PCB', 'x_train.npy', 'y_train.npy', 'Copy of xtrain.npy', 'Copy of ytrain.npy', 'raw_x_train.npy', 'raw_y_train.npy']\n"
          ],
          "name": "stdout"
        }
      ]
    },
    {
      "cell_type": "code",
      "metadata": {
        "id": "ToGR7e_y_fIO",
        "colab_type": "code",
        "colab": {}
      },
      "source": [
        "from IPython.display import Image,display\n",
        "#display(Image(filename='/content/drive/My Drive/SSDL/Day2/Image/alex.png',embed=True))"
      ],
      "execution_count": 0,
      "outputs": []
    },
    {
      "cell_type": "code",
      "metadata": {
        "id": "GC7V1kd3WS26",
        "colab_type": "code",
        "colab": {}
      },
      "source": [
        ""
      ],
      "execution_count": 0,
      "outputs": []
    },
    {
      "cell_type": "code",
      "metadata": {
        "id": "jm_m4mk7C3NS",
        "colab_type": "code",
        "outputId": "55e8fe4a-8fc2-4109-e756-b17de4079917",
        "colab": {
          "base_uri": "https://localhost:8080/",
          "height": 51
        }
      },
      "source": [
        "import numpy as np\n",
        "data_x=np.load('x_train.npy')\n",
        "data_y=np.load('y_train.npy')\n",
        "#print(len(data_x))\n",
        "#print(len(data_y))\n",
        "#train_x=data_x\n",
        "#train_y=data_y\n",
        "##print(train_x.shape)\n",
        "#print(train_y.shape)\n",
        "#print(np.unique(train_y))\n",
        "from sklearn.model_selection import train_test_split\n",
        "\n",
        "#X_train, X_test, y_train, y_test = train_test_split(train_x, train_y, test_size=0.2)\n",
        "X_train,  y_train = data_x, data_y\n",
        "#X_test=np.load('Copy of xtrain.npy')\n",
        "#y_test=np.load('Copy of ytrain.npy')\n",
        "\n",
        "\n",
        "print(X_train.shape)\n",
        "print(y_train.shape)\n",
        "\n"
      ],
      "execution_count": 8,
      "outputs": [
        {
          "output_type": "stream",
          "text": [
            "(5040, 300, 300, 3)\n",
            "(5040,)\n"
          ],
          "name": "stdout"
        }
      ]
    },
    {
      "cell_type": "code",
      "metadata": {
        "id": "KEqXDn_-Cohg",
        "colab_type": "code",
        "colab": {}
      },
      "source": [
        "\n",
        "X_test=np.load('Copy of xtrain.npy')\n",
        "y_test=np.load('Copy of ytrain.npy')"
      ],
      "execution_count": 0,
      "outputs": []
    },
    {
      "cell_type": "code",
      "metadata": {
        "id": "vCI23a9euM12",
        "colab_type": "code",
        "outputId": "087f2580-1e86-4f3c-d3db-a3934166f491",
        "colab": {
          "base_uri": "https://localhost:8080/",
          "height": 34
        }
      },
      "source": [
        "\"\"\"\"\n",
        "#X_train,  y_train = data_x, data_y\n",
        "X_test=np.load('raw_x_train.npy')\n",
        "y_test=np.load('raw_y_train.npy')\n",
        "\"\"\""
      ],
      "execution_count": 11,
      "outputs": [
        {
          "output_type": "execute_result",
          "data": {
            "text/plain": [
              "'\"\\n#X_train,  y_train = data_x, data_y\\nX_test=np.load(\\'raw_x_train.npy\\')\\ny_test=np.load(\\'raw_y_train.npy\\')\\n'"
            ]
          },
          "metadata": {
            "tags": []
          },
          "execution_count": 11
        }
      ]
    },
    {
      "cell_type": "code",
      "metadata": {
        "id": "bp8INPwY9Bm3",
        "colab_type": "code",
        "outputId": "a79b6bd6-76fe-4b1c-d79e-dc4e18cadebe",
        "colab": {
          "base_uri": "https://localhost:8080/",
          "height": 85
        }
      },
      "source": [
        "print(len(X_train))\n",
        "print(len(y_train))\n",
        "print(len(X_test))\n",
        "print(len(y_test))"
      ],
      "execution_count": 12,
      "outputs": [
        {
          "output_type": "stream",
          "text": [
            "5040\n",
            "5040\n",
            "298\n",
            "298\n"
          ],
          "name": "stdout"
        }
      ]
    },
    {
      "cell_type": "code",
      "metadata": {
        "id": "jcbAIDa4OGjv",
        "colab_type": "code",
        "outputId": "494a9cf2-1a09-4390-cc6a-733ba8392e1e",
        "colab": {
          "base_uri": "https://localhost:8080/",
          "height": 34
        }
      },
      "source": [
        "print(np.unique(y_test))"
      ],
      "execution_count": 13,
      "outputs": [
        {
          "output_type": "stream",
          "text": [
            "[0. 1.]\n"
          ],
          "name": "stdout"
        }
      ]
    },
    {
      "cell_type": "code",
      "metadata": {
        "id": "Q_vFpdGS9QRN",
        "colab_type": "code",
        "outputId": "1babba93-fefb-4136-a47a-6ecd23e1f970",
        "colab": {
          "base_uri": "https://localhost:8080/",
          "height": 85
        }
      },
      "source": [
        "print(X_train.shape)\n",
        "print(y_train.shape)\n",
        "print(X_test.shape)\n",
        "print(y_test.shape)"
      ],
      "execution_count": 14,
      "outputs": [
        {
          "output_type": "stream",
          "text": [
            "(5040, 300, 300, 3)\n",
            "(5040,)\n",
            "(298, 300, 300, 3)\n",
            "(298,)\n"
          ],
          "name": "stdout"
        }
      ]
    },
    {
      "cell_type": "markdown",
      "metadata": {
        "id": "TjlL-TMDlUDU",
        "colab_type": "text"
      },
      "source": [
        "**Pre-Processing**"
      ]
    },
    {
      "cell_type": "code",
      "metadata": {
        "id": "pR0tRV4P2XtI",
        "colab_type": "code",
        "colab": {}
      },
      "source": [
        "X_train = X_train.astype('float32')\n",
        "X_test = X_test.astype('float32')\n",
        "X_train = X_train / 255.0\n",
        "X_test = X_test / 255.0"
      ],
      "execution_count": 0,
      "outputs": []
    },
    {
      "cell_type": "code",
      "metadata": {
        "id": "kSY7SyaQ2blN",
        "colab_type": "code",
        "colab": {}
      },
      "source": [
        "y_train = np_utils.to_categorical(y_train)\n",
        "y_test = np_utils.to_categorical(y_test)\n",
        "num_classes = y_test.shape[1]"
      ],
      "execution_count": 0,
      "outputs": []
    },
    {
      "cell_type": "code",
      "metadata": {
        "id": "AcXLq5oOlHJD",
        "colab_type": "code",
        "colab": {}
      },
      "source": [
        "from keras.optimizers import adam\n",
        "from keras import regularizers"
      ],
      "execution_count": 0,
      "outputs": []
    },
    {
      "cell_type": "markdown",
      "metadata": {
        "id": "KUZNDYUkmwkm",
        "colab_type": "text"
      },
      "source": [
        "**AlexNet Model**"
      ]
    },
    {
      "cell_type": "code",
      "metadata": {
        "id": "yfGBezzS2kal",
        "colab_type": "code",
        "outputId": "9887f41e-24cd-4cb5-d969-5dc2bfd4809c",
        "colab": {
          "base_uri": "https://localhost:8080/",
          "height": 54
        }
      },
      "source": [
        "\"\"\"\n",
        "def AlexNet_model():\n",
        "\n",
        "    model = Sequential()\n",
        "    \n",
        "    model.add(Conv2D(32, (3, 3), input_shape=(300, 300, 3), activation='relu',padding='same'))\n",
        "    model.add(MaxPooling2D(pool_size=(2, 2)))\n",
        "    \n",
        "    \n",
        "    model.add(Conv2D(32, (3, 3), activation='relu',padding='same'))\n",
        "    model.add(MaxPooling2D(pool_size=(2, 2)))\n",
        "    \n",
        "    model.add(Conv2D(64, (3, 3), activation='relu',padding='same'))\n",
        "    model.add(MaxPooling2D(pool_size=(2, 2))) \n",
        "     \n",
        "\n",
        "    \n",
        "    model.add(Conv2D(128, (3, 3), activation='relu',padding='same'))\n",
        "    model.add(MaxPooling2D(pool_size=(2, 2)))\n",
        "    \n",
        "    model.add(Conv2D(128, (3, 3), activation='relu',padding='same'))\n",
        "    model.add(MaxPooling2D(pool_size=(2, 2)))\n",
        "    \n",
        "    model.add(Dropout(0.25))\n",
        "    model.add(Flatten())\n",
        "    \n",
        "    model.add(Dense(1024, activation='relu'))\n",
        "    model.add(Dense(512, activation='relu'))\n",
        "    \n",
        "    model.add(Dense(num_classes, activation='sigmoid'))\n",
        "    \n",
        "    lrate = 0.0001\n",
        "    epochs=20\n",
        "    decay = lrate/epochs\n",
        "    optimizer =adam(lr=0.0001)\n",
        "    #sgd = SGD(lr=lrate, momentum=0.9, decay=decay, nesterov=False)\n",
        "    model.compile(loss='categorical_crossentropy', optimizer=optimizer, metrics=['accuracy'])\n",
        "    \n",
        "    return model\n",
        "  \"\"\""
      ],
      "execution_count": 18,
      "outputs": [
        {
          "output_type": "execute_result",
          "data": {
            "text/plain": [
              "\"\\ndef AlexNet_model():\\n\\n    model = Sequential()\\n    \\n    model.add(Conv2D(32, (3, 3), input_shape=(300, 300, 3), activation='relu',padding='same'))\\n    model.add(MaxPooling2D(pool_size=(2, 2)))\\n    \\n    \\n    model.add(Conv2D(32, (3, 3), activation='relu',padding='same'))\\n    model.add(MaxPooling2D(pool_size=(2, 2)))\\n    \\n    model.add(Conv2D(64, (3, 3), activation='relu',padding='same'))\\n    model.add(MaxPooling2D(pool_size=(2, 2))) \\n     \\n\\n    \\n    model.add(Conv2D(128, (3, 3), activation='relu',padding='same'))\\n    model.add(MaxPooling2D(pool_size=(2, 2)))\\n    \\n    model.add(Conv2D(128, (3, 3), activation='relu',padding='same'))\\n    model.add(MaxPooling2D(pool_size=(2, 2)))\\n    \\n    model.add(Dropout(0.25))\\n    model.add(Flatten())\\n    \\n    model.add(Dense(1024, activation='relu'))\\n    model.add(Dense(512, activation='relu'))\\n    \\n    model.add(Dense(num_classes, activation='sigmoid'))\\n    \\n    lrate = 0.0001\\n    epochs=20\\n    decay = lrate/epochs\\n    optimizer =adam(lr=0.0001)\\n    #sgd = SGD(lr=lrate, momentum=0.9, decay=decay, nesterov=False)\\n    model.compile(loss='categorical_crossentropy', optimizer=optimizer, metrics=['accuracy'])\\n    \\n    return model\\n  \""
            ]
          },
          "metadata": {
            "tags": []
          },
          "execution_count": 18
        }
      ]
    },
    {
      "cell_type": "code",
      "metadata": {
        "id": "NHM1stCYFKev",
        "colab_type": "code",
        "colab": {}
      },
      "source": [
        "def AlexNet_model():\n",
        "\n",
        "    model = Sequential()\n",
        "    \n",
        "    model.add(Conv2D(96, (11, 11), strides=4,input_shape=(300, 300, 3), activation='relu',padding='same'))\n",
        "    model.add(MaxPooling2D(pool_size=(3, 3),strides=2))\n",
        "\n",
        "\n",
        "    model.add(Conv2D(256, (5, 5), activation='relu',padding='same'))\n",
        "    model.add(MaxPooling2D(pool_size=(3,3),strides=2))\n",
        "    \n",
        "    \n",
        "    model.add(Conv2D(384, (3,3), activation='relu',padding='same'))\n",
        "    model.add(Conv2D(384, (3,3), activation='relu',padding='same'))\n",
        "    model.add(Conv2D(256, (3,3), activation='relu',padding='same'))\n",
        "    model.add(MaxPooling2D(pool_size=(3,3),strides=2))\n",
        "       \n",
        "    model.add(Dropout(0.50))\n",
        "    model.add(Flatten())\n",
        "    \n",
        "    #model.add(Dense(9216, activation='relu'))\n",
        "    model.add(Dense(4096, activation='relu'))\n",
        "    model.add(Dropout(0.50))\n",
        "    model.add(Dense(4096, activation='relu'))\n",
        "    \n",
        "    model.add(Dense(num_classes, activation='sigmoid'))\n",
        "    \n",
        "    lrate = 0.0001\n",
        "    epochs=35\n",
        "    decay = lrate/epochs\n",
        "    optimizer =adam(lr=0.0001)\n",
        "    #sgd = SGD(lr=lrate, momentum=0.9, decay=decay, nesterov=False)\n",
        "    model.compile(loss='binary_crossentropy', optimizer=optimizer, metrics=['accuracy'])\n",
        "    \n",
        "    return model"
      ],
      "execution_count": 0,
      "outputs": []
    },
    {
      "cell_type": "code",
      "metadata": {
        "id": "0y0g6PGiCeGl",
        "colab_type": "code",
        "colab": {}
      },
      "source": [
        ""
      ],
      "execution_count": 0,
      "outputs": []
    },
    {
      "cell_type": "code",
      "metadata": {
        "id": "GqWsPnU-Bv5k",
        "colab_type": "code",
        "colab": {}
      },
      "source": [
        "#os.chdir('/content/drive/My Drive/Colab Notebooks/DL_Practical_MLP/Results/MLP_CIFAR10')\n",
        "import keras\n",
        "import keras.callbacks\n",
        "from keras.callbacks import TensorBoard\n",
        "from keras.callbacks import EarlyStopping,ModelCheckpoint\n",
        "mc = ModelCheckpoint('PCB_ALEXNET.h5', monitor='val_loss', mode='min', verbose=1, save_best_only=True)\n",
        "filepath = \"saved-model-{epoch:02d}.h5\"\n",
        "mc1 = ModelCheckpoint(filepath, monitor='val_loss', mode='min', verbose=1, save_best_only=True  ,period=10)\n",
        "cv = keras.callbacks.CSVLogger('PCB_ALEXNET.h5.csv', separator=',', append=False)\n",
        "es = keras.callbacks.EarlyStopping(monitor='val_loss', min_delta=0, patience=75,  mode='auto')\n"
      ],
      "execution_count": 0,
      "outputs": []
    },
    {
      "cell_type": "code",
      "metadata": {
        "id": "SuRI-isDYqfR",
        "colab_type": "code",
        "outputId": "3f32e471-828e-434d-daf9-20718821527f",
        "colab": {
          "base_uri": "https://localhost:8080/",
          "height": 54
        }
      },
      "source": [
        "\n",
        "\"\"\"\n",
        "import os\n",
        "os.chdir(\"/content/drive/My Drive/PCB\")\n",
        "from keras.callbacks import ModelCheckpoint, TensorBoard, CSVLogger\n",
        "mc = ModelCheckpoint('cipharAlexNetNet.h5', monitor='val_loss', save_best_only=True)\n",
        "tb = TensorBoard(log_dir='/content/cnn/My Drive/logs', write_graph=True, write_grads=False, write_images=False, embeddings_freq=0, update_freq='epoch')\n",
        "cv = CSVLogger('cipharAlexNetNet.csv',append=True)\n",
        "\"\"\""
      ],
      "execution_count": 21,
      "outputs": [
        {
          "output_type": "execute_result",
          "data": {
            "text/plain": [
              "'\\nimport os\\nos.chdir(\"/content/drive/My Drive/PCB\")\\nfrom keras.callbacks import ModelCheckpoint, TensorBoard, CSVLogger\\nmc = ModelCheckpoint(\\'cipharAlexNetNet.h5\\', monitor=\\'val_loss\\', save_best_only=True)\\ntb = TensorBoard(log_dir=\\'/content/cnn/My Drive/logs\\', write_graph=True, write_grads=False, write_images=False, embeddings_freq=0, update_freq=\\'epoch\\')\\ncv = CSVLogger(\\'cipharAlexNetNet.csv\\',append=True)\\n'"
            ]
          },
          "metadata": {
            "tags": []
          },
          "execution_count": 21
        }
      ]
    },
    {
      "cell_type": "code",
      "metadata": {
        "id": "Pay7jAJizkA1",
        "colab_type": "code",
        "outputId": "685fd153-198b-4445-c289-ee78ab21419e",
        "colab": {
          "base_uri": "https://localhost:8080/",
          "height": 34
        }
      },
      "source": [
        "from keras.callbacks import ModelCheckpoint\n",
        "\"\"\"\n",
        "model = Sequential()\n",
        "model.add(Dense(10, input_dim=784, kernel_initializer='uniform'))\n",
        "model.add(Activation('softmax'))\n",
        "model.compile(loss='categorical_crossentropy', optimizer='rmsprop')\n",
        "\"\"\"\n",
        "'''\n",
        "saves the model weights after each epoch if the validation loss decreased\n",
        "'''\n",
        "#checkpointer = ModelCheckpoint(filepath='/tmp/weights.hdf5', verbose=1, save_best_only=True)\n",
        "#model.fit(x_train, y_train, batch_size=128, epochs=20, verbose=0, validation_data=(X_test, Y_test), callbacks=[checkpointer])\n",
        "\n"
      ],
      "execution_count": 22,
      "outputs": [
        {
          "output_type": "execute_result",
          "data": {
            "text/plain": [
              "'\\nsaves the model weights after each epoch if the validation loss decreased\\n'"
            ]
          },
          "metadata": {
            "tags": []
          },
          "execution_count": 22
        }
      ]
    },
    {
      "cell_type": "code",
      "metadata": {
        "id": "gPLGgrRuDBSx",
        "colab_type": "code",
        "colab": {}
      },
      "source": [
        "from keras.losses import mean_squared_error,mean_absolute_error,mean_squared_logarithmic_error,categorical_hinge,hinge,squared_hinge,categorical_crossentropy\n",
        "from keras.optimizers import adam,adadelta,adagrad,adamax,sgd\n",
        "#model.compile(loss=\"categorical_crossentropy\", optimizer=\"sgd\", metrics=['accuracy'])\n"
      ],
      "execution_count": 0,
      "outputs": []
    },
    {
      "cell_type": "code",
      "metadata": {
        "id": "luwtQNV4DTpE",
        "colab_type": "code",
        "outputId": "2b90a3d6-fa17-4c2d-ef01-b356568cbd27",
        "colab": {
          "base_uri": "https://localhost:8080/",
          "height": 1000
        }
      },
      "source": [
        "model=AlexNet_model()\n",
        "print(model.summary())\n"
      ],
      "execution_count": 24,
      "outputs": [
        {
          "output_type": "stream",
          "text": [
            "WARNING:tensorflow:From /usr/local/lib/python3.6/dist-packages/keras/backend/tensorflow_backend.py:66: The name tf.get_default_graph is deprecated. Please use tf.compat.v1.get_default_graph instead.\n",
            "\n",
            "WARNING:tensorflow:From /usr/local/lib/python3.6/dist-packages/keras/backend/tensorflow_backend.py:541: The name tf.placeholder is deprecated. Please use tf.compat.v1.placeholder instead.\n",
            "\n",
            "WARNING:tensorflow:From /usr/local/lib/python3.6/dist-packages/keras/backend/tensorflow_backend.py:4432: The name tf.random_uniform is deprecated. Please use tf.random.uniform instead.\n",
            "\n",
            "WARNING:tensorflow:From /usr/local/lib/python3.6/dist-packages/keras/backend/tensorflow_backend.py:4267: The name tf.nn.max_pool is deprecated. Please use tf.nn.max_pool2d instead.\n",
            "\n",
            "WARNING:tensorflow:From /usr/local/lib/python3.6/dist-packages/keras/backend/tensorflow_backend.py:148: The name tf.placeholder_with_default is deprecated. Please use tf.compat.v1.placeholder_with_default instead.\n",
            "\n",
            "WARNING:tensorflow:From /usr/local/lib/python3.6/dist-packages/keras/backend/tensorflow_backend.py:3733: calling dropout (from tensorflow.python.ops.nn_ops) with keep_prob is deprecated and will be removed in a future version.\n",
            "Instructions for updating:\n",
            "Please use `rate` instead of `keep_prob`. Rate should be set to `rate = 1 - keep_prob`.\n",
            "WARNING:tensorflow:From /usr/local/lib/python3.6/dist-packages/keras/optimizers.py:793: The name tf.train.Optimizer is deprecated. Please use tf.compat.v1.train.Optimizer instead.\n",
            "\n",
            "WARNING:tensorflow:From /usr/local/lib/python3.6/dist-packages/keras/backend/tensorflow_backend.py:3657: The name tf.log is deprecated. Please use tf.math.log instead.\n",
            "\n",
            "WARNING:tensorflow:From /tensorflow-1.15.2/python3.6/tensorflow_core/python/ops/nn_impl.py:183: where (from tensorflow.python.ops.array_ops) is deprecated and will be removed in a future version.\n",
            "Instructions for updating:\n",
            "Use tf.where in 2.0, which has the same broadcast rule as np.where\n",
            "Model: \"sequential_1\"\n",
            "_________________________________________________________________\n",
            "Layer (type)                 Output Shape              Param #   \n",
            "=================================================================\n",
            "conv2d_1 (Conv2D)            (None, 75, 75, 96)        34944     \n",
            "_________________________________________________________________\n",
            "max_pooling2d_1 (MaxPooling2 (None, 37, 37, 96)        0         \n",
            "_________________________________________________________________\n",
            "conv2d_2 (Conv2D)            (None, 37, 37, 256)       614656    \n",
            "_________________________________________________________________\n",
            "max_pooling2d_2 (MaxPooling2 (None, 18, 18, 256)       0         \n",
            "_________________________________________________________________\n",
            "conv2d_3 (Conv2D)            (None, 18, 18, 384)       885120    \n",
            "_________________________________________________________________\n",
            "conv2d_4 (Conv2D)            (None, 18, 18, 384)       1327488   \n",
            "_________________________________________________________________\n",
            "conv2d_5 (Conv2D)            (None, 18, 18, 256)       884992    \n",
            "_________________________________________________________________\n",
            "max_pooling2d_3 (MaxPooling2 (None, 8, 8, 256)         0         \n",
            "_________________________________________________________________\n",
            "dropout_1 (Dropout)          (None, 8, 8, 256)         0         \n",
            "_________________________________________________________________\n",
            "flatten_1 (Flatten)          (None, 16384)             0         \n",
            "_________________________________________________________________\n",
            "dense_1 (Dense)              (None, 4096)              67112960  \n",
            "_________________________________________________________________\n",
            "dropout_2 (Dropout)          (None, 4096)              0         \n",
            "_________________________________________________________________\n",
            "dense_2 (Dense)              (None, 4096)              16781312  \n",
            "_________________________________________________________________\n",
            "dense_3 (Dense)              (None, 2)                 8194      \n",
            "=================================================================\n",
            "Total params: 87,649,666\n",
            "Trainable params: 87,649,666\n",
            "Non-trainable params: 0\n",
            "_________________________________________________________________\n",
            "None\n"
          ],
          "name": "stdout"
        }
      ]
    },
    {
      "cell_type": "code",
      "metadata": {
        "id": "61Uf2JPb5iMu",
        "colab_type": "code",
        "colab": {}
      },
      "source": [
        "class WeightCallback(keras.callbacks.Callback):\n",
        "    def on_epoch_end(self, epoch, logs={}):\n",
        "        if epoch%1 == 0:\n",
        "            fig, axs = plt.subplots(1,10, figsize=(10*1.5,1.5), facecolor='w', edgecolor='k')\n",
        "            for i in range(10):\n",
        "                axs[i].set_title(\"Digit : \" + str(i))\n",
        "                digit = model.layers[0].get_weights()[0][:,i]\n",
        "                digit = ((digit - digit.min())*(1/(digit.max() - digit.min()))*255).astype(\"uint8\")\n",
        "                axs[i].imshow(digit.reshape(300,300,3),cmap=\"viridis\")\n",
        "weight = WeightCallback()"
      ],
      "execution_count": 0,
      "outputs": []
    },
    {
      "cell_type": "code",
      "metadata": {
        "id": "CelvtHxR-oDv",
        "colab_type": "code",
        "colab": {}
      },
      "source": [
        "checkpointer = ModelCheckpoint(filepath='/tmp/weights.hdf5', verbose=1, save_best_only=True)"
      ],
      "execution_count": 0,
      "outputs": []
    },
    {
      "cell_type": "markdown",
      "metadata": {
        "id": "WDGm8asglYaj",
        "colab_type": "text"
      },
      "source": [
        "0**Keras Callbacks**"
      ]
    },
    {
      "cell_type": "code",
      "metadata": {
        "id": "KM31YNZh4UB6",
        "colab_type": "code",
        "outputId": "19fb93b0-b020-4ef0-e788-68fabd37d832",
        "colab": {
          "base_uri": "https://localhost:8080/",
          "height": 1000
        }
      },
      "source": [
        "history=model.fit(X_train, y_train, validation_split=(0.2), epochs=35, batch_size=32,verbose=2,callbacks=[checkpointer])\n",
        "#model.fit(x_train, y_train, batch_size=128, epochs=20, verbose=0, validation_data=(X_test, Y_test), callbacks=[checkpointer])\n",
        "\n",
        "\n"
      ],
      "execution_count": 27,
      "outputs": [
        {
          "output_type": "stream",
          "text": [
            "WARNING:tensorflow:From /usr/local/lib/python3.6/dist-packages/keras/backend/tensorflow_backend.py:1033: The name tf.assign_add is deprecated. Please use tf.compat.v1.assign_add instead.\n",
            "\n",
            "WARNING:tensorflow:From /usr/local/lib/python3.6/dist-packages/keras/backend/tensorflow_backend.py:1020: The name tf.assign is deprecated. Please use tf.compat.v1.assign instead.\n",
            "\n",
            "WARNING:tensorflow:From /usr/local/lib/python3.6/dist-packages/keras/backend/tensorflow_backend.py:3005: The name tf.Session is deprecated. Please use tf.compat.v1.Session instead.\n",
            "\n",
            "Train on 4032 samples, validate on 1008 samples\n",
            "Epoch 1/35\n",
            "WARNING:tensorflow:From /usr/local/lib/python3.6/dist-packages/keras/backend/tensorflow_backend.py:190: The name tf.get_default_session is deprecated. Please use tf.compat.v1.get_default_session instead.\n",
            "\n",
            "WARNING:tensorflow:From /usr/local/lib/python3.6/dist-packages/keras/backend/tensorflow_backend.py:197: The name tf.ConfigProto is deprecated. Please use tf.compat.v1.ConfigProto instead.\n",
            "\n",
            "WARNING:tensorflow:From /usr/local/lib/python3.6/dist-packages/keras/backend/tensorflow_backend.py:207: The name tf.global_variables is deprecated. Please use tf.compat.v1.global_variables instead.\n",
            "\n",
            "WARNING:tensorflow:From /usr/local/lib/python3.6/dist-packages/keras/backend/tensorflow_backend.py:216: The name tf.is_variable_initialized is deprecated. Please use tf.compat.v1.is_variable_initialized instead.\n",
            "\n",
            "WARNING:tensorflow:From /usr/local/lib/python3.6/dist-packages/keras/backend/tensorflow_backend.py:223: The name tf.variables_initializer is deprecated. Please use tf.compat.v1.variables_initializer instead.\n",
            "\n",
            " - 49s - loss: 0.6646 - acc: 0.6243 - val_loss: 0.9840 - val_acc: 0.0000e+00\n",
            "\n",
            "Epoch 00001: val_loss improved from inf to 0.98400, saving model to /tmp/weights.hdf5\n",
            "Epoch 2/35\n",
            " - 34s - loss: 0.5876 - acc: 0.7098 - val_loss: 0.8110 - val_acc: 0.3849\n",
            "\n",
            "Epoch 00002: val_loss improved from 0.98400 to 0.81103, saving model to /tmp/weights.hdf5\n",
            "Epoch 3/35\n",
            " - 34s - loss: 0.5473 - acc: 0.7422 - val_loss: 0.9649 - val_acc: 0.3690\n",
            "\n",
            "Epoch 00003: val_loss did not improve from 0.81103\n",
            "Epoch 4/35\n",
            " - 34s - loss: 0.5329 - acc: 0.7450 - val_loss: 0.7860 - val_acc: 0.3829\n",
            "\n",
            "Epoch 00004: val_loss improved from 0.81103 to 0.78597, saving model to /tmp/weights.hdf5\n",
            "Epoch 5/35\n",
            " - 34s - loss: 0.5023 - acc: 0.7604 - val_loss: 0.5486 - val_acc: 0.6865\n",
            "\n",
            "Epoch 00005: val_loss improved from 0.78597 to 0.54856, saving model to /tmp/weights.hdf5\n",
            "Epoch 6/35\n",
            " - 35s - loss: 0.4357 - acc: 0.8090 - val_loss: 0.5361 - val_acc: 0.7073\n",
            "\n",
            "Epoch 00006: val_loss improved from 0.54856 to 0.53605, saving model to /tmp/weights.hdf5\n",
            "Epoch 7/35\n",
            " - 35s - loss: 0.3399 - acc: 0.8744 - val_loss: 0.4361 - val_acc: 0.8051\n",
            "\n",
            "Epoch 00007: val_loss improved from 0.53605 to 0.43612, saving model to /tmp/weights.hdf5\n",
            "Epoch 8/35\n",
            " - 35s - loss: 0.2760 - acc: 0.9054 - val_loss: 0.4123 - val_acc: 0.8036\n",
            "\n",
            "Epoch 00008: val_loss improved from 0.43612 to 0.41231, saving model to /tmp/weights.hdf5\n",
            "Epoch 9/35\n",
            " - 34s - loss: 0.2550 - acc: 0.9146 - val_loss: 0.5219 - val_acc: 0.7599\n",
            "\n",
            "Epoch 00009: val_loss did not improve from 0.41231\n",
            "Epoch 10/35\n",
            " - 34s - loss: 0.2358 - acc: 0.9179 - val_loss: 0.3891 - val_acc: 0.8229\n",
            "\n",
            "Epoch 00010: val_loss improved from 0.41231 to 0.38910, saving model to /tmp/weights.hdf5\n",
            "Epoch 11/35\n",
            " - 34s - loss: 0.2204 - acc: 0.9250 - val_loss: 0.3488 - val_acc: 0.8224\n",
            "\n",
            "Epoch 00011: val_loss improved from 0.38910 to 0.34875, saving model to /tmp/weights.hdf5\n",
            "Epoch 12/35\n",
            " - 34s - loss: 0.1892 - acc: 0.9373 - val_loss: 0.3320 - val_acc: 0.8413\n",
            "\n",
            "Epoch 00012: val_loss improved from 0.34875 to 0.33197, saving model to /tmp/weights.hdf5\n",
            "Epoch 13/35\n",
            " - 35s - loss: 0.1713 - acc: 0.9401 - val_loss: 0.2702 - val_acc: 0.8512\n",
            "\n",
            "Epoch 00013: val_loss improved from 0.33197 to 0.27019, saving model to /tmp/weights.hdf5\n",
            "Epoch 14/35\n",
            " - 35s - loss: 0.1617 - acc: 0.9453 - val_loss: 0.2826 - val_acc: 0.8591\n",
            "\n",
            "Epoch 00014: val_loss did not improve from 0.27019\n",
            "Epoch 15/35\n",
            " - 36s - loss: 0.1461 - acc: 0.9485 - val_loss: 0.3812 - val_acc: 0.8552\n",
            "\n",
            "Epoch 00015: val_loss did not improve from 0.27019\n",
            "Epoch 16/35\n",
            " - 35s - loss: 0.1499 - acc: 0.9487 - val_loss: 0.3382 - val_acc: 0.8631\n",
            "\n",
            "Epoch 00016: val_loss did not improve from 0.27019\n",
            "Epoch 17/35\n",
            " - 34s - loss: 0.1325 - acc: 0.9546 - val_loss: 0.3350 - val_acc: 0.8591\n",
            "\n",
            "Epoch 00017: val_loss did not improve from 0.27019\n",
            "Epoch 18/35\n",
            " - 34s - loss: 0.1232 - acc: 0.9568 - val_loss: 0.3462 - val_acc: 0.8651\n",
            "\n",
            "Epoch 00018: val_loss did not improve from 0.27019\n",
            "Epoch 19/35\n",
            " - 34s - loss: 0.1265 - acc: 0.9565 - val_loss: 0.3653 - val_acc: 0.8700\n",
            "\n",
            "Epoch 00019: val_loss did not improve from 0.27019\n",
            "Epoch 20/35\n",
            " - 34s - loss: 0.1166 - acc: 0.9590 - val_loss: 0.4307 - val_acc: 0.8581\n",
            "\n",
            "Epoch 00020: val_loss did not improve from 0.27019\n",
            "Epoch 21/35\n",
            " - 34s - loss: 0.1153 - acc: 0.9597 - val_loss: 0.4069 - val_acc: 0.8596\n",
            "\n",
            "Epoch 00021: val_loss did not improve from 0.27019\n",
            "Epoch 22/35\n",
            " - 34s - loss: 0.1164 - acc: 0.9598 - val_loss: 0.3681 - val_acc: 0.8720\n",
            "\n",
            "Epoch 00022: val_loss did not improve from 0.27019\n",
            "Epoch 23/35\n",
            " - 34s - loss: 0.1030 - acc: 0.9640 - val_loss: 0.3754 - val_acc: 0.8735\n",
            "\n",
            "Epoch 00023: val_loss did not improve from 0.27019\n",
            "Epoch 24/35\n",
            " - 34s - loss: 0.0991 - acc: 0.9648 - val_loss: 0.3276 - val_acc: 0.8839\n",
            "\n",
            "Epoch 00024: val_loss did not improve from 0.27019\n",
            "Epoch 25/35\n",
            " - 35s - loss: 0.0963 - acc: 0.9658 - val_loss: 0.3736 - val_acc: 0.8770\n",
            "\n",
            "Epoch 00025: val_loss did not improve from 0.27019\n",
            "Epoch 26/35\n",
            " - 35s - loss: 0.1028 - acc: 0.9630 - val_loss: 0.3217 - val_acc: 0.8829\n",
            "\n",
            "Epoch 00026: val_loss did not improve from 0.27019\n",
            "Epoch 27/35\n",
            " - 35s - loss: 0.1009 - acc: 0.9658 - val_loss: 0.4532 - val_acc: 0.8661\n",
            "\n",
            "Epoch 00027: val_loss did not improve from 0.27019\n",
            "Epoch 28/35\n",
            " - 35s - loss: 0.1007 - acc: 0.9629 - val_loss: 0.4726 - val_acc: 0.8690\n",
            "\n",
            "Epoch 00028: val_loss did not improve from 0.27019\n",
            "Epoch 29/35\n",
            " - 34s - loss: 0.0952 - acc: 0.9656 - val_loss: 0.4137 - val_acc: 0.8760\n",
            "\n",
            "Epoch 00029: val_loss did not improve from 0.27019\n",
            "Epoch 30/35\n",
            " - 34s - loss: 0.0835 - acc: 0.9690 - val_loss: 0.3370 - val_acc: 0.8839\n",
            "\n",
            "Epoch 00030: val_loss did not improve from 0.27019\n",
            "Epoch 31/35\n",
            " - 34s - loss: 0.0836 - acc: 0.9695 - val_loss: 0.3085 - val_acc: 0.8879\n",
            "\n",
            "Epoch 00031: val_loss did not improve from 0.27019\n",
            "Epoch 32/35\n",
            " - 34s - loss: 0.0809 - acc: 0.9674 - val_loss: 0.3743 - val_acc: 0.8834\n",
            "\n",
            "Epoch 00032: val_loss did not improve from 0.27019\n",
            "Epoch 33/35\n",
            " - 34s - loss: 0.0761 - acc: 0.9710 - val_loss: 0.3760 - val_acc: 0.8829\n",
            "\n",
            "Epoch 00033: val_loss did not improve from 0.27019\n",
            "Epoch 34/35\n",
            " - 34s - loss: 0.0775 - acc: 0.9679 - val_loss: 0.4392 - val_acc: 0.8948\n",
            "\n",
            "Epoch 00034: val_loss did not improve from 0.27019\n",
            "Epoch 35/35\n",
            " - 36s - loss: 0.0656 - acc: 0.9745 - val_loss: 0.4148 - val_acc: 0.9018\n",
            "\n",
            "Epoch 00035: val_loss did not improve from 0.27019\n"
          ],
          "name": "stdout"
        }
      ]
    },
    {
      "cell_type": "code",
      "metadata": {
        "id": "cDDalmCAwJyg",
        "colab_type": "code",
        "outputId": "c94b2f02-016e-42ee-e821-0b7db3696493",
        "colab": {
          "base_uri": "https://localhost:8080/",
          "height": 119
        }
      },
      "source": [
        "model.load_weights('/tmp/weights.hdf5')\n",
        "train_loss,train_acc=model.evaluate(X_train,y_train)\n",
        "print(\"traina loss={}\".format(train_loss))\n",
        "print(\"train acc={}\".format(train_acc))\n",
        "test_loss,test_acc=model.evaluate(X_test,y_test)\n",
        "print(\"test loss={}\".format(test_loss))\n",
        "print(\"test loss={}\".format(test_acc))"
      ],
      "execution_count": 0,
      "outputs": [
        {
          "output_type": "stream",
          "text": [
            "5040/5040 [==============================] - 5s 979us/step\n",
            "traina loss=0.06841386177887736\n",
            "train acc=0.9791666666666666\n",
            "298/298 [==============================] - 0s 1ms/step\n",
            "test loss=1.3848893693803779\n",
            "test loss=0.9127516770522867\n"
          ],
          "name": "stdout"
        }
      ]
    },
    {
      "cell_type": "markdown",
      "metadata": {
        "id": "UdDUSm89wjvi",
        "colab_type": "text"
      },
      "source": [
        "### Loss and Accuracy Curves"
      ]
    },
    {
      "cell_type": "code",
      "metadata": {
        "id": "q1OD6P3SwUK3",
        "colab_type": "code",
        "colab": {}
      },
      "source": [
        "train_loss = history.history['loss']\n",
        "train_acc = history.history['acc']\n",
        "val_loss = history.history['val_loss']\n",
        "val_acc = history.history['val_acc']\n",
        "xc=range(35)"
      ],
      "execution_count": 0,
      "outputs": []
    },
    {
      "cell_type": "code",
      "metadata": {
        "id": "ObPDOrVlwZ54",
        "colab_type": "code",
        "outputId": "76d7af8f-aee1-46e3-9251-63a1955c2919",
        "colab": {
          "base_uri": "https://localhost:8080/",
          "height": 296
        }
      },
      "source": [
        "import matplotlib.pyplot as plt\n",
        "%matplotlib inline\n",
        "plt.plot(xc, train_loss)\n",
        "plt.plot(xc, val_loss)\n",
        "plt.xlabel(\"Epoch\")\n",
        "plt.ylabel(\"Loss\")\n",
        "plt.legend(['train','val'])"
      ],
      "execution_count": 29,
      "outputs": [
        {
          "output_type": "execute_result",
          "data": {
            "text/plain": [
              "<matplotlib.legend.Legend at 0x7f2127c2f160>"
            ]
          },
          "metadata": {
            "tags": []
          },
          "execution_count": 29
        },
        {
          "output_type": "display_data",
          "data": {
            "image/png": "[encoded data removed]",
            "text/plain": [
              "<Figure size 432x288 with 1 Axes>"
            ]
          },
          "metadata": {
            "tags": []
          }
        }
      ]
    },
    {
      "cell_type": "code",
      "metadata": {
        "id": "ehQ7ykS3wiJ6",
        "colab_type": "code",
        "outputId": "0921d712-019b-49ec-d97f-47cfaf8fbbf1",
        "colab": {
          "base_uri": "https://localhost:8080/",
          "height": 296
        }
      },
      "source": [
        "import matplotlib.pyplot as plt\n",
        "%matplotlib inline\n",
        "plt.plot(xc, train_acc)\n",
        "plt.plot(xc, val_acc)\n",
        "plt.xlabel(\"Epoch\")\n",
        "plt.ylabel(\"Acc\")\n",
        "plt.legend(['train','val'])"
      ],
      "execution_count": 30,
      "outputs": [
        {
          "output_type": "execute_result",
          "data": {
            "text/plain": [
              "<matplotlib.legend.Legend at 0x7f20cd3fbf60>"
            ]
          },
          "metadata": {
            "tags": []
          },
          "execution_count": 30
        },
        {
          "output_type": "display_data",
          "data": {
            "image/png": "[encoded data removed]",
            "text/plain": [
              "<Figure size 432x288 with 1 Axes>"
            ]
          },
          "metadata": {
            "tags": []
          }
        }
      ]
    },
    {
      "cell_type": "code",
      "metadata": {
        "id": "ZLI9oGNgWHrX",
        "colab_type": "code",
        "colab": {}
      },
      "source": [
        "\n"
      ],
      "execution_count": 0,
      "outputs": []
    },
    {
      "cell_type": "code",
      "metadata": {
        "id": "C4dlZL121e5L",
        "colab_type": "code",
        "outputId": "352f0f4c-4754-4a34-e6c7-89ab55ff8481",
        "colab": {
          "base_uri": "https://localhost:8080/",
          "height": 170
        }
      },
      "source": [
        "import numpy as np\n",
        "from sklearn.metrics import classification_report,confusion_matrix\n",
        "import itertools\n",
        "\n",
        "Y_pred = model.predict(X_test)\n",
        "#print(np.unique(Y_pred))\n",
        "y_pred = np.argmax(Y_pred, axis=1)\n",
        "target_names = ['class 0', 'class 1']\n",
        "print(classification_report(np.argmax(y_test,axis=1), y_pred,target_names=target_names))"
      ],
      "execution_count": 0,
      "outputs": [
        {
          "output_type": "stream",
          "text": [
            "              precision    recall  f1-score   support\n",
            "\n",
            "     class 0       0.87      0.97      0.92       149\n",
            "     class 1       0.97      0.85      0.91       149\n",
            "\n",
            "    accuracy                           0.91       298\n",
            "   macro avg       0.92      0.91      0.91       298\n",
            "weighted avg       0.92      0.91      0.91       298\n",
            "\n"
          ],
          "name": "stdout"
        }
      ]
    },
    {
      "cell_type": "code",
      "metadata": {
        "id": "QgNg1yTJGzBH",
        "colab_type": "code",
        "colab": {}
      },
      "source": [
        "\n"
      ],
      "execution_count": 0,
      "outputs": []
    },
    {
      "cell_type": "code",
      "metadata": {
        "id": "DzxV4PA_xifu",
        "colab_type": "code",
        "colab": {}
      },
      "source": [
        ""
      ],
      "execution_count": 0,
      "outputs": []
    }
  ]
}
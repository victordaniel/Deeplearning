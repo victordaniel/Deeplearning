{
  "nbformat": 4,
  "nbformat_minor": 0,
  "metadata": {
    "colab": {
      "name": "PCB_Alexnet.ipynb",
      "provenance": [],
      "collapsed_sections": [],
      "machine_shape": "hm",
      "include_colab_link": true
    },
    "kernelspec": {
      "name": "python3",
      "display_name": "Python 3"
    },
    "accelerator": "GPU"
  },
  "cells": [
    {
      "cell_type": "markdown",
      "metadata": {
        "id": "view-in-github",
        "colab_type": "text"
      },
      "source": [
        "<a href=\"https://colab.research.google.com/github/victordaniel/Deeplearning/blob/master/PCB_Alexnet_4.ipynb\" target=\"_parent\"><img src=\"https://colab.research.google.com/assets/colab-badge.svg\" alt=\"Open In Colab\"/></a>"
      ]
    },
    {
      "cell_type": "markdown",
      "metadata": {
        "id": "cqnoWGjx1iIC",
        "colab_type": "text"
      },
      "source": [
        "**Imports**"
      ]
    },
    {
      "cell_type": "code",
      "metadata": {
        "id": "yi98Z22q1jIv",
        "colab_type": "code",
        "outputId": "0a5c61dc-652c-4b0e-d96b-61c95d1b6d01",
        "colab": {
          "base_uri": "https://localhost:8080/",
          "height": 34
        }
      },
      "source": [
        "%tensorflow_version 1.x\n"
      ],
      "execution_count": 1,
      "outputs": [
        {
          "output_type": "stream",
          "text": [
            "TensorFlow 1.x selected.\n"
          ],
          "name": "stdout"
        }
      ]
    },
    {
      "cell_type": "code",
      "metadata": {
        "id": "uT4YaLEJXOxi",
        "colab_type": "code",
        "colab": {}
      },
      "source": [
        "from tensorflow.python.keras.layers import Dense\n",
        "from tensorflow.python.keras import Sequential\n"
      ],
      "execution_count": 0,
      "outputs": []
    },
    {
      "cell_type": "code",
      "metadata": {
        "id": "URQQuXeXadGq",
        "colab_type": "code",
        "outputId": "8fa59ed7-61f7-4b6c-84be-933724d525e0",
        "colab": {
          "base_uri": "https://localhost:8080/",
          "height": 34
        }
      },
      "source": [
        "\n",
        "from matplotlib import pyplot\n",
        "%matplotlib inline\n",
        "#from scipy.misc import toimage\n",
        "import numpy\n",
        "from keras.models import Sequential\n",
        "from keras.layers import Dense\n",
        "from keras.layers import Dropout\n",
        "from keras.layers import Flatten\n",
        "from keras.constraints import maxnorm\n",
        "from keras.optimizers import SGD\n",
        "from keras.layers.convolutional import Conv2D\n",
        "from keras.layers import BatchNormalization\n",
        "from keras.layers.convolutional import MaxPooling2D\n",
        "from keras.utils import np_utils\n",
        "from keras import backend as K\n",
        "from sklearn.model_selection import train_test_split\n",
        "#K.set_image_dim_ordering('tf')\n"
      ],
      "execution_count": 3,
      "outputs": [
        {
          "output_type": "stream",
          "text": [
            "Using TensorFlow backend.\n"
          ],
          "name": "stderr"
        }
      ]
    },
    {
      "cell_type": "code",
      "metadata": {
        "id": "OqRLtJ8tWsCD",
        "colab_type": "code",
        "outputId": "4790f628-5b36-4e0c-b6c8-c15f61adc187",
        "colab": {
          "base_uri": "https://localhost:8080/",
          "height": 85
        }
      },
      "source": [
        "%tensorflow_version"
      ],
      "execution_count": 4,
      "outputs": [
        {
          "output_type": "stream",
          "text": [
            "Currently selected TF version: 1.x\n",
            "Available versions:\n",
            "* 1.x\n",
            "* 2.x\n"
          ],
          "name": "stdout"
        }
      ]
    },
    {
      "cell_type": "code",
      "metadata": {
        "id": "5I0tVzV7v7Cb",
        "colab_type": "code",
        "outputId": "aca6cdad-f524-463b-b2ec-333692d5fb6f",
        "colab": {
          "base_uri": "https://localhost:8080/",
          "height": 122
        }
      },
      "source": [
        "from google.colab import drive\n",
        "\n",
        "drive.mount('/content/drive')"
      ],
      "execution_count": 5,
      "outputs": [
        {
          "output_type": "stream",
          "text": [
            "Go to this URL in a browser: https://accounts.google.com/o/oauth2/auth?client_id=947318989803-6bn6qk8qdgf4n4g3pfee6491hc0brc4i.apps.googleusercontent.com&redirect_uri=urn%3aietf%3awg%3aoauth%3a2.0%3aoob&response_type=code&scope=email%20https%3a%2f%2fwww.googleapis.com%2fauth%2fdocs.test%20https%3a%2f%2fwww.googleapis.com%2fauth%2fdrive%20https%3a%2f%2fwww.googleapis.com%2fauth%2fdrive.photos.readonly%20https%3a%2f%2fwww.googleapis.com%2fauth%2fpeopleapi.readonly\n",
            "\n",
            "Enter your authorization code:\n",
            "··········\n",
            "Mounted at /content/drive\n"
          ],
          "name": "stdout"
        }
      ]
    },
    {
      "cell_type": "code",
      "metadata": {
        "id": "aZGfSuz-XK82",
        "colab_type": "code",
        "outputId": "8dacc8df-a3b2-44a0-8785-e31c32f845e8",
        "colab": {
          "base_uri": "https://localhost:8080/",
          "height": 88
        }
      },
      "source": [
        "import os\n",
        "print(os.getcwd())\n",
        "print(os.chdir('/content/drive/My Drive/'))\n",
        "print(os.listdir())"
      ],
      "execution_count": 6,
      "outputs": [
        {
          "output_type": "stream",
          "text": [
            "/content\n",
            "None\n",
            "['s_x_train (1).npy', 's_x_train.npy', 'pcb_aug.npy', 'pcb_aug_y.npy', 'Getting started.pdf', '2017-ieee-Anomaly-Detection-in-Online-Social-Network-A-Survey.pdf', '01565707.pdf', '6-oddball.pdf', 'A-comparative-analysis-of-structural-graph-metrics-t_2017_Computers---Electr.pdf', 'Anomaly detection in multiplex network.docx', 'Anomaly detection in multiplex network.pdf', 'anomaly detection in multiplex networks.html', 'anomaly detection in social networks.pdf', 'definitions.pdf', 'easy.pdf', 'eigen vector anomaly detection.pdf', 'evolving data survey.pdf', 'facebook.tar.gz', 'graph based kmeans clustering.pdf', 'graph similarity.pdf', 'Graph_Cluster_Analysis.pdf', 'GraphClustering_Schaeffer07.pdf', 'hadassah.pdf', 'imp.pdf', 'Graphtheory.pdf', 'image.png', 'M.Tech. DA Syllabus1.pdf', 'matrix factorization.pdf', 'Networks An introduction.pdf', 'New Text Document.txt', 'nguyen-phan-anh-bsc.pdf', 'Notes (1).docx', 'oddball_Technical report.pdf', 'phd thesis preliminary  work.pdf', 'PPT1.pptx', 'PPT [Autosaved].pptx', 'PPT.pptx', 'PPT-graph_theory_1-11.pdf', 'PPT-Graph.pdf', 'rsingh kaur detecting anomalies in online social networks.pdf', 'SCAN.pdf', 'srivastava.pdf', 'stream graphs survey.pdf', 'streaming data.pdf', 'subgraph anomaly.pdf', 'survey11.pdf', 'thesis-large scale data processing.pdf', 'survey.ppt', 'triangle counting.pdf', 'vaisa.docx', 'thesis.pdf', 'writeup.docx', 'Colab Notebooks', 'Project', 'data.xlsx', 'Anomaly_Graph_Neural_Net-master', 'fwdtutorialclass', 'mnist', 'train.csv', 'PCB', 'x_train.npy', 'y_train.npy', 'Copy of xtrain.npy', 'Copy of ytrain.npy', 'raw_x_train.npy', 'raw_y_train.npy']\n"
          ],
          "name": "stdout"
        }
      ]
    },
    {
      "cell_type": "code",
      "metadata": {
        "id": "ToGR7e_y_fIO",
        "colab_type": "code",
        "colab": {}
      },
      "source": [
        "from IPython.display import Image,display\n",
        "#display(Image(filename='/content/drive/My Drive/SSDL/Day2/Image/alex.png',embed=True))"
      ],
      "execution_count": 0,
      "outputs": []
    },
    {
      "cell_type": "code",
      "metadata": {
        "id": "GC7V1kd3WS26",
        "colab_type": "code",
        "colab": {}
      },
      "source": [
        ""
      ],
      "execution_count": 0,
      "outputs": []
    },
    {
      "cell_type": "code",
      "metadata": {
        "id": "jm_m4mk7C3NS",
        "colab_type": "code",
        "outputId": "a24db31b-1d90-48ec-98ba-d4b28dd3b42d",
        "colab": {
          "base_uri": "https://localhost:8080/",
          "height": 51
        }
      },
      "source": [
        "import numpy as np\n",
        "data_x=np.load('x_train.npy')\n",
        "data_y=np.load('y_train.npy')\n",
        "#print(len(data_x))\n",
        "#print(len(data_y))\n",
        "#train_x=data_x\n",
        "#train_y=data_y\n",
        "##print(train_x.shape)\n",
        "#print(train_y.shape)\n",
        "#print(np.unique(train_y))\n",
        "from sklearn.model_selection import train_test_split\n",
        "\n",
        "#X_train, X_test, y_train, y_test = train_test_split(train_x, train_y, test_size=0.2)\n",
        "X_train,  y_train = data_x, data_y\n",
        "#X_test=np.load('Copy of xtrain.npy')\n",
        "#y_test=np.load('Copy of ytrain.npy')\n",
        "\n",
        "\n",
        "print(X_train.shape)\n",
        "print(y_train.shape)\n",
        "\n"
      ],
      "execution_count": 8,
      "outputs": [
        {
          "output_type": "stream",
          "text": [
            "(5040, 300, 300, 3)\n",
            "(5040,)\n"
          ],
          "name": "stdout"
        }
      ]
    },
    {
      "cell_type": "code",
      "metadata": {
        "id": "KEqXDn_-Cohg",
        "colab_type": "code",
        "colab": {}
      },
      "source": [
        "X_test=np.load('Copy of xtrain.npy')\n",
        "y_test=np.load('Copy of ytrain.npy')"
      ],
      "execution_count": 0,
      "outputs": []
    },
    {
      "cell_type": "code",
      "metadata": {
        "id": "vCI23a9euM12",
        "colab_type": "code",
        "colab": {}
      },
      "source": [
        "#X_train,  y_train = data_x, data_y\n",
        "X_test=np.load('raw_x_train.npy')\n",
        "y_test=np.load('raw_y_train.npy')"
      ],
      "execution_count": 0,
      "outputs": []
    },
    {
      "cell_type": "code",
      "metadata": {
        "id": "bp8INPwY9Bm3",
        "colab_type": "code",
        "outputId": "d92a000c-9f89-4b7f-c0b0-d72c6d6b1aa7",
        "colab": {
          "base_uri": "https://localhost:8080/",
          "height": 85
        }
      },
      "source": [
        "print(len(X_train))\n",
        "print(len(y_train))\n",
        "print(len(X_test))\n",
        "print(len(y_test))"
      ],
      "execution_count": 11,
      "outputs": [
        {
          "output_type": "stream",
          "text": [
            "5040\n",
            "5040\n",
            "2669\n",
            "2669\n"
          ],
          "name": "stdout"
        }
      ]
    },
    {
      "cell_type": "code",
      "metadata": {
        "id": "jcbAIDa4OGjv",
        "colab_type": "code",
        "colab": {
          "base_uri": "https://localhost:8080/",
          "height": 34
        },
        "outputId": "787f01af-5f70-4473-e524-95488ee3dca0"
      },
      "source": [
        "print(np.unique(y_test))"
      ],
      "execution_count": 12,
      "outputs": [
        {
          "output_type": "stream",
          "text": [
            "[0. 1.]\n"
          ],
          "name": "stdout"
        }
      ]
    },
    {
      "cell_type": "code",
      "metadata": {
        "id": "Q_vFpdGS9QRN",
        "colab_type": "code",
        "outputId": "2580eefa-77c3-48eb-8cfc-df362e582689",
        "colab": {
          "base_uri": "https://localhost:8080/",
          "height": 85
        }
      },
      "source": [
        "print(X_train.shape)\n",
        "print(y_train.shape)\n",
        "print(X_test.shape)\n",
        "print(y_test.shape)"
      ],
      "execution_count": 14,
      "outputs": [
        {
          "output_type": "stream",
          "text": [
            "(5040, 300, 300, 3)\n",
            "(5040,)\n",
            "(2669, 300, 300, 3)\n",
            "(2669,)\n"
          ],
          "name": "stdout"
        }
      ]
    },
    {
      "cell_type": "markdown",
      "metadata": {
        "id": "TjlL-TMDlUDU",
        "colab_type": "text"
      },
      "source": [
        "**Pre-Processing**"
      ]
    },
    {
      "cell_type": "code",
      "metadata": {
        "id": "pR0tRV4P2XtI",
        "colab_type": "code",
        "colab": {}
      },
      "source": [
        "X_train = X_train.astype('float32')\n",
        "X_test = X_test.astype('float32')\n",
        "X_train = X_train / 255.0\n",
        "X_test = X_test / 255.0"
      ],
      "execution_count": 0,
      "outputs": []
    },
    {
      "cell_type": "code",
      "metadata": {
        "id": "kSY7SyaQ2blN",
        "colab_type": "code",
        "colab": {}
      },
      "source": [
        "y_train = np_utils.to_categorical(y_train)\n",
        "y_test = np_utils.to_categorical(y_test)\n",
        "num_classes = y_test.shape[1]"
      ],
      "execution_count": 0,
      "outputs": []
    },
    {
      "cell_type": "code",
      "metadata": {
        "id": "AcXLq5oOlHJD",
        "colab_type": "code",
        "colab": {}
      },
      "source": [
        "from keras.optimizers import adam\n",
        "from keras import regularizers"
      ],
      "execution_count": 0,
      "outputs": []
    },
    {
      "cell_type": "markdown",
      "metadata": {
        "id": "KUZNDYUkmwkm",
        "colab_type": "text"
      },
      "source": [
        "**AlexNet Model**"
      ]
    },
    {
      "cell_type": "code",
      "metadata": {
        "id": "yfGBezzS2kal",
        "colab_type": "code",
        "colab": {
          "base_uri": "https://localhost:8080/",
          "height": 54
        },
        "outputId": "29951d31-ce9e-426f-c451-6965cf053bb8"
      },
      "source": [
        "\"\"\"\n",
        "def AlexNet_model():\n",
        "\n",
        "    model = Sequential()\n",
        "    \n",
        "    model.add(Conv2D(32, (3, 3), input_shape=(300, 300, 3), activation='relu',padding='same'))\n",
        "    model.add(MaxPooling2D(pool_size=(2, 2)))\n",
        "    \n",
        "    \n",
        "    model.add(Conv2D(32, (3, 3), activation='relu',padding='same'))\n",
        "    model.add(MaxPooling2D(pool_size=(2, 2)))\n",
        "    \n",
        "    model.add(Conv2D(64, (3, 3), activation='relu',padding='same'))\n",
        "    model.add(MaxPooling2D(pool_size=(2, 2))) \n",
        "     \n",
        "\n",
        "    \n",
        "    model.add(Conv2D(128, (3, 3), activation='relu',padding='same'))\n",
        "    model.add(MaxPooling2D(pool_size=(2, 2)))\n",
        "    \n",
        "    model.add(Conv2D(128, (3, 3), activation='relu',padding='same'))\n",
        "    model.add(MaxPooling2D(pool_size=(2, 2)))\n",
        "    \n",
        "    model.add(Dropout(0.25))\n",
        "    model.add(Flatten())\n",
        "    \n",
        "    model.add(Dense(1024, activation='relu'))\n",
        "    model.add(Dense(512, activation='relu'))\n",
        "    \n",
        "    model.add(Dense(num_classes, activation='sigmoid'))\n",
        "    \n",
        "    lrate = 0.0001\n",
        "    epochs=20\n",
        "    decay = lrate/epochs\n",
        "    optimizer =adam(lr=0.0001)\n",
        "    #sgd = SGD(lr=lrate, momentum=0.9, decay=decay, nesterov=False)\n",
        "    model.compile(loss='categorical_crossentropy', optimizer=optimizer, metrics=['accuracy'])\n",
        "    \n",
        "    return model\n",
        "  \"\"\""
      ],
      "execution_count": 18,
      "outputs": [
        {
          "output_type": "execute_result",
          "data": {
            "text/plain": [
              "\"\\ndef AlexNet_model():\\n\\n    model = Sequential()\\n    \\n    model.add(Conv2D(32, (3, 3), input_shape=(300, 300, 3), activation='relu',padding='same'))\\n    model.add(MaxPooling2D(pool_size=(2, 2)))\\n    \\n    \\n    model.add(Conv2D(32, (3, 3), activation='relu',padding='same'))\\n    model.add(MaxPooling2D(pool_size=(2, 2)))\\n    \\n    model.add(Conv2D(64, (3, 3), activation='relu',padding='same'))\\n    model.add(MaxPooling2D(pool_size=(2, 2))) \\n     \\n\\n    \\n    model.add(Conv2D(128, (3, 3), activation='relu',padding='same'))\\n    model.add(MaxPooling2D(pool_size=(2, 2)))\\n    \\n    model.add(Conv2D(128, (3, 3), activation='relu',padding='same'))\\n    model.add(MaxPooling2D(pool_size=(2, 2)))\\n    \\n    model.add(Dropout(0.25))\\n    model.add(Flatten())\\n    \\n    model.add(Dense(1024, activation='relu'))\\n    model.add(Dense(512, activation='relu'))\\n    \\n    model.add(Dense(num_classes, activation='sigmoid'))\\n    \\n    lrate = 0.0001\\n    epochs=20\\n    decay = lrate/epochs\\n    optimizer =adam(lr=0.0001)\\n    #sgd = SGD(lr=lrate, momentum=0.9, decay=decay, nesterov=False)\\n    model.compile(loss='categorical_crossentropy', optimizer=optimizer, metrics=['accuracy'])\\n    \\n    return model\\n  \""
            ]
          },
          "metadata": {
            "tags": []
          },
          "execution_count": 18
        }
      ]
    },
    {
      "cell_type": "code",
      "metadata": {
        "id": "NHM1stCYFKev",
        "colab_type": "code",
        "colab": {}
      },
      "source": [
        "def AlexNet_model():\n",
        "\n",
        "    model = Sequential()\n",
        "    \n",
        "    model.add(Conv2D(32, (11, 11), strides=4,input_shape=(300, 300, 3), activation='relu',padding='same'))\n",
        "    model.add(MaxPooling2D(pool_size=(2, 2)))\n",
        "    \n",
        "    \n",
        "    model.add(Conv2D(32, (3, 3), activation='relu',padding='same'))\n",
        "    model.add(MaxPooling2D(pool_size=(2, 2)))\n",
        "    \n",
        "    model.add(Conv2D(64, (3, 3), activation='relu',padding='same'))\n",
        "    model.add(MaxPooling2D(pool_size=(2, 2))) \n",
        "     \n",
        "\n",
        "    \n",
        "    model.add(Conv2D(128, (3, 3), activation='relu',padding='same'))\n",
        "    model.add(MaxPooling2D(pool_size=(2, 2)))\n",
        "    \n",
        "    model.add(Conv2D(128, (3, 3), activation='relu',padding='same'))\n",
        "    model.add(MaxPooling2D(pool_size=(2, 2)))\n",
        "    \n",
        "    model.add(Dropout(0.25))\n",
        "    model.add(Flatten())\n",
        "    \n",
        "    model.add(Dense(1024, activation='relu'))\n",
        "    model.add(Dense(512, activation='relu'))\n",
        "    \n",
        "    model.add(Dense(num_classes, activation='sigmoid'))\n",
        "    \n",
        "    lrate = 0.0001\n",
        "    epochs=20\n",
        "    decay = lrate/epochs\n",
        "    optimizer =adam(lr=0.0001)\n",
        "    #sgd = SGD(lr=lrate, momentum=0.9, decay=decay, nesterov=False)\n",
        "    model.compile(loss='binary_crossentropy', optimizer=optimizer, metrics=['accuracy'])\n",
        "    \n",
        "    return model"
      ],
      "execution_count": 0,
      "outputs": []
    },
    {
      "cell_type": "code",
      "metadata": {
        "id": "0y0g6PGiCeGl",
        "colab_type": "code",
        "colab": {}
      },
      "source": [
        ""
      ],
      "execution_count": 0,
      "outputs": []
    },
    {
      "cell_type": "code",
      "metadata": {
        "id": "GqWsPnU-Bv5k",
        "colab_type": "code",
        "colab": {}
      },
      "source": [
        "#os.chdir('/content/drive/My Drive/Colab Notebooks/DL_Practical_MLP/Results/MLP_CIFAR10')\n",
        "import keras\n",
        "import keras.callbacks\n",
        "from keras.callbacks import TensorBoard\n",
        "from keras.callbacks import EarlyStopping,ModelCheckpoint\n",
        "mc = ModelCheckpoint('PCB_ALEXNET.h5', monitor='val_loss', mode='min', verbose=1, save_best_only=True)\n",
        "filepath = \"saved-model-{epoch:02d}.h5\"\n",
        "mc1 = ModelCheckpoint(filepath, monitor='val_loss', mode='min', verbose=1, save_best_only=True  ,period=10)\n",
        "cv = keras.callbacks.CSVLogger('PCB_ALEXNET.h5.csv', separator=',', append=False)\n",
        "es = keras.callbacks.EarlyStopping(monitor='val_loss', min_delta=0, patience=75,  mode='auto')\n"
      ],
      "execution_count": 0,
      "outputs": []
    },
    {
      "cell_type": "code",
      "metadata": {
        "id": "SuRI-isDYqfR",
        "colab_type": "code",
        "outputId": "9d299b30-de42-4dd7-a874-5394222aafbe",
        "colab": {
          "base_uri": "https://localhost:8080/",
          "height": 54
        }
      },
      "source": [
        "\n",
        "\"\"\"\n",
        "import os\n",
        "os.chdir(\"/content/drive/My Drive/PCB\")\n",
        "from keras.callbacks import ModelCheckpoint, TensorBoard, CSVLogger\n",
        "mc = ModelCheckpoint('cipharAlexNetNet.h5', monitor='val_loss', save_best_only=True)\n",
        "tb = TensorBoard(log_dir='/content/cnn/My Drive/logs', write_graph=True, write_grads=False, write_images=False, embeddings_freq=0, update_freq='epoch')\n",
        "cv = CSVLogger('cipharAlexNetNet.csv',append=True)\n",
        "\"\"\""
      ],
      "execution_count": 59,
      "outputs": [
        {
          "output_type": "execute_result",
          "data": {
            "text/plain": [
              "'\\nimport os\\nos.chdir(\"/content/drive/My Drive/PCB\")\\nfrom keras.callbacks import ModelCheckpoint, TensorBoard, CSVLogger\\nmc = ModelCheckpoint(\\'cipharAlexNetNet.h5\\', monitor=\\'val_loss\\', save_best_only=True)\\ntb = TensorBoard(log_dir=\\'/content/cnn/My Drive/logs\\', write_graph=True, write_grads=False, write_images=False, embeddings_freq=0, update_freq=\\'epoch\\')\\ncv = CSVLogger(\\'cipharAlexNetNet.csv\\',append=True)\\n'"
            ]
          },
          "metadata": {
            "tags": []
          },
          "execution_count": 59
        }
      ]
    },
    {
      "cell_type": "code",
      "metadata": {
        "id": "Pay7jAJizkA1",
        "colab_type": "code",
        "outputId": "c544eec6-9d2f-4241-88c4-f88bfa4133a9",
        "colab": {
          "base_uri": "https://localhost:8080/",
          "height": 34
        }
      },
      "source": [
        "from keras.callbacks import ModelCheckpoint\n",
        "\"\"\"\n",
        "model = Sequential()\n",
        "model.add(Dense(10, input_dim=784, kernel_initializer='uniform'))\n",
        "model.add(Activation('softmax'))\n",
        "model.compile(loss='categorical_crossentropy', optimizer='rmsprop')\n",
        "\"\"\"\n",
        "'''\n",
        "saves the model weights after each epoch if the validation loss decreased\n",
        "'''\n",
        "#checkpointer = ModelCheckpoint(filepath='/tmp/weights.hdf5', verbose=1, save_best_only=True)\n",
        "#model.fit(x_train, y_train, batch_size=128, epochs=20, verbose=0, validation_data=(X_test, Y_test), callbacks=[checkpointer])\n",
        "\n"
      ],
      "execution_count": 60,
      "outputs": [
        {
          "output_type": "execute_result",
          "data": {
            "text/plain": [
              "'\\nsaves the model weights after each epoch if the validation loss decreased\\n'"
            ]
          },
          "metadata": {
            "tags": []
          },
          "execution_count": 60
        }
      ]
    },
    {
      "cell_type": "code",
      "metadata": {
        "id": "gPLGgrRuDBSx",
        "colab_type": "code",
        "colab": {}
      },
      "source": [
        "from keras.losses import mean_squared_error,mean_absolute_error,mean_squared_logarithmic_error,categorical_hinge,hinge,squared_hinge,categorical_crossentropy\n",
        "from keras.optimizers import adam,adadelta,adagrad,adamax,sgd\n",
        "#model.compile(loss=\"categorical_crossentropy\", optimizer=\"sgd\", metrics=['accuracy'])\n"
      ],
      "execution_count": 0,
      "outputs": []
    },
    {
      "cell_type": "code",
      "metadata": {
        "id": "luwtQNV4DTpE",
        "colab_type": "code",
        "outputId": "5ea5af1e-2216-4eea-ee92-67ccef2b5b0a",
        "colab": {
          "base_uri": "https://localhost:8080/",
          "height": 680
        }
      },
      "source": [
        "model=AlexNet_model()\n",
        "print(model.summary())\n"
      ],
      "execution_count": 62,
      "outputs": [
        {
          "output_type": "stream",
          "text": [
            "Model: \"sequential_2\"\n",
            "_________________________________________________________________\n",
            "Layer (type)                 Output Shape              Param #   \n",
            "=================================================================\n",
            "conv2d_6 (Conv2D)            (None, 75, 75, 32)        11648     \n",
            "_________________________________________________________________\n",
            "max_pooling2d_6 (MaxPooling2 (None, 37, 37, 32)        0         \n",
            "_________________________________________________________________\n",
            "conv2d_7 (Conv2D)            (None, 37, 37, 32)        9248      \n",
            "_________________________________________________________________\n",
            "max_pooling2d_7 (MaxPooling2 (None, 18, 18, 32)        0         \n",
            "_________________________________________________________________\n",
            "conv2d_8 (Conv2D)            (None, 18, 18, 64)        18496     \n",
            "_________________________________________________________________\n",
            "max_pooling2d_8 (MaxPooling2 (None, 9, 9, 64)          0         \n",
            "_________________________________________________________________\n",
            "conv2d_9 (Conv2D)            (None, 9, 9, 128)         73856     \n",
            "_________________________________________________________________\n",
            "max_pooling2d_9 (MaxPooling2 (None, 4, 4, 128)         0         \n",
            "_________________________________________________________________\n",
            "conv2d_10 (Conv2D)           (None, 4, 4, 128)         147584    \n",
            "_________________________________________________________________\n",
            "max_pooling2d_10 (MaxPooling (None, 2, 2, 128)         0         \n",
            "_________________________________________________________________\n",
            "dropout_2 (Dropout)          (None, 2, 2, 128)         0         \n",
            "_________________________________________________________________\n",
            "flatten_2 (Flatten)          (None, 512)               0         \n",
            "_________________________________________________________________\n",
            "dense_4 (Dense)              (None, 1024)              525312    \n",
            "_________________________________________________________________\n",
            "dense_5 (Dense)              (None, 512)               524800    \n",
            "_________________________________________________________________\n",
            "dense_6 (Dense)              (None, 2)                 1026      \n",
            "=================================================================\n",
            "Total params: 1,311,970\n",
            "Trainable params: 1,311,970\n",
            "Non-trainable params: 0\n",
            "_________________________________________________________________\n",
            "None\n"
          ],
          "name": "stdout"
        }
      ]
    },
    {
      "cell_type": "code",
      "metadata": {
        "id": "61Uf2JPb5iMu",
        "colab_type": "code",
        "colab": {}
      },
      "source": [
        "class WeightCallback(keras.callbacks.Callback):\n",
        "    def on_epoch_end(self, epoch, logs={}):\n",
        "        if epoch%1 == 0:\n",
        "            fig, axs = plt.subplots(1,10, figsize=(10*1.5,1.5), facecolor='w', edgecolor='k')\n",
        "            for i in range(10):\n",
        "                axs[i].set_title(\"Digit : \" + str(i))\n",
        "                digit = model.layers[0].get_weights()[0][:,i]\n",
        "                digit = ((digit - digit.min())*(1/(digit.max() - digit.min()))*255).astype(\"uint8\")\n",
        "                axs[i].imshow(digit.reshape(300,300,3),cmap=\"viridis\")\n",
        "weight = WeightCallback()"
      ],
      "execution_count": 0,
      "outputs": []
    },
    {
      "cell_type": "code",
      "metadata": {
        "id": "CelvtHxR-oDv",
        "colab_type": "code",
        "colab": {}
      },
      "source": [
        "checkpointer = ModelCheckpoint(filepath='/tmp/weights.hdf5', verbose=1, save_best_only=True)"
      ],
      "execution_count": 0,
      "outputs": []
    },
    {
      "cell_type": "markdown",
      "metadata": {
        "id": "WDGm8asglYaj",
        "colab_type": "text"
      },
      "source": [
        "0**Keras Callbacks**"
      ]
    },
    {
      "cell_type": "code",
      "metadata": {
        "id": "KM31YNZh4UB6",
        "colab_type": "code",
        "outputId": "78e2ad69-4d31-4fc3-a3d9-a68196aa83a1",
        "colab": {
          "base_uri": "https://localhost:8080/",
          "height": 1000
        }
      },
      "source": [
        "history=model.fit(X_train, y_train, validation_split=(0.2), epochs=35, batch_size=32,verbose=2,callbacks=[checkpointer])\n",
        "#model.fit(x_train, y_train, batch_size=128, epochs=20, verbose=0, validation_data=(X_test, Y_test), callbacks=[checkpointer])\n",
        "\n",
        "\n"
      ],
      "execution_count": 65,
      "outputs": [
        {
          "output_type": "stream",
          "text": [
            "Train on 4032 samples, validate on 1008 samples\n",
            "Epoch 1/35\n",
            " - 5s - loss: 0.6688 - acc: 0.6230 - val_loss: 0.9419 - val_acc: 0.0000e+00\n",
            "\n",
            "Epoch 00001: val_loss improved from inf to 0.94189, saving model to /tmp/weights.hdf5\n",
            "Epoch 2/35\n",
            " - 4s - loss: 0.6613 - acc: 0.6250 - val_loss: 1.0100 - val_acc: 0.0000e+00\n",
            "\n",
            "Epoch 00002: val_loss did not improve from 0.94189\n",
            "Epoch 3/35\n",
            " - 4s - loss: 0.6418 - acc: 0.6494 - val_loss: 0.7851 - val_acc: 0.3725\n",
            "\n",
            "Epoch 00003: val_loss improved from 0.94189 to 0.78514, saving model to /tmp/weights.hdf5\n",
            "Epoch 4/35\n",
            " - 4s - loss: 0.5523 - acc: 0.7393 - val_loss: 0.7304 - val_acc: 0.3800\n",
            "\n",
            "Epoch 00004: val_loss improved from 0.78514 to 0.73044, saving model to /tmp/weights.hdf5\n",
            "Epoch 5/35\n",
            " - 4s - loss: 0.5042 - acc: 0.7660 - val_loss: 0.8096 - val_acc: 0.5184\n",
            "\n",
            "Epoch 00005: val_loss did not improve from 0.73044\n",
            "Epoch 6/35\n",
            " - 4s - loss: 0.3988 - acc: 0.8426 - val_loss: 0.4738 - val_acc: 0.7912\n",
            "\n",
            "Epoch 00006: val_loss improved from 0.73044 to 0.47382, saving model to /tmp/weights.hdf5\n",
            "Epoch 7/35\n",
            " - 4s - loss: 0.3248 - acc: 0.8801 - val_loss: 0.4959 - val_acc: 0.7728\n",
            "\n",
            "Epoch 00007: val_loss did not improve from 0.47382\n",
            "Epoch 8/35\n",
            " - 4s - loss: 0.2702 - acc: 0.9056 - val_loss: 0.4329 - val_acc: 0.8075\n",
            "\n",
            "Epoch 00008: val_loss improved from 0.47382 to 0.43290, saving model to /tmp/weights.hdf5\n",
            "Epoch 9/35\n",
            " - 4s - loss: 0.2401 - acc: 0.9173 - val_loss: 0.4560 - val_acc: 0.7986\n",
            "\n",
            "Epoch 00009: val_loss did not improve from 0.43290\n",
            "Epoch 10/35\n",
            " - 4s - loss: 0.2284 - acc: 0.9225 - val_loss: 0.4035 - val_acc: 0.8150\n",
            "\n",
            "Epoch 00010: val_loss improved from 0.43290 to 0.40352, saving model to /tmp/weights.hdf5\n",
            "Epoch 11/35\n",
            " - 4s - loss: 0.2058 - acc: 0.9266 - val_loss: 0.3251 - val_acc: 0.8304\n",
            "\n",
            "Epoch 00011: val_loss improved from 0.40352 to 0.32514, saving model to /tmp/weights.hdf5\n",
            "Epoch 12/35\n",
            " - 4s - loss: 0.1938 - acc: 0.9294 - val_loss: 0.3758 - val_acc: 0.8294\n",
            "\n",
            "Epoch 00012: val_loss did not improve from 0.32514\n",
            "Epoch 13/35\n",
            " - 4s - loss: 0.1761 - acc: 0.9361 - val_loss: 0.2982 - val_acc: 0.8651\n",
            "\n",
            "Epoch 00013: val_loss improved from 0.32514 to 0.29821, saving model to /tmp/weights.hdf5\n",
            "Epoch 14/35\n",
            " - 4s - loss: 0.1526 - acc: 0.9435 - val_loss: 0.3452 - val_acc: 0.8418\n",
            "\n",
            "Epoch 00014: val_loss did not improve from 0.29821\n",
            "Epoch 15/35\n",
            " - 4s - loss: 0.1367 - acc: 0.9485 - val_loss: 0.2999 - val_acc: 0.8681\n",
            "\n",
            "Epoch 00015: val_loss did not improve from 0.29821\n",
            "Epoch 16/35\n",
            " - 4s - loss: 0.1224 - acc: 0.9542 - val_loss: 0.3887 - val_acc: 0.8423\n",
            "\n",
            "Epoch 00016: val_loss did not improve from 0.29821\n",
            "Epoch 17/35\n",
            " - 4s - loss: 0.1105 - acc: 0.9604 - val_loss: 0.2152 - val_acc: 0.9048\n",
            "\n",
            "Epoch 00017: val_loss improved from 0.29821 to 0.21524, saving model to /tmp/weights.hdf5\n",
            "Epoch 18/35\n",
            " - 4s - loss: 0.0987 - acc: 0.9658 - val_loss: 0.2915 - val_acc: 0.8839\n",
            "\n",
            "Epoch 00018: val_loss did not improve from 0.21524\n",
            "Epoch 19/35\n",
            " - 4s - loss: 0.0907 - acc: 0.9652 - val_loss: 0.1906 - val_acc: 0.9276\n",
            "\n",
            "Epoch 00019: val_loss improved from 0.21524 to 0.19065, saving model to /tmp/weights.hdf5\n",
            "Epoch 20/35\n",
            " - 4s - loss: 0.0793 - acc: 0.9680 - val_loss: 0.4093 - val_acc: 0.8447\n",
            "\n",
            "Epoch 00020: val_loss did not improve from 0.19065\n",
            "Epoch 21/35\n",
            " - 4s - loss: 0.0655 - acc: 0.9726 - val_loss: 0.2366 - val_acc: 0.9097\n",
            "\n",
            "Epoch 00021: val_loss did not improve from 0.19065\n",
            "Epoch 22/35\n",
            " - 4s - loss: 0.0678 - acc: 0.9750 - val_loss: 0.2291 - val_acc: 0.9187\n",
            "\n",
            "Epoch 00022: val_loss did not improve from 0.19065\n",
            "Epoch 23/35\n",
            " - 4s - loss: 0.0597 - acc: 0.9784 - val_loss: 0.2364 - val_acc: 0.9147\n",
            "\n",
            "Epoch 00023: val_loss did not improve from 0.19065\n",
            "Epoch 24/35\n",
            " - 4s - loss: 0.0655 - acc: 0.9750 - val_loss: 0.3483 - val_acc: 0.8854\n",
            "\n",
            "Epoch 00024: val_loss did not improve from 0.19065\n",
            "Epoch 25/35\n",
            " - 4s - loss: 0.0522 - acc: 0.9813 - val_loss: 0.1671 - val_acc: 0.9405\n",
            "\n",
            "Epoch 00025: val_loss improved from 0.19065 to 0.16706, saving model to /tmp/weights.hdf5\n",
            "Epoch 26/35\n",
            " - 4s - loss: 0.0438 - acc: 0.9828 - val_loss: 0.2910 - val_acc: 0.9067\n",
            "\n",
            "Epoch 00026: val_loss did not improve from 0.16706\n",
            "Epoch 27/35\n",
            " - 4s - loss: 0.0420 - acc: 0.9830 - val_loss: 0.2357 - val_acc: 0.9236\n",
            "\n",
            "Epoch 00027: val_loss did not improve from 0.16706\n",
            "Epoch 28/35\n",
            " - 4s - loss: 0.0452 - acc: 0.9826 - val_loss: 0.2725 - val_acc: 0.9167\n",
            "\n",
            "Epoch 00028: val_loss did not improve from 0.16706\n",
            "Epoch 29/35\n",
            " - 4s - loss: 0.0292 - acc: 0.9911 - val_loss: 0.3419 - val_acc: 0.9147\n",
            "\n",
            "Epoch 00029: val_loss did not improve from 0.16706\n",
            "Epoch 30/35\n",
            " - 4s - loss: 0.0361 - acc: 0.9869 - val_loss: 0.3558 - val_acc: 0.9008\n",
            "\n",
            "Epoch 00030: val_loss did not improve from 0.16706\n",
            "Epoch 31/35\n",
            " - 4s - loss: 0.0391 - acc: 0.9846 - val_loss: 0.3907 - val_acc: 0.8998\n",
            "\n",
            "Epoch 00031: val_loss did not improve from 0.16706\n",
            "Epoch 32/35\n",
            " - 4s - loss: 0.0427 - acc: 0.9831 - val_loss: 0.2081 - val_acc: 0.9474\n",
            "\n",
            "Epoch 00032: val_loss did not improve from 0.16706\n",
            "Epoch 33/35\n",
            " - 4s - loss: 0.0283 - acc: 0.9905 - val_loss: 0.2740 - val_acc: 0.9375\n",
            "\n",
            "Epoch 00033: val_loss did not improve from 0.16706\n",
            "Epoch 34/35\n",
            " - 4s - loss: 0.0263 - acc: 0.9893 - val_loss: 0.2620 - val_acc: 0.9320\n",
            "\n",
            "Epoch 00034: val_loss did not improve from 0.16706\n",
            "Epoch 35/35\n",
            " - 4s - loss: 0.0252 - acc: 0.9912 - val_loss: 0.3211 - val_acc: 0.9236\n",
            "\n",
            "Epoch 00035: val_loss did not improve from 0.16706\n"
          ],
          "name": "stdout"
        }
      ]
    },
    {
      "cell_type": "code",
      "metadata": {
        "id": "cDDalmCAwJyg",
        "colab_type": "code",
        "outputId": "caeaefeb-47e7-4f2a-f696-b608e05bd125",
        "colab": {
          "base_uri": "https://localhost:8080/",
          "height": 119
        }
      },
      "source": [
        "model.load_weights('/tmp/weights.hdf5')\n",
        "train_loss,train_acc=model.evaluate(X_train,y_train)\n",
        "print(train_loss)\n",
        "print(train_acc)\n",
        "test_loss,test_acc=model.evaluate(X_test,y_test)\n",
        "print(test_loss)\n",
        "print(test_acc)"
      ],
      "execution_count": 66,
      "outputs": [
        {
          "output_type": "stream",
          "text": [
            "5040/5040 [==============================] - 3s 682us/step\n",
            "0.05702619344422904\n",
            "0.979563492063492\n",
            "2669/2669 [==============================] - 2s 686us/step\n",
            "2.2450634252625825\n",
            "0.858748594979393\n"
          ],
          "name": "stdout"
        }
      ]
    },
    {
      "cell_type": "markdown",
      "metadata": {
        "id": "UdDUSm89wjvi",
        "colab_type": "text"
      },
      "source": [
        "### Loss and Accuracy Curves"
      ]
    },
    {
      "cell_type": "code",
      "metadata": {
        "id": "q1OD6P3SwUK3",
        "colab_type": "code",
        "colab": {}
      },
      "source": [
        "train_loss = history.history['loss']\n",
        "train_acc = history.history['acc']\n",
        "val_loss = history.history['val_loss']\n",
        "val_acc = history.history['val_acc']\n",
        "xc=range(35)"
      ],
      "execution_count": 0,
      "outputs": []
    },
    {
      "cell_type": "code",
      "metadata": {
        "id": "ObPDOrVlwZ54",
        "colab_type": "code",
        "colab": {
          "base_uri": "https://localhost:8080/",
          "height": 296
        },
        "outputId": "ab13019c-3476-470c-9932-69a939b69243"
      },
      "source": [
        "import matplotlib.pyplot as plt\n",
        "%matplotlib inline\n",
        "plt.plot(xc, train_loss)\n",
        "plt.plot(xc, val_loss)\n",
        "plt.xlabel(\"Epoch\")\n",
        "plt.ylabel(\"Loss\")\n",
        "plt.legend(['train','val'])"
      ],
      "execution_count": 68,
      "outputs": [
        {
          "output_type": "execute_result",
          "data": {
            "text/plain": [
              "<matplotlib.legend.Legend at 0x7f75504c86a0>"
            ]
          },
          "metadata": {
            "tags": []
          },
          "execution_count": 68
        },
        {
          "output_type": "display_data",
          "data": {
            "image/png": "[encoded data removed]",
            "text/plain": [
              "<Figure size 432x288 with 1 Axes>"
            ]
          },
          "metadata": {
            "tags": []
          }
        }
      ]
    },
    {
      "cell_type": "code",
      "metadata": {
        "id": "ehQ7ykS3wiJ6",
        "colab_type": "code",
        "colab": {
          "base_uri": "https://localhost:8080/",
          "height": 296
        },
        "outputId": "da149531-d652-45cb-977b-f7c45b77b546"
      },
      "source": [
        "import matplotlib.pyplot as plt\n",
        "%matplotlib inline\n",
        "plt.plot(xc, train_acc)\n",
        "plt.plot(xc, val_acc)\n",
        "plt.xlabel(\"Epoch\")\n",
        "plt.ylabel(\"Acc\")\n",
        "plt.legend(['train','val'])"
      ],
      "execution_count": 69,
      "outputs": [
        {
          "output_type": "execute_result",
          "data": {
            "text/plain": [
              "<matplotlib.legend.Legend at 0x7f755045ac18>"
            ]
          },
          "metadata": {
            "tags": []
          },
          "execution_count": 69
        },
        {
          "output_type": "display_data",
          "data": {
            "image/png": "[encoded data removed]",
            "text/plain": [
              "<Figure size 432x288 with 1 Axes>"
            ]
          },
          "metadata": {
            "tags": []
          }
        }
      ]
    },
    {
      "cell_type": "code",
      "metadata": {
        "id": "ZLI9oGNgWHrX",
        "colab_type": "code",
        "colab": {}
      },
      "source": [
        "\n"
      ],
      "execution_count": 0,
      "outputs": []
    },
    {
      "cell_type": "code",
      "metadata": {
        "id": "C4dlZL121e5L",
        "colab_type": "code",
        "outputId": "e0c93bba-dbed-4aa9-f9cc-d696e8c9b080",
        "colab": {
          "base_uri": "https://localhost:8080/",
          "height": 170
        }
      },
      "source": [
        "import numpy as np\n",
        "from sklearn.metrics import classification_report,confusion_matrix\n",
        "import itertools\n",
        "\n",
        "Y_pred = model.predict(X_test)\n",
        "#print(np.unique(Y_pred))\n",
        "y_pred = np.argmax(Y_pred, axis=1)\n",
        "target_names = ['class 0', 'class 1']\n",
        "print(classification_report(np.argmax(y_test,axis=1), y_pred,target_names=target_names))"
      ],
      "execution_count": 70,
      "outputs": [
        {
          "output_type": "stream",
          "text": [
            "              precision    recall  f1-score   support\n",
            "\n",
            "     class 0       0.28      0.94      0.43       149\n",
            "     class 1       1.00      0.85      0.92      2520\n",
            "\n",
            "    accuracy                           0.86      2669\n",
            "   macro avg       0.64      0.90      0.67      2669\n",
            "weighted avg       0.96      0.86      0.89      2669\n",
            "\n"
          ],
          "name": "stdout"
        }
      ]
    },
    {
      "cell_type": "code",
      "metadata": {
        "id": "QgNg1yTJGzBH",
        "colab_type": "code",
        "colab": {}
      },
      "source": [
        "\n"
      ],
      "execution_count": 0,
      "outputs": []
    },
    {
      "cell_type": "code",
      "metadata": {
        "id": "DzxV4PA_xifu",
        "colab_type": "code",
        "colab": {}
      },
      "source": [
        ""
      ],
      "execution_count": 0,
      "outputs": []
    }
  ]
}